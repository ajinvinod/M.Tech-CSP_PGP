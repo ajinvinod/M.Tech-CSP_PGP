{
  "nbformat": 4,
  "nbformat_minor": 0,
  "metadata": {
    "colab": {
      "name": "3model_1.ipynb",
      "provenance": [],
      "collapsed_sections": [],
      "authorship_tag": "ABX9TyO5CGXtKU87Co2WFjftGWHs",
      "include_colab_link": true
    },
    "kernelspec": {
      "name": "python3",
      "display_name": "Python 3"
    },
    "language_info": {
      "name": "python"
    },
    "accelerator": "GPU",
    "gpuClass": "standard"
  },
  "cells": [
    {
      "cell_type": "markdown",
      "metadata": {
        "id": "view-in-github",
        "colab_type": "text"
      },
      "source": [
        "<a href=\"https://colab.research.google.com/github/ajinvinodk/M.Tech-CSP_PGP/blob/main/3model_2_50epochs.ipynb\" target=\"_parent\"><img src=\"https://colab.research.google.com/assets/colab-badge.svg\" alt=\"Open In Colab\"/></a>"
      ]
    },
    {
      "cell_type": "code",
      "execution_count": 1,
      "metadata": {
        "id": "wG1UB9mwmabV"
      },
      "outputs": [],
      "source": [
        "from tensorflow.keras.models import Sequential\n",
        "from tensorflow.keras.layers import BatchNormalization\n",
        "from tensorflow.keras.layers import Conv2D\n",
        "from tensorflow.keras.layers import MaxPooling2D\n",
        "from tensorflow.keras.layers import Activation\n",
        "from tensorflow.keras.layers import Flatten\n",
        "from tensorflow.keras.layers import Dropout\n",
        "from tensorflow.keras.layers import Dense\n",
        "from tensorflow.keras.optimizers import Adam\n",
        "from tensorflow.keras.losses import categorical_crossentropy\n",
        "from tensorflow.keras.losses import binary_crossentropy\n",
        "from tensorflow.keras.utils import to_categorical\n",
        "from tensorflow.keras.datasets import mnist\n",
        "import tensorflow as tf\n",
        "import numpy as np\n",
        "import time\n",
        "import sys\n",
        "import matplotlib.pyplot as plt"
      ]
    },
    {
      "cell_type": "code",
      "source": [
        "((trainX, trainY), (testX, testY)) = mnist.load_data()\n",
        "trainX = trainX.astype(\"float32\") / 255.0\n",
        "testX = testX.astype(\"float32\") / 255.0\n",
        "trainY = trainX.reshape(60000,784)\n",
        "testY = testX.reshape(10000,784)\n",
        "input_1 = (trainX[:,:14,:])\n",
        "input_2 = (trainX[:,14:28,:])"
      ],
      "metadata": {
        "id": "k6ryK8pPmcOv",
        "colab": {
          "base_uri": "https://localhost:8080/"
        },
        "outputId": "ea2706b8-2162-48af-d824-fd7545ac12b5"
      },
      "execution_count": 2,
      "outputs": [
        {
          "output_type": "stream",
          "name": "stdout",
          "text": [
            "Downloading data from https://storage.googleapis.com/tensorflow/tf-keras-datasets/mnist.npz\n",
            "11493376/11490434 [==============================] - 0s 0us/step\n",
            "11501568/11490434 [==============================] - 0s 0us/step\n"
          ]
        }
      ]
    },
    {
      "cell_type": "code",
      "source": [
        "def build_model_1(width, height, depth):\n",
        "\tinputShape = (width,height, depth)\t\n",
        "\tmodel = Sequential([\n",
        "\t\tFlatten(input_shape = inputShape),\n",
        "    Dense(64,activation = 'relu')\n",
        "\t])\n",
        "\treturn model"
      ],
      "metadata": {
        "id": "YHUsswi7mvb3"
      },
      "execution_count": 3,
      "outputs": []
    },
    {
      "cell_type": "code",
      "source": [
        "def build_model_2(width, height, classes):\n",
        "\tinputShape = (width,height)\n",
        "\tmodel = Sequential([\n",
        "\t\tFlatten(input_shape = inputShape),\n",
        "    Dense(392,activation = 'relu'),\n",
        "\t\tDense(classes, activation= \"softmax\")\n",
        "\t])\n",
        "\treturn model"
      ],
      "metadata": {
        "id": "3FW5ip4wmwjB"
      },
      "execution_count": 4,
      "outputs": []
    },
    {
      "cell_type": "code",
      "source": [
        "EPOCHS = 50\n",
        "BS = 32\n",
        "INIT_LR = 1e-3\n",
        "print(\"[INFO] creating model...\")\n",
        "model1= build_model_1(14,28,1)\n",
        "model2= build_model_1(14,28,1)\n",
        "model3= build_model_2(128,1,784)\n",
        "opt = Adam(learning_rate=INIT_LR, decay=INIT_LR / EPOCHS)"
      ],
      "metadata": {
        "colab": {
          "base_uri": "https://localhost:8080/"
        },
        "id": "4rt4G6Idp5jg",
        "outputId": "0f6d0c94-ffad-44e2-885a-ddd955344acc"
      },
      "execution_count": 5,
      "outputs": [
        {
          "output_type": "stream",
          "name": "stdout",
          "text": [
            "[INFO] creating model...\n"
          ]
        }
      ]
    },
    {
      "cell_type": "code",
      "source": [
        "def step(X1,X2,y):\n",
        "    with tf.GradientTape(persistent=True) as tape:\n",
        "      pred1 = model1(X1)\n",
        "      pred2 = model2(X2)\n",
        "      \n",
        "      X3 = tf.keras.layers.concatenate([pred1,pred2])\n",
        "      \n",
        "      pred3 = model3(X3)\n",
        "      #print(len(pred3))\n",
        "      loss = binary_crossentropy(y, pred3)\n",
        "    \n",
        "    grads3 = tape.gradient(loss, model3.trainable_variables)\n",
        "    #print(len(grads3))\n",
        "    grads1 = tape.gradient(loss, model1.trainable_variables)\n",
        "    grads2 = tape.gradient(loss, model2.trainable_variables)\n",
        "    #grads1 = tape.gradient(grads3[:int(len(grads3)/2)], model1.trainable_variables)\n",
        "    #grads2 = tape.gradient(grads3[int(len(grads3)/2):], model2.trainable_variables)\n",
        "    \n",
        "    #print(\"loss is = \",grads1)\n",
        "    \n",
        "    #grads2 = tape.gradient(grads3, model2.trainable_variables)\n",
        "    opt.apply_gradients(zip(grads3, model3.trainable_variables))\n",
        "    #\n",
        "    \n",
        "    \n",
        "    opt.apply_gradients(zip(grads1, model1.trainable_variables))\n",
        "    opt.apply_gradients(zip(grads2, model2.trainable_variables)) "
      ],
      "metadata": {
        "id": "dHnoeKgaq593"
      },
      "execution_count": 6,
      "outputs": []
    },
    {
      "cell_type": "code",
      "source": [
        "#numUpdates = int(trainX.shape[0] / BS)\n",
        "numUpdates = int(trainX.shape[0] / BS)\n",
        "for epoch in range(0, EPOCHS):\n",
        "\tprint(\"[INFO] starting epoch {}/{}...\".format(epoch + 1, EPOCHS), end=\"\")\n",
        "\tsys.stdout.flush()\n",
        "\tepochStart = time.time()\n",
        "\tfor i in range(0, numUpdates):\n",
        "\t\t#print()\n",
        "\t\t\n",
        "\t\tstart = i * BS\n",
        "\t\tend = start + BS\n",
        "\t\t#print(\"inp_1 = \",input_1[start:end])\n",
        "\t\t#print(\"inp_2 = \",input_2[start:end])\n",
        "\t\tstep(input_1[start:end],input_2[start:end], trainY[start:end])\n",
        "\tepochEnd = time.time()\n",
        "\telapsed = (epochEnd - epochStart) / 60.0\n",
        "\tprint(\"took {:.4} minutes\".format(elapsed))"
      ],
      "metadata": {
        "id": "d4eAav-zq6x1",
        "colab": {
          "base_uri": "https://localhost:8080/"
        },
        "outputId": "d966f6db-84ed-46a1-e173-d3794fa2b74d"
      },
      "execution_count": 7,
      "outputs": [
        {
          "output_type": "stream",
          "name": "stdout",
          "text": [
            "[INFO] starting epoch 1/50...took 0.7522 minutes\n",
            "[INFO] starting epoch 2/50...took 0.6197 minutes\n",
            "[INFO] starting epoch 3/50...took 0.6169 minutes\n",
            "[INFO] starting epoch 4/50...took 0.61 minutes\n",
            "[INFO] starting epoch 5/50...took 0.6099 minutes\n",
            "[INFO] starting epoch 6/50...took 0.6203 minutes\n",
            "[INFO] starting epoch 7/50...took 0.6083 minutes\n",
            "[INFO] starting epoch 8/50...took 0.6082 minutes\n",
            "[INFO] starting epoch 9/50...took 0.6193 minutes\n",
            "[INFO] starting epoch 10/50...took 0.6096 minutes\n",
            "[INFO] starting epoch 11/50...took 0.6161 minutes\n",
            "[INFO] starting epoch 12/50...took 0.608 minutes\n",
            "[INFO] starting epoch 13/50...took 0.6078 minutes\n",
            "[INFO] starting epoch 14/50...took 0.6214 minutes\n",
            "[INFO] starting epoch 15/50...took 0.6082 minutes\n",
            "[INFO] starting epoch 16/50...took 0.6096 minutes\n",
            "[INFO] starting epoch 17/50...took 0.6127 minutes\n",
            "[INFO] starting epoch 18/50...took 0.6043 minutes\n",
            "[INFO] starting epoch 19/50...took 0.609 minutes\n",
            "[INFO] starting epoch 20/50...took 0.6036 minutes\n",
            "[INFO] starting epoch 21/50...took 0.6002 minutes\n",
            "[INFO] starting epoch 22/50...took 0.609 minutes\n",
            "[INFO] starting epoch 23/50...took 0.6037 minutes\n",
            "[INFO] starting epoch 24/50...took 0.6053 minutes\n",
            "[INFO] starting epoch 25/50...took 0.5958 minutes\n",
            "[INFO] starting epoch 26/50...took 0.5945 minutes\n",
            "[INFO] starting epoch 27/50...took 0.6017 minutes\n",
            "[INFO] starting epoch 28/50...took 0.5894 minutes\n",
            "[INFO] starting epoch 29/50...took 0.5922 minutes\n",
            "[INFO] starting epoch 30/50...took 0.5952 minutes\n",
            "[INFO] starting epoch 31/50...took 0.592 minutes\n",
            "[INFO] starting epoch 32/50...took 0.5926 minutes\n",
            "[INFO] starting epoch 33/50...took 0.5966 minutes\n",
            "[INFO] starting epoch 34/50...took 0.5897 minutes\n",
            "[INFO] starting epoch 35/50...took 0.5972 minutes\n",
            "[INFO] starting epoch 36/50...took 0.5885 minutes\n",
            "[INFO] starting epoch 37/50...took 0.5889 minutes\n",
            "[INFO] starting epoch 38/50...took 0.5965 minutes\n",
            "[INFO] starting epoch 39/50...took 0.5847 minutes\n",
            "[INFO] starting epoch 40/50...took 0.5915 minutes\n",
            "[INFO] starting epoch 41/50...took 0.5936 minutes\n",
            "[INFO] starting epoch 42/50...took 0.5877 minutes\n",
            "[INFO] starting epoch 43/50...took 0.5912 minutes\n",
            "[INFO] starting epoch 44/50...took 0.59 minutes\n",
            "[INFO] starting epoch 45/50...took 0.5886 minutes\n",
            "[INFO] starting epoch 46/50...took 0.5917 minutes\n",
            "[INFO] starting epoch 47/50...took 0.5902 minutes\n",
            "[INFO] starting epoch 48/50...took 0.5844 minutes\n",
            "[INFO] starting epoch 49/50...took 0.5962 minutes\n",
            "[INFO] starting epoch 50/50...took 0.5874 minutes\n"
          ]
        }
      ]
    },
    {
      "cell_type": "code",
      "source": [
        "# in order to calculate accuracy using Keras' functions we first need\n",
        "# to compile the model\n",
        "#model.compile(optimizer=opt, loss=categorical_crossentropy,\n",
        "\t#metrics=[\"acc\"])\n",
        "# now that the model is compiled we can compute the accuracy\n",
        "#(loss, acc) = model.evaluate(testX, testY)\n",
        "#print(\"[INFO] test accuracy: {:.4f}\".format(acc))"
      ],
      "metadata": {
        "id": "D0UmOctKk74i"
      },
      "execution_count": 8,
      "outputs": []
    },
    {
      "cell_type": "code",
      "source": [
        "input_test_1 = (testX[:,:14,:])\n",
        "input_test_2 = (testX[:,14:28,:])"
      ],
      "metadata": {
        "id": "MX4iO_GhBb8h"
      },
      "execution_count": 9,
      "outputs": []
    },
    {
      "cell_type": "code",
      "source": [
        "def step1(X1,X2,y):\n",
        "    with tf.GradientTape(persistent=True) as tape:\n",
        "      pred11 = model1(X1)\n",
        "      pred22 = model2(X2)\n",
        "      \n",
        "      X3 = tf.keras.layers.concatenate([pred11,pred22])\n",
        "      \n",
        "      pred33 = model3(X3)\n",
        "      #print(len(pred3))\n",
        "      loss = binary_crossentropy(y, pred33)\n",
        "      return pred33"
      ],
      "metadata": {
        "id": "LerD0YaS_NMr"
      },
      "execution_count": 10,
      "outputs": []
    },
    {
      "cell_type": "code",
      "source": [
        ""
      ],
      "metadata": {
        "id": "zD4M3Al3DMm8"
      },
      "execution_count": 10,
      "outputs": []
    },
    {
      "cell_type": "code",
      "source": [
        "out = step1(input_test_1[1:32],input_test_2[1:32], testY[1:32])"
      ],
      "metadata": {
        "id": "TgYZZbTWBrjp"
      },
      "execution_count": 11,
      "outputs": []
    },
    {
      "cell_type": "code",
      "source": [
        "ppp = tf.reshape(out[5],[28,28])"
      ],
      "metadata": {
        "id": "jPiQQLW4EoK9"
      },
      "execution_count": 12,
      "outputs": []
    },
    {
      "cell_type": "code",
      "source": [
        "plt.imshow(ppp)\n",
        "plt.gray()"
      ],
      "metadata": {
        "colab": {
          "base_uri": "https://localhost:8080/",
          "height": 265
        },
        "id": "jhZv_zegFVfC",
        "outputId": "1ed8a69f-ce6f-4ad7-c1fc-62ad64b5d468"
      },
      "execution_count": 13,
      "outputs": [
        {
          "output_type": "display_data",
          "data": {
            "text/plain": [
              "<Figure size 432x288 with 1 Axes>"
            ],
            "image/png": "[encoded data removed]"
          },
          "metadata": {
            "needs_background": "light"
          }
        }
      ]
    },
    {
      "cell_type": "code",
      "source": [
        "ppp1 = tf.reshape(testY[6],[28,28])"
      ],
      "metadata": {
        "id": "R3li0YO2Fm31"
      },
      "execution_count": 14,
      "outputs": []
    },
    {
      "cell_type": "code",
      "source": [
        "plt.imshow(ppp1)\n",
        "plt.gray()"
      ],
      "metadata": {
        "colab": {
          "base_uri": "https://localhost:8080/",
          "height": 265
        },
        "id": "1AJyvOVRFf3B",
        "outputId": "f398af95-d9c5-4df0-d989-65d22a6c05ea"
      },
      "execution_count": 15,
      "outputs": [
        {
          "output_type": "display_data",
          "data": {
            "text/plain": [
              "<Figure size 432x288 with 1 Axes>"
            ],
            "image/png": "[encoded data removed]"
          },
          "metadata": {
            "needs_background": "light"
          }
        }
      ]
    }
  ]
}