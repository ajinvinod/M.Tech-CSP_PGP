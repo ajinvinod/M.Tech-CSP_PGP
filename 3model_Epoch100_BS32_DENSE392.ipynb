{
  "cells": [
    {
      "cell_type": "markdown",
      "metadata": {
        "id": "view-in-github",
        "colab_type": "text"
      },
      "source": [
        "<a href=\"https://colab.research.google.com/github/ajinvinodk/M.Tech-CSP_PGP/blob/main/3model_Epoch100_BS32_DENSE392.ipynb\" target=\"_parent\"><img src=\"https://colab.research.google.com/assets/colab-badge.svg\" alt=\"Open In Colab\"/></a>"
      ]
    },
    {
      "cell_type": "code",
      "execution_count": 8,
      "metadata": {
        "id": "wG1UB9mwmabV"
      },
      "outputs": [],
      "source": [
        "from tensorflow.keras.datasets import mnist\n",
        "import tensorflow as tf\n",
        "import numpy as np\n",
        "import time\n",
        "import sys\n",
        "import matplotlib.pyplot as plt\n",
        "from tensorflow.keras.models import Sequential\n",
        "#from tensorflow.keras.layers import BatchNormalization\n",
        "#from tensorflow.keras.layers import Conv2D\n",
        "#from tensorflow.keras.layers import MaxPooling2D\n",
        "from tensorflow.keras.layers import Activation\n",
        "from tensorflow.keras.layers import Flatten\n",
        "from tensorflow.keras.layers import Dropout\n",
        "from tensorflow.keras.layers import Dense\n",
        "from tensorflow.keras.optimizers import Adam\n",
        "from tensorflow.keras.losses import categorical_crossentropy\n",
        "from tensorflow.keras.losses import binary_crossentropy\n",
        "#from tensorflow.keras.utils import to_categorical"
      ]
    },
    {
      "cell_type": "code",
      "execution_count": 9,
      "metadata": {
        "id": "k6ryK8pPmcOv"
      },
      "outputs": [],
      "source": [
        "((trainX, trainY), (testX, testY)) = mnist.load_data()\n",
        "trainX = trainX.astype(\"float32\") / 255.0\n",
        "testX = testX.astype(\"float32\") / 255.0\n",
        "trainY = trainX.reshape(60000,784)\n",
        "testY = testX.reshape(10000,784)\n",
        "input_1 = (trainX[:,:14,:])\n",
        "input_2 = (trainX[:,14:28,:])"
      ]
    },
    {
      "cell_type": "code",
      "execution_count": 10,
      "metadata": {
        "id": "YHUsswi7mvb3"
      },
      "outputs": [],
      "source": [
        "def build_model_1(width, height, depth):\n",
        "\tinputShape = (width,height, depth)\t\n",
        "\tmodel = Sequential([\n",
        "\t\tFlatten(input_shape = inputShape),\n",
        "    Dense(392,activation = 'relu')\n",
        "\t])\n",
        "\treturn model"
      ]
    },
    {
      "cell_type": "code",
      "execution_count": 11,
      "metadata": {
        "id": "3FW5ip4wmwjB"
      },
      "outputs": [],
      "source": [
        "def build_model_2(width, height, classes):\n",
        "\tinputShape = (width,height)\n",
        "\tmodel = Sequential([\n",
        "\t\tFlatten(input_shape = inputShape),\n",
        "    Dense(784,activation = 'relu'),\n",
        "\t\tDense(classes, activation= \"softmax\")\n",
        "\t])\n",
        "\treturn model"
      ]
    },
    {
      "cell_type": "code",
      "execution_count": 12,
      "metadata": {
        "colab": {
          "base_uri": "https://localhost:8080/"
        },
        "id": "4rt4G6Idp5jg",
        "outputId": "aecff8bb-5d7d-4e53-e95e-f03d4150e3b1"
      },
      "outputs": [
        {
          "output_type": "stream",
          "name": "stdout",
          "text": [
            "[INFO] creating model...\n"
          ]
        }
      ],
      "source": [
        "EPOCHS = 100\n",
        "BS = 32\n",
        "INIT_LR = 1e-3\n",
        "print(\"[INFO] creating model...\")\n",
        "model1= build_model_1(14,28,1)\n",
        "model2= build_model_1(14,28,1)\n",
        "model3= build_model_2(784,1,784)\n",
        "opt = Adam(learning_rate=INIT_LR, decay=INIT_LR / EPOCHS)"
      ]
    },
    {
      "cell_type": "code",
      "execution_count": 13,
      "metadata": {
        "id": "dHnoeKgaq593"
      },
      "outputs": [],
      "source": [
        "def step(X1,X2,y):\n",
        "    with tf.GradientTape(persistent=True) as tape:\n",
        "      pred1 = model1(X1)\n",
        "      pred2 = model2(X2)\n",
        "      \n",
        "      X3 = tf.keras.layers.concatenate([pred1,pred2])\n",
        "      \n",
        "      pred3 = model3(X3)\n",
        "      #print(len(pred3))\n",
        "      loss = binary_crossentropy(y, pred3)\n",
        "    \n",
        "    grads3 = tape.gradient(loss, model3.trainable_variables)\n",
        "    #print(len(grads3))\n",
        "    grads1 = tape.gradient(loss, model1.trainable_variables)\n",
        "    grads2 = tape.gradient(loss, model2.trainable_variables)\n",
        "    #grads1 = tape.gradient(grads3[:int(len(grads3)/2)], model1.trainable_variables)\n",
        "    #grads2 = tape.gradient(grads3[int(len(grads3)/2):], model2.trainable_variables)\n",
        "    \n",
        "    #print(\"loss is = \",grads1)\n",
        "    \n",
        "    #grads2 = tape.gradient(grads3, model2.trainable_variables)\n",
        "    opt.apply_gradients(zip(grads3, model3.trainable_variables))\n",
        "    #\n",
        "    \n",
        "    \n",
        "    opt.apply_gradients(zip(grads1, model1.trainable_variables))\n",
        "    opt.apply_gradients(zip(grads2, model2.trainable_variables)) "
      ]
    },
    {
      "cell_type": "code",
      "execution_count": 14,
      "metadata": {
        "colab": {
          "base_uri": "https://localhost:8080/"
        },
        "id": "d4eAav-zq6x1",
        "outputId": "a2bd3b6d-349d-471e-af83-93a0f68f878f"
      },
      "outputs": [
        {
          "output_type": "stream",
          "name": "stdout",
          "text": [
            "[INFO] starting epoch 1/100...took 0.6214 minutes\n",
            "[INFO] starting epoch 2/100...took 0.6067 minutes\n",
            "[INFO] starting epoch 3/100...took 0.61 minutes\n",
            "[INFO] starting epoch 4/100...took 0.6129 minutes\n",
            "[INFO] starting epoch 5/100...took 0.6343 minutes\n",
            "[INFO] starting epoch 6/100...took 0.5898 minutes\n",
            "[INFO] starting epoch 7/100...took 0.5941 minutes\n",
            "[INFO] starting epoch 8/100...took 0.5922 minutes\n",
            "[INFO] starting epoch 9/100...took 0.603 minutes\n",
            "[INFO] starting epoch 10/100...took 0.5877 minutes\n",
            "[INFO] starting epoch 11/100...took 0.59 minutes\n",
            "[INFO] starting epoch 12/100...took 0.59 minutes\n",
            "[INFO] starting epoch 13/100...took 0.5967 minutes\n",
            "[INFO] starting epoch 14/100...took 0.5877 minutes\n",
            "[INFO] starting epoch 15/100...took 0.5858 minutes\n",
            "[INFO] starting epoch 16/100...took 0.5928 minutes\n",
            "[INFO] starting epoch 17/100...took 0.595 minutes\n",
            "[INFO] starting epoch 18/100...took 0.5865 minutes\n",
            "[INFO] starting epoch 19/100...took 0.5863 minutes\n",
            "[INFO] starting epoch 20/100...took 0.5916 minutes\n",
            "[INFO] starting epoch 21/100...took 0.6183 minutes\n",
            "[INFO] starting epoch 22/100...took 0.5807 minutes\n",
            "[INFO] starting epoch 23/100...took 0.5845 minutes\n",
            "[INFO] starting epoch 24/100...took 0.595 minutes\n",
            "[INFO] starting epoch 25/100...took 0.5886 minutes\n",
            "[INFO] starting epoch 26/100...took 0.5837 minutes\n",
            "[INFO] starting epoch 27/100...took 0.5812 minutes\n",
            "[INFO] starting epoch 28/100...took 0.5917 minutes\n",
            "[INFO] starting epoch 29/100...took 0.58 minutes\n",
            "[INFO] starting epoch 30/100...took 0.5828 minutes\n",
            "[INFO] starting epoch 31/100...took 0.5786 minutes\n",
            "[INFO] starting epoch 32/100...took 0.5892 minutes\n",
            "[INFO] starting epoch 33/100...took 0.5803 minutes\n",
            "[INFO] starting epoch 34/100...took 0.5828 minutes\n",
            "[INFO] starting epoch 35/100...took 0.5765 minutes\n",
            "[INFO] starting epoch 36/100...took 0.5844 minutes\n",
            "[INFO] starting epoch 37/100...took 0.579 minutes\n",
            "[INFO] starting epoch 38/100...took 0.5741 minutes\n",
            "[INFO] starting epoch 39/100...took 0.5789 minutes\n",
            "[INFO] starting epoch 40/100...took 0.5865 minutes\n",
            "[INFO] starting epoch 41/100...took 0.5755 minutes\n",
            "[INFO] starting epoch 42/100...took 0.5759 minutes\n",
            "[INFO] starting epoch 43/100...took 0.5802 minutes\n",
            "[INFO] starting epoch 44/100...took 0.5845 minutes\n",
            "[INFO] starting epoch 45/100...took 0.576 minutes\n",
            "[INFO] starting epoch 46/100...took 0.577 minutes\n",
            "[INFO] starting epoch 47/100...took 0.575 minutes\n",
            "[INFO] starting epoch 48/100...took 0.584 minutes\n",
            "[INFO] starting epoch 49/100...took 0.5769 minutes\n",
            "[INFO] starting epoch 50/100...took 0.5742 minutes\n",
            "[INFO] starting epoch 51/100...took 0.5772 minutes\n",
            "[INFO] starting epoch 52/100...took 0.5922 minutes\n",
            "[INFO] starting epoch 53/100...took 0.5828 minutes\n",
            "[INFO] starting epoch 54/100...took 0.5796 minutes\n",
            "[INFO] starting epoch 55/100...took 0.5766 minutes\n",
            "[INFO] starting epoch 56/100...took 0.5829 minutes\n",
            "[INFO] starting epoch 57/100...took 0.5769 minutes\n",
            "[INFO] starting epoch 58/100...took 0.5751 minutes\n",
            "[INFO] starting epoch 59/100...took 0.5766 minutes\n",
            "[INFO] starting epoch 60/100...took 0.5864 minutes\n",
            "[INFO] starting epoch 61/100...took 0.5774 minutes\n",
            "[INFO] starting epoch 62/100...took 0.5752 minutes\n",
            "[INFO] starting epoch 63/100...took 0.5759 minutes\n",
            "[INFO] starting epoch 64/100...took 0.5829 minutes\n",
            "[INFO] starting epoch 65/100...took 0.574 minutes\n",
            "[INFO] starting epoch 66/100...took 0.5724 minutes\n",
            "[INFO] starting epoch 67/100...took 0.5739 minutes\n",
            "[INFO] starting epoch 68/100...took 0.579 minutes\n",
            "[INFO] starting epoch 69/100...took 0.5789 minutes\n",
            "[INFO] starting epoch 70/100...took 0.5763 minutes\n",
            "[INFO] starting epoch 71/100...took 0.5755 minutes\n",
            "[INFO] starting epoch 72/100...took 0.5866 minutes\n",
            "[INFO] starting epoch 73/100...took 0.5769 minutes\n",
            "[INFO] starting epoch 74/100...took 0.5798 minutes\n",
            "[INFO] starting epoch 75/100...took 0.6091 minutes\n",
            "[INFO] starting epoch 76/100...took 0.577 minutes\n",
            "[INFO] starting epoch 77/100...took 0.5809 minutes\n",
            "[INFO] starting epoch 78/100...took 0.5785 minutes\n",
            "[INFO] starting epoch 79/100...took 0.5802 minutes\n",
            "[INFO] starting epoch 80/100...took 0.5768 minutes\n",
            "[INFO] starting epoch 81/100...took 0.5898 minutes\n",
            "[INFO] starting epoch 82/100...took 0.5806 minutes\n",
            "[INFO] starting epoch 83/100...took 0.5768 minutes\n",
            "[INFO] starting epoch 84/100...took 0.5762 minutes\n",
            "[INFO] starting epoch 85/100...took 0.5853 minutes\n",
            "[INFO] starting epoch 86/100...took 0.5799 minutes\n",
            "[INFO] starting epoch 87/100...took 0.6093 minutes\n",
            "[INFO] starting epoch 88/100...took 0.5796 minutes\n",
            "[INFO] starting epoch 89/100...took 0.5831 minutes\n",
            "[INFO] starting epoch 90/100...took 0.5762 minutes\n",
            "[INFO] starting epoch 91/100...took 0.5737 minutes\n",
            "[INFO] starting epoch 92/100...took 0.5751 minutes\n",
            "[INFO] starting epoch 93/100...took 0.5833 minutes\n",
            "[INFO] starting epoch 94/100...took 0.573 minutes\n",
            "[INFO] starting epoch 95/100...took 0.5773 minutes\n",
            "[INFO] starting epoch 96/100...took 0.5791 minutes\n",
            "[INFO] starting epoch 97/100...took 0.5877 minutes\n",
            "[INFO] starting epoch 98/100...took 0.5735 minutes\n",
            "[INFO] starting epoch 99/100...took 0.5789 minutes\n",
            "[INFO] starting epoch 100/100...took 0.5751 minutes\n"
          ]
        }
      ],
      "source": [
        "#numUpdates = int(trainX.shape[0] / BS)\n",
        "numUpdates = int(trainX.shape[0] / BS)\n",
        "for epoch in range(0, EPOCHS):\n",
        "\tprint(\"[INFO] starting epoch {}/{}...\".format(epoch + 1, EPOCHS), end=\"\")\n",
        "\tsys.stdout.flush()\n",
        "\tepochStart = time.time()\n",
        "\tfor i in range(0, numUpdates):\n",
        "\t\t#print()\n",
        "\t\t\n",
        "\t\tstart = i * BS\n",
        "\t\tend = start + BS\n",
        "\t\t#print(\"inp_1 = \",input_1[start:end])\n",
        "\t\t#print(\"inp_2 = \",input_2[start:end])\n",
        "\t\tstep(input_1[start:end],input_2[start:end], trainY[start:end])\n",
        "\tepochEnd = time.time()\n",
        "\telapsed = (epochEnd - epochStart) / 60.0\n",
        "\tprint(\"took {:.4} minutes\".format(elapsed))"
      ]
    },
    {
      "cell_type": "code",
      "execution_count": 15,
      "metadata": {
        "id": "D0UmOctKk74i"
      },
      "outputs": [],
      "source": [
        "# in order to calculate accuracy using Keras' functions we first need\n",
        "# to compile the model\n",
        "#model.compile(optimizer=opt, loss=categorical_crossentropy,\n",
        "\t#metrics=[\"acc\"])\n",
        "# now that the model is compiled we can compute the accuracy\n",
        "#(loss, acc) = model.evaluate(testX, testY)\n",
        "#print(\"[INFO] test accuracy: {:.4f}\".format(acc))"
      ]
    },
    {
      "cell_type": "code",
      "execution_count": 22,
      "metadata": {
        "id": "MX4iO_GhBb8h"
      },
      "outputs": [],
      "source": [
        "input_test_1 = (testX[:,:14,:])\n",
        "input_test_2 = (testX[:,14:28,:])"
      ]
    },
    {
      "cell_type": "code",
      "execution_count": 23,
      "metadata": {
        "id": "LerD0YaS_NMr"
      },
      "outputs": [],
      "source": [
        "def step1(X1,X2,y):\n",
        "    with tf.GradientTape(persistent=True) as tape:\n",
        "      pred11 = model1(X1)\n",
        "      pred22 = model2(X2)\n",
        "      \n",
        "      X3 = tf.keras.layers.concatenate([pred11,pred22])\n",
        "      \n",
        "      pred33 = model3(X3)\n",
        "      #print(len(pred3))\n",
        "      loss = binary_crossentropy(y, pred33)\n",
        "      return pred33"
      ]
    },
    {
      "cell_type": "code",
      "execution_count": 24,
      "metadata": {
        "id": "TgYZZbTWBrjp"
      },
      "outputs": [],
      "source": [
        "out = step1(input_test_1[0:31],input_test_2[0:31], testY[0:31])"
      ]
    },
    {
      "cell_type": "code",
      "execution_count": 25,
      "metadata": {
        "id": "jPiQQLW4EoK9"
      },
      "outputs": [],
      "source": [
        "predictd_output = tf.reshape(out[4],[28,28])\n",
        "input_given = tf.reshape(testY[4],[28,28])"
      ]
    },
    {
      "cell_type": "code",
      "execution_count": 20,
      "metadata": {
        "colab": {
          "base_uri": "https://localhost:8080/",
          "height": 268
        },
        "id": "xRoi9eqe25Fg",
        "outputId": "1a199f55-43e4-4560-b6d3-4b715c0181e3"
      },
      "outputs": [
        {
          "output_type": "display_data",
          "data": {
            "text/plain": [
              "<Figure size 720x288 with 2 Axes>"
            ],
            "image/png": "[encoded data removed]"
          },
          "metadata": {
            "needs_background": "light"
          }
        }
      ],
      "source": [
        "plt.figure(figsize=(10, 4))\n",
        "# display original\n",
        "ax = plt.subplot(1, 2, 1)\n",
        "plt.imshow(input_given)\n",
        "plt.title(\"input_given\")\n",
        "plt.gray()\n",
        "ax.get_xaxis().set_visible(False)\n",
        "ax.get_yaxis().set_visible(False)\n",
        "\n",
        "ax = plt.subplot(1, 2, 2)\n",
        "plt.imshow(predictd_output)\n",
        "plt.title(\"predictd_output\")\n",
        "plt.gray()\n",
        "ax.get_xaxis().set_visible(False)\n",
        "ax.get_yaxis().set_visible(False)"
      ]
    },
    {
      "cell_type": "code",
      "source": [
        "n = 10\n",
        "plt.figure(figsize=(20, 4))\n",
        "for i in range(n):\n",
        "  # display original\n",
        "  ax = plt.subplot(2, n, i + 1)\n",
        "  predictd_output = tf.reshape(out[i],[28,28])\n",
        "  input_given = tf.reshape(testY[i],[28,28])\n",
        "  plt.imshow(input_given)\n",
        "  plt.title(\"input_img\")\n",
        "  plt.gray()\n",
        "\n",
        "  ax.get_xaxis().set_visible(False)\n",
        "  ax.get_yaxis().set_visible(False)\n",
        "\n",
        "  # display reconstruction\n",
        "  ax = plt.subplot(2, n, i + 1 + n)\n",
        "  plt.imshow(predictd_output)\n",
        "  plt.title(\"decoded_img\")\n",
        "  plt.gray()\n",
        "  ax.get_xaxis().set_visible(False)\n",
        "  ax.get_yaxis().set_visible(False)\n",
        "plt.savefig(\"decoded_396_192_2_epoch\")\n",
        "plt.show()"
      ],
      "metadata": {
        "colab": {
          "base_uri": "https://localhost:8080/",
          "height": 264
        },
        "id": "8kW8IfMTQBt6",
        "outputId": "bc0cfc78-11a8-44c5-ae45-108e076a3ee4"
      },
      "execution_count": 21,
      "outputs": [
        {
          "output_type": "display_data",
          "data": {
            "text/plain": [
              "<Figure size 1440x288 with 20 Axes>"
            ],
            "image/png": "[encoded data removed]"
          },
          "metadata": {
            "needs_background": "light"
          }
        }
      ]
    }
  ],
  "metadata": {
    "accelerator": "GPU",
    "colab": {
      "collapsed_sections": [],
      "name": "3model_Epoch100_BS32_DENSE392.ipynb",
      "provenance": [],
      "authorship_tag": "ABX9TyNRqY3LBs7a1A20dkpaUEpc",
      "include_colab_link": true
    },
    "gpuClass": "standard",
    "kernelspec": {
      "display_name": "Python 3",
      "name": "python3"
    },
    "language_info": {
      "name": "python"
    }
  },
  "nbformat": 4,
  "nbformat_minor": 0
}