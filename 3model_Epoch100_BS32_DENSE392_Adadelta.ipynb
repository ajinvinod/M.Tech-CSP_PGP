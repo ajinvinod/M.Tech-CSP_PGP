{
  "cells": [
    {
      "cell_type": "markdown",
      "metadata": {
        "id": "view-in-github",
        "colab_type": "text"
      },
      "source": [
        "<a href=\"https://colab.research.google.com/github/ajinvinodk/M.Tech-CSP_PGP/blob/main/3model_Epoch100_BS32_DENSE392_Adadelta.ipynb\" target=\"_parent\"><img src=\"https://colab.research.google.com/assets/colab-badge.svg\" alt=\"Open In Colab\"/></a>"
      ]
    },
    {
      "cell_type": "code",
      "execution_count": 3,
      "metadata": {
        "id": "wG1UB9mwmabV"
      },
      "outputs": [],
      "source": [
        "from tensorflow.keras.datasets import mnist\n",
        "import tensorflow as tf\n",
        "import numpy as np\n",
        "import time\n",
        "import sys\n",
        "import matplotlib.pyplot as plt\n",
        "from tensorflow.keras.models import Sequential\n",
        "#from tensorflow.keras.layers import BatchNormalization\n",
        "#from tensorflow.keras.layers import Conv2D\n",
        "#from tensorflow.keras.layers import MaxPooling2D\n",
        "from tensorflow.keras.layers import Activation\n",
        "from tensorflow.keras.layers import Flatten\n",
        "from tensorflow.keras.layers import Dropout\n",
        "from tensorflow.keras.layers import Dense\n",
        "from tensorflow.keras.optimizers import Adam\n",
        "from tensorflow.keras.optimizers import Adadelta\n",
        "from tensorflow.keras.losses import categorical_crossentropy\n",
        "from tensorflow.keras.losses import binary_crossentropy\n",
        "#from tensorflow.keras.utils import to_categorical"
      ]
    },
    {
      "cell_type": "code",
      "source": [
        "from google.colab import drive\n",
        "drive.mount('/content/drive')"
      ],
      "metadata": {
        "id": "GhwiwiyZxWuw",
        "colab": {
          "base_uri": "https://localhost:8080/"
        },
        "outputId": "942cae2d-50b0-483a-c614-b8d55b432a0e"
      },
      "execution_count": 4,
      "outputs": [
        {
          "output_type": "stream",
          "name": "stdout",
          "text": [
            "Mounted at /content/drive\n"
          ]
        }
      ]
    },
    {
      "cell_type": "code",
      "execution_count": 5,
      "metadata": {
        "id": "k6ryK8pPmcOv",
        "colab": {
          "base_uri": "https://localhost:8080/"
        },
        "outputId": "b4af25e1-3faa-4696-a46e-34fd1892d751"
      },
      "outputs": [
        {
          "output_type": "stream",
          "name": "stdout",
          "text": [
            "Downloading data from https://storage.googleapis.com/tensorflow/tf-keras-datasets/mnist.npz\n",
            "11493376/11490434 [==============================] - 0s 0us/step\n",
            "11501568/11490434 [==============================] - 0s 0us/step\n"
          ]
        }
      ],
      "source": [
        "((trainX, trainY), (testX, testY)) = mnist.load_data()\n",
        "trainX = trainX.astype(\"float32\") / 255.0\n",
        "testX = testX.astype(\"float32\") / 255.0\n",
        "trainY = trainX.reshape(60000,784)\n",
        "testY = testX.reshape(10000,784)\n",
        "input_1 = (trainX[:,:14,:])\n",
        "input_2 = (trainX[:,14:28,:])"
      ]
    },
    {
      "cell_type": "code",
      "execution_count": 6,
      "metadata": {
        "id": "YHUsswi7mvb3"
      },
      "outputs": [],
      "source": [
        "def build_model_1(width, height, depth):\n",
        "\tinputShape = (width,height, depth)\t\n",
        "\tmodel = Sequential([\n",
        "\t\tFlatten(input_shape = inputShape),\n",
        "    Dense(392,activation = 'relu')\n",
        "\t])\n",
        "\treturn model"
      ]
    },
    {
      "cell_type": "code",
      "execution_count": 7,
      "metadata": {
        "id": "3FW5ip4wmwjB"
      },
      "outputs": [],
      "source": [
        "def build_model_2(width, height, classes):\n",
        "\tinputShape = (width,height)\n",
        "\tmodel = Sequential([\n",
        "\t\tFlatten(input_shape = inputShape),\n",
        "    Dense(784,activation = 'relu'),\n",
        "\t\tDense(classes, activation= \"softmax\")\n",
        "\t])\n",
        "\treturn model"
      ]
    },
    {
      "cell_type": "code",
      "execution_count": 8,
      "metadata": {
        "colab": {
          "base_uri": "https://localhost:8080/"
        },
        "id": "4rt4G6Idp5jg",
        "outputId": "75d18e1c-a212-4789-8859-eacbbc7adcc8"
      },
      "outputs": [
        {
          "output_type": "stream",
          "name": "stdout",
          "text": [
            "[INFO] creating model...\n"
          ]
        }
      ],
      "source": [
        "EPOCHS = 100\n",
        "BS = 32\n",
        "INIT_LR = 1e-3\n",
        "print(\"[INFO] creating model...\")\n",
        "model1= build_model_1(14,28,1)\n",
        "model2= build_model_1(14,28,1)\n",
        "model3= build_model_2(784,1,784)\n",
        "opt = Adadelta(learning_rate=INIT_LR, decay=INIT_LR / EPOCHS)"
      ]
    },
    {
      "cell_type": "code",
      "execution_count": 9,
      "metadata": {
        "id": "dHnoeKgaq593"
      },
      "outputs": [],
      "source": [
        "def step(X1,X2,y):\n",
        "    with tf.GradientTape(persistent=True) as tape:\n",
        "      pred1 = model1(X1)\n",
        "      pred2 = model2(X2)\n",
        "      \n",
        "      X3 = tf.keras.layers.concatenate([pred1,pred2])\n",
        "      \n",
        "      pred3 = model3(X3)\n",
        "      #print(len(pred3))\n",
        "      loss = binary_crossentropy(y, pred3)\n",
        "    \n",
        "    grads3 = tape.gradient(loss, model3.trainable_variables)\n",
        "    #print(len(grads3))\n",
        "    grads1 = tape.gradient(loss, model1.trainable_variables)\n",
        "    grads2 = tape.gradient(loss, model2.trainable_variables)\n",
        "    #grads1 = tape.gradient(grads3[:int(len(grads3)/2)], model1.trainable_variables)\n",
        "    #grads2 = tape.gradient(grads3[int(len(grads3)/2):], model2.trainable_variables)\n",
        "    \n",
        "    #print(\"loss is = \",grads1)\n",
        "    \n",
        "    #grads2 = tape.gradient(grads3, model2.trainable_variables)\n",
        "    opt.apply_gradients(zip(grads3, model3.trainable_variables))\n",
        "    #\n",
        "    \n",
        "    \n",
        "    opt.apply_gradients(zip(grads1, model1.trainable_variables))\n",
        "    opt.apply_gradients(zip(grads2, model2.trainable_variables)) "
      ]
    },
    {
      "cell_type": "code",
      "execution_count": 10,
      "metadata": {
        "colab": {
          "base_uri": "https://localhost:8080/"
        },
        "id": "d4eAav-zq6x1",
        "outputId": "c576be65-f073-40c1-d83d-af8f3a169757"
      },
      "outputs": [
        {
          "output_type": "stream",
          "name": "stdout",
          "text": [
            "[INFO] starting epoch 1/100...took 1.799 minutes\n",
            "[INFO] starting epoch 2/100...took 1.815 minutes\n",
            "[INFO] starting epoch 3/100...took 1.738 minutes\n",
            "[INFO] starting epoch 4/100...took 1.697 minutes\n",
            "[INFO] starting epoch 5/100...took 1.675 minutes\n",
            "[INFO] starting epoch 6/100...took 1.673 minutes\n",
            "[INFO] starting epoch 7/100...took 1.667 minutes\n",
            "[INFO] starting epoch 8/100...took 1.668 minutes\n",
            "[INFO] starting epoch 9/100...took 1.666 minutes\n",
            "[INFO] starting epoch 10/100...took 1.666 minutes\n",
            "[INFO] starting epoch 11/100...took 1.655 minutes\n",
            "[INFO] starting epoch 12/100...took 1.638 minutes\n",
            "[INFO] starting epoch 13/100...took 1.633 minutes\n",
            "[INFO] starting epoch 14/100...took 1.634 minutes\n",
            "[INFO] starting epoch 15/100...took 1.637 minutes\n",
            "[INFO] starting epoch 16/100...took 1.628 minutes\n",
            "[INFO] starting epoch 17/100...took 1.623 minutes\n",
            "[INFO] starting epoch 18/100...took 1.605 minutes\n",
            "[INFO] starting epoch 19/100...took 1.622 minutes\n",
            "[INFO] starting epoch 20/100...took 1.608 minutes\n",
            "[INFO] starting epoch 21/100...took 1.617 minutes\n",
            "[INFO] starting epoch 22/100...took 1.599 minutes\n",
            "[INFO] starting epoch 23/100...took 1.582 minutes\n",
            "[INFO] starting epoch 24/100...took 1.595 minutes\n",
            "[INFO] starting epoch 25/100...took 1.591 minutes\n",
            "[INFO] starting epoch 26/100...took 1.601 minutes\n",
            "[INFO] starting epoch 27/100...took 1.602 minutes\n",
            "[INFO] starting epoch 28/100...took 1.636 minutes\n",
            "[INFO] starting epoch 29/100...took 1.641 minutes\n",
            "[INFO] starting epoch 30/100...took 1.643 minutes\n",
            "[INFO] starting epoch 31/100...took 1.652 minutes\n",
            "[INFO] starting epoch 32/100...took 1.66 minutes\n",
            "[INFO] starting epoch 33/100...took 1.636 minutes\n",
            "[INFO] starting epoch 34/100...took 1.649 minutes\n",
            "[INFO] starting epoch 35/100...took 1.642 minutes\n",
            "[INFO] starting epoch 36/100...took 1.641 minutes\n",
            "[INFO] starting epoch 37/100...took 1.638 minutes\n",
            "[INFO] starting epoch 38/100...took 1.618 minutes\n",
            "[INFO] starting epoch 39/100...took 1.616 minutes\n",
            "[INFO] starting epoch 40/100...took 1.642 minutes\n",
            "[INFO] starting epoch 41/100...took 1.645 minutes\n",
            "[INFO] starting epoch 42/100...took 1.675 minutes\n",
            "[INFO] starting epoch 43/100...took 1.649 minutes\n",
            "[INFO] starting epoch 44/100...took 1.643 minutes\n",
            "[INFO] starting epoch 45/100...took 1.664 minutes\n",
            "[INFO] starting epoch 46/100...took 1.65 minutes\n",
            "[INFO] starting epoch 47/100...took 1.657 minutes\n",
            "[INFO] starting epoch 48/100...took 1.664 minutes\n",
            "[INFO] starting epoch 49/100...took 1.665 minutes\n",
            "[INFO] starting epoch 50/100...took 1.655 minutes\n",
            "[INFO] starting epoch 51/100...took 1.648 minutes\n",
            "[INFO] starting epoch 52/100...took 1.654 minutes\n",
            "[INFO] starting epoch 53/100...took 1.643 minutes\n",
            "[INFO] starting epoch 54/100...took 1.64 minutes\n",
            "[INFO] starting epoch 55/100...took 1.628 minutes\n",
            "[INFO] starting epoch 56/100...took 1.644 minutes\n",
            "[INFO] starting epoch 57/100...took 1.644 minutes\n",
            "[INFO] starting epoch 58/100...took 1.645 minutes\n",
            "[INFO] starting epoch 59/100...took 1.645 minutes\n",
            "[INFO] starting epoch 60/100...took 1.638 minutes\n",
            "[INFO] starting epoch 61/100...took 1.647 minutes\n",
            "[INFO] starting epoch 62/100...took 1.648 minutes\n",
            "[INFO] starting epoch 63/100...took 1.641 minutes\n",
            "[INFO] starting epoch 64/100...took 1.637 minutes\n",
            "[INFO] starting epoch 65/100...took 1.621 minutes\n",
            "[INFO] starting epoch 66/100...took 1.632 minutes\n",
            "[INFO] starting epoch 67/100...took 1.652 minutes\n",
            "[INFO] starting epoch 68/100...took 1.677 minutes\n",
            "[INFO] starting epoch 69/100...took 1.662 minutes\n",
            "[INFO] starting epoch 70/100...took 1.643 minutes\n",
            "[INFO] starting epoch 71/100...took 1.67 minutes\n",
            "[INFO] starting epoch 72/100...took 1.658 minutes\n",
            "[INFO] starting epoch 73/100...took 1.654 minutes\n",
            "[INFO] starting epoch 74/100...took 1.681 minutes\n",
            "[INFO] starting epoch 75/100...took 1.679 minutes\n",
            "[INFO] starting epoch 76/100...took 1.647 minutes\n",
            "[INFO] starting epoch 77/100...took 1.671 minutes\n",
            "[INFO] starting epoch 78/100...took 1.668 minutes\n",
            "[INFO] starting epoch 79/100...took 1.66 minutes\n",
            "[INFO] starting epoch 80/100...took 1.678 minutes\n",
            "[INFO] starting epoch 81/100...took 1.678 minutes\n",
            "[INFO] starting epoch 82/100...took 1.686 minutes\n",
            "[INFO] starting epoch 83/100...took 1.683 minutes\n",
            "[INFO] starting epoch 84/100...took 1.68 minutes\n",
            "[INFO] starting epoch 85/100...took 1.685 minutes\n",
            "[INFO] starting epoch 86/100...took 1.659 minutes\n",
            "[INFO] starting epoch 87/100...took 1.648 minutes\n",
            "[INFO] starting epoch 88/100...took 1.649 minutes\n",
            "[INFO] starting epoch 89/100...took 1.665 minutes\n",
            "[INFO] starting epoch 90/100...took 1.67 minutes\n",
            "[INFO] starting epoch 91/100...took 1.654 minutes\n",
            "[INFO] starting epoch 92/100...took 1.651 minutes\n",
            "[INFO] starting epoch 93/100...took 1.654 minutes\n",
            "[INFO] starting epoch 94/100...took 1.668 minutes\n",
            "[INFO] starting epoch 95/100...took 1.669 minutes\n",
            "[INFO] starting epoch 96/100...took 1.663 minutes\n",
            "[INFO] starting epoch 97/100...took 1.666 minutes\n",
            "[INFO] starting epoch 98/100...took 1.655 minutes\n",
            "[INFO] starting epoch 99/100...took 1.677 minutes\n",
            "[INFO] starting epoch 100/100...took 1.681 minutes\n"
          ]
        }
      ],
      "source": [
        "#numUpdates = int(trainX.shape[0] / BS)\n",
        "numUpdates = int(trainX.shape[0] / BS)\n",
        "for epoch in range(0, EPOCHS):\n",
        "\tprint(\"[INFO] starting epoch {}/{}...\".format(epoch + 1, EPOCHS), end=\"\")\n",
        "\tsys.stdout.flush()\n",
        "\tepochStart = time.time()\n",
        "\tfor i in range(0, numUpdates):\n",
        "\t\t#print()\n",
        "\t\t\n",
        "\t\tstart = i * BS\n",
        "\t\tend = start + BS\n",
        "\t\t#print(\"inp_1 = \",input_1[start:end])\n",
        "\t\t#print(\"inp_2 = \",input_2[start:end])\n",
        "\t\tstep(input_1[start:end],input_2[start:end], trainY[start:end])\n",
        "\tepochEnd = time.time()\n",
        "\telapsed = (epochEnd - epochStart) / 60.0\n",
        "\tprint(\"took {:.4} minutes\".format(elapsed))"
      ]
    },
    {
      "cell_type": "code",
      "execution_count": 11,
      "metadata": {
        "id": "D0UmOctKk74i"
      },
      "outputs": [],
      "source": [
        "# in order to calculate accuracy using Keras' functions we first need\n",
        "# to compile the model\n",
        "#model.compile(optimizer=opt, loss=categorical_crossentropy,\n",
        "\t#metrics=[\"acc\"])\n",
        "# now that the model is compiled we can compute the accuracy\n",
        "#(loss, acc) = model.evaluate(testX, testY)\n",
        "#print(\"[INFO] test accuracy: {:.4f}\".format(acc))"
      ]
    },
    {
      "cell_type": "code",
      "execution_count": 12,
      "metadata": {
        "id": "MX4iO_GhBb8h"
      },
      "outputs": [],
      "source": [
        "input_test_1 = (testX[:,:14,:])\n",
        "input_test_2 = (testX[:,14:28,:])"
      ]
    },
    {
      "cell_type": "code",
      "execution_count": 13,
      "metadata": {
        "id": "LerD0YaS_NMr"
      },
      "outputs": [],
      "source": [
        "def step1(X1,X2,y):\n",
        "    with tf.GradientTape(persistent=True) as tape:\n",
        "      pred11 = model1(X1)\n",
        "      pred22 = model2(X2)\n",
        "      \n",
        "      X3 = tf.keras.layers.concatenate([pred11,pred22])\n",
        "      \n",
        "      pred33 = model3(X3)\n",
        "      #print(len(pred3))\n",
        "      loss = binary_crossentropy(y, pred33)\n",
        "      return pred33"
      ]
    },
    {
      "cell_type": "code",
      "execution_count": 14,
      "metadata": {
        "id": "TgYZZbTWBrjp"
      },
      "outputs": [],
      "source": [
        "out = step1(input_test_1[0:31],input_test_2[0:31], testY[0:31])"
      ]
    },
    {
      "cell_type": "code",
      "execution_count": 15,
      "metadata": {
        "id": "jPiQQLW4EoK9"
      },
      "outputs": [],
      "source": [
        "predictd_output = tf.reshape(out[4],[28,28])\n",
        "input_given = tf.reshape(testY[4],[28,28])"
      ]
    },
    {
      "cell_type": "code",
      "execution_count": 16,
      "metadata": {
        "colab": {
          "base_uri": "https://localhost:8080/",
          "height": 268
        },
        "id": "xRoi9eqe25Fg",
        "outputId": "8240ea2e-b56d-4c30-f6ac-ec555bed84c7"
      },
      "outputs": [
        {
          "output_type": "display_data",
          "data": {
            "text/plain": [
              "<Figure size 720x288 with 2 Axes>"
            ],
            "image/png": "[encoded data removed]"
          },
          "metadata": {
            "needs_background": "light"
          }
        }
      ],
      "source": [
        "plt.figure(figsize=(10, 4))\n",
        "# display original\n",
        "ax = plt.subplot(1, 2, 1)\n",
        "plt.imshow(input_given)\n",
        "plt.title(\"input_given\")\n",
        "plt.gray()\n",
        "ax.get_xaxis().set_visible(False)\n",
        "ax.get_yaxis().set_visible(False)\n",
        "\n",
        "ax = plt.subplot(1, 2, 2)\n",
        "plt.imshow(predictd_output)\n",
        "plt.title(\"predictd_output\")\n",
        "plt.gray()\n",
        "ax.get_xaxis().set_visible(False)\n",
        "ax.get_yaxis().set_visible(False)"
      ]
    },
    {
      "cell_type": "code",
      "source": [
        "n = 10\n",
        "plt.figure(figsize=(20, 4))\n",
        "for i in range(n):\n",
        "  # display original\n",
        "  ax = plt.subplot(2, n, i + 1)\n",
        "  predictd_output = tf.reshape(out[i],[28,28])\n",
        "  input_given = tf.reshape(testY[i],[28,28])\n",
        "  plt.imshow(input_given)\n",
        "  plt.title(\"input_img\")\n",
        "  plt.gray()\n",
        "\n",
        "  ax.get_xaxis().set_visible(False)\n",
        "  ax.get_yaxis().set_visible(False)\n",
        "\n",
        "  # display reconstruction\n",
        "  ax = plt.subplot(2, n, i + 1 + n)\n",
        "  plt.imshow(predictd_output)\n",
        "  plt.title(\"decoded_img\")\n",
        "  plt.gray()\n",
        "  ax.get_xaxis().set_visible(False)\n",
        "  ax.get_yaxis().set_visible(False)\n",
        "plt.savefig(\"decoded_396_192_2_epoch.png\")\n",
        "plt.show()"
      ],
      "metadata": {
        "colab": {
          "base_uri": "https://localhost:8080/",
          "height": 264
        },
        "id": "8kW8IfMTQBt6",
        "outputId": "7f05fc9d-ec01-4d0e-d3fd-04e11af5ec4b"
      },
      "execution_count": 17,
      "outputs": [
        {
          "output_type": "display_data",
          "data": {
            "text/plain": [
              "<Figure size 1440x288 with 20 Axes>"
            ],
            "image/png": "[encoded data removed]"
          },
          "metadata": {
            "needs_background": "light"
          }
        }
      ]
    }
  ],
  "metadata": {
    "colab": {
      "collapsed_sections": [],
      "name": "3model_Epoch100_BS32_DENSE392_Adadelta.ipynb",
      "provenance": [],
      "authorship_tag": "ABX9TyOZpF0zU2ePQq6or23aEXbK",
      "include_colab_link": true
    },
    "gpuClass": "standard",
    "kernelspec": {
      "display_name": "Python 3",
      "name": "python3"
    },
    "language_info": {
      "name": "python"
    }
  },
  "nbformat": 4,
  "nbformat_minor": 0
}