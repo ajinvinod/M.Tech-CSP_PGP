{
  "cells": [
    {
      "cell_type": "markdown",
      "metadata": {
        "id": "view-in-github",
        "colab_type": "text"
      },
      "source": [
        "<a href=\"https://colab.research.google.com/github/ajinvinodk/M.Tech-CSP_PGP/blob/main/3model_Epoch200_BS32_DENSE392_LR_0_0001.ipynb\" target=\"_parent\"><img src=\"https://colab.research.google.com/assets/colab-badge.svg\" alt=\"Open In Colab\"/></a>"
      ]
    },
    {
      "cell_type": "code",
      "execution_count": 1,
      "metadata": {
        "id": "wG1UB9mwmabV"
      },
      "outputs": [],
      "source": [
        "from tensorflow.keras.datasets import mnist\n",
        "import tensorflow as tf\n",
        "import numpy as np\n",
        "import time\n",
        "import sys\n",
        "import matplotlib.pyplot as plt\n",
        "from tensorflow.keras.models import Sequential\n",
        "#from tensorflow.keras.layers import BatchNormalization\n",
        "#from tensorflow.keras.layers import Conv2D\n",
        "#from tensorflow.keras.layers import MaxPooling2D\n",
        "from tensorflow.keras.layers import Activation\n",
        "from tensorflow.keras.layers import Flatten\n",
        "from tensorflow.keras.layers import Dropout\n",
        "from tensorflow.keras.layers import Dense\n",
        "from tensorflow.keras.optimizers import Adam\n",
        "from tensorflow.keras.losses import categorical_crossentropy\n",
        "from tensorflow.keras.losses import binary_crossentropy\n",
        "#from tensorflow.keras.utils import to_categorical"
      ]
    },
    {
      "cell_type": "code",
      "source": [
        "from google.colab import drive\n",
        "drive.mount('/content/drive')"
      ],
      "metadata": {
        "id": "GhwiwiyZxWuw",
        "colab": {
          "base_uri": "https://localhost:8080/"
        },
        "outputId": "f8cf4825-4714-40c0-c5d4-b7b76dac0d3a"
      },
      "execution_count": 2,
      "outputs": [
        {
          "output_type": "stream",
          "name": "stdout",
          "text": [
            "Mounted at /content/drive\n"
          ]
        }
      ]
    },
    {
      "cell_type": "code",
      "execution_count": 3,
      "metadata": {
        "id": "k6ryK8pPmcOv",
        "colab": {
          "base_uri": "https://localhost:8080/"
        },
        "outputId": "bf8dad04-8f4b-4a1a-8b1f-0cf6cbafabbb"
      },
      "outputs": [
        {
          "output_type": "stream",
          "name": "stdout",
          "text": [
            "Downloading data from https://storage.googleapis.com/tensorflow/tf-keras-datasets/mnist.npz\n",
            "11493376/11490434 [==============================] - 0s 0us/step\n",
            "11501568/11490434 [==============================] - 0s 0us/step\n"
          ]
        }
      ],
      "source": [
        "((trainX, trainY), (testX, testY)) = mnist.load_data()\n",
        "trainX = trainX.astype(\"float32\") / 255.0\n",
        "testX = testX.astype(\"float32\") / 255.0\n",
        "trainY = trainX.reshape(60000,784)\n",
        "testY = testX.reshape(10000,784)\n",
        "input_1 = (trainX[:,:14,:])\n",
        "input_2 = (trainX[:,14:28,:])"
      ]
    },
    {
      "cell_type": "code",
      "execution_count": 4,
      "metadata": {
        "id": "YHUsswi7mvb3"
      },
      "outputs": [],
      "source": [
        "def build_model_1(width, height, depth):\n",
        "\tinputShape = (width,height, depth)\t\n",
        "\tmodel = Sequential([\n",
        "\t\tFlatten(input_shape = inputShape),\n",
        "    Dense(392,activation = 'relu')\n",
        "\t])\n",
        "\treturn model"
      ]
    },
    {
      "cell_type": "code",
      "execution_count": 5,
      "metadata": {
        "id": "3FW5ip4wmwjB"
      },
      "outputs": [],
      "source": [
        "def build_model_2(width, height, classes):\n",
        "\tinputShape = (width,height)\n",
        "\tmodel = Sequential([\n",
        "\t\tFlatten(input_shape = inputShape),\n",
        "    Dense(784,activation = 'relu'),\n",
        "\t\tDense(classes, activation= \"softmax\")\n",
        "\t])\n",
        "\treturn model"
      ]
    },
    {
      "cell_type": "code",
      "execution_count": 6,
      "metadata": {
        "colab": {
          "base_uri": "https://localhost:8080/"
        },
        "id": "4rt4G6Idp5jg",
        "outputId": "ee98702b-bae1-4c6b-c56a-7d6a083362dc"
      },
      "outputs": [
        {
          "output_type": "stream",
          "name": "stdout",
          "text": [
            "[INFO] creating model...\n"
          ]
        }
      ],
      "source": [
        "EPOCHS = 200\n",
        "BS = 32\n",
        "INIT_LR = 1e-4\n",
        "print(\"[INFO] creating model...\")\n",
        "model1= build_model_1(14,28,1)\n",
        "model2= build_model_1(14,28,1)\n",
        "model3= build_model_2(784,1,784)\n",
        "opt = Adam(learning_rate=INIT_LR, decay=INIT_LR / EPOCHS)"
      ]
    },
    {
      "cell_type": "code",
      "execution_count": 7,
      "metadata": {
        "id": "dHnoeKgaq593"
      },
      "outputs": [],
      "source": [
        "def step(X1,X2,y):\n",
        "    with tf.GradientTape(persistent=True) as tape:\n",
        "      pred1 = model1(X1)\n",
        "      pred2 = model2(X2)\n",
        "      \n",
        "      X3 = tf.keras.layers.concatenate([pred1,pred2])\n",
        "      \n",
        "      pred3 = model3(X3)\n",
        "      #print(len(pred3))\n",
        "      loss = binary_crossentropy(y, pred3)\n",
        "    \n",
        "    grads3 = tape.gradient(loss, model3.trainable_variables)\n",
        "    #print(len(grads3))\n",
        "    grads1 = tape.gradient(loss, model1.trainable_variables)\n",
        "    grads2 = tape.gradient(loss, model2.trainable_variables)\n",
        "    #grads1 = tape.gradient(grads3[:int(len(grads3)/2)], model1.trainable_variables)\n",
        "    #grads2 = tape.gradient(grads3[int(len(grads3)/2):], model2.trainable_variables)\n",
        "    \n",
        "    #print(\"loss is = \",grads1)\n",
        "    \n",
        "    #grads2 = tape.gradient(grads3, model2.trainable_variables)\n",
        "    opt.apply_gradients(zip(grads3, model3.trainable_variables))\n",
        "    #\n",
        "    \n",
        "    \n",
        "    opt.apply_gradients(zip(grads1, model1.trainable_variables))\n",
        "    opt.apply_gradients(zip(grads2, model2.trainable_variables)) "
      ]
    },
    {
      "cell_type": "code",
      "execution_count": 8,
      "metadata": {
        "colab": {
          "base_uri": "https://localhost:8080/"
        },
        "id": "d4eAav-zq6x1",
        "outputId": "e11293ee-862e-44d0-b555-ed200529bc8b"
      },
      "outputs": [
        {
          "output_type": "stream",
          "name": "stdout",
          "text": [
            "[INFO] starting epoch 1/200...took 0.6733 minutes\n",
            "[INFO] starting epoch 2/200...took 0.6023 minutes\n",
            "[INFO] starting epoch 3/200...took 0.6186 minutes\n",
            "[INFO] starting epoch 4/200...took 0.6005 minutes\n",
            "[INFO] starting epoch 5/200...took 0.5995 minutes\n",
            "[INFO] starting epoch 6/200...took 0.6132 minutes\n",
            "[INFO] starting epoch 7/200...took 0.6003 minutes\n",
            "[INFO] starting epoch 8/200...took 0.6 minutes\n",
            "[INFO] starting epoch 9/200...took 0.6113 minutes\n",
            "[INFO] starting epoch 10/200...took 0.606 minutes\n",
            "[INFO] starting epoch 11/200...took 0.5994 minutes\n",
            "[INFO] starting epoch 12/200...took 0.6121 minutes\n",
            "[INFO] starting epoch 13/200...took 0.5917 minutes\n",
            "[INFO] starting epoch 14/200...took 0.5927 minutes\n",
            "[INFO] starting epoch 15/200...took 0.5982 minutes\n",
            "[INFO] starting epoch 16/200...took 0.5842 minutes\n",
            "[INFO] starting epoch 17/200...took 0.5845 minutes\n",
            "[INFO] starting epoch 18/200...took 0.5969 minutes\n",
            "[INFO] starting epoch 19/200...took 0.5884 minutes\n",
            "[INFO] starting epoch 20/200...took 0.587 minutes\n",
            "[INFO] starting epoch 21/200...took 0.5983 minutes\n",
            "[INFO] starting epoch 22/200...took 0.5822 minutes\n",
            "[INFO] starting epoch 23/200...took 0.5866 minutes\n",
            "[INFO] starting epoch 24/200...took 0.5939 minutes\n",
            "[INFO] starting epoch 25/200...took 0.5849 minutes\n",
            "[INFO] starting epoch 26/200...took 0.5828 minutes\n",
            "[INFO] starting epoch 27/200...took 0.5941 minutes\n",
            "[INFO] starting epoch 28/200...took 0.5915 minutes\n",
            "[INFO] starting epoch 29/200...took 0.5869 minutes\n",
            "[INFO] starting epoch 30/200...took 0.5958 minutes\n",
            "[INFO] starting epoch 31/200...took 0.5913 minutes\n",
            "[INFO] starting epoch 32/200...took 0.587 minutes\n",
            "[INFO] starting epoch 33/200...took 0.5945 minutes\n",
            "[INFO] starting epoch 34/200...took 0.5808 minutes\n",
            "[INFO] starting epoch 35/200...took 0.5839 minutes\n",
            "[INFO] starting epoch 36/200...took 0.5956 minutes\n",
            "[INFO] starting epoch 37/200...took 0.5856 minutes\n",
            "[INFO] starting epoch 38/200...took 0.5813 minutes\n",
            "[INFO] starting epoch 39/200...took 0.592 minutes\n",
            "[INFO] starting epoch 40/200...took 0.5802 minutes\n",
            "[INFO] starting epoch 41/200...took 0.5831 minutes\n",
            "[INFO] starting epoch 42/200...took 0.5917 minutes\n",
            "[INFO] starting epoch 43/200...took 0.5794 minutes\n",
            "[INFO] starting epoch 44/200...took 0.5814 minutes\n",
            "[INFO] starting epoch 45/200...took 0.5976 minutes\n",
            "[INFO] starting epoch 46/200...took 0.5829 minutes\n",
            "[INFO] starting epoch 47/200...took 0.581 minutes\n",
            "[INFO] starting epoch 48/200...took 0.5923 minutes\n",
            "[INFO] starting epoch 49/200...took 0.5784 minutes\n",
            "[INFO] starting epoch 50/200...took 0.5805 minutes\n",
            "[INFO] starting epoch 51/200...took 0.5834 minutes\n",
            "[INFO] starting epoch 52/200...took 0.5876 minutes\n",
            "[INFO] starting epoch 53/200...took 0.5826 minutes\n",
            "[INFO] starting epoch 54/200...took 0.5826 minutes\n",
            "[INFO] starting epoch 55/200...took 0.5897 minutes\n",
            "[INFO] starting epoch 56/200...took 0.5777 minutes\n",
            "[INFO] starting epoch 57/200...took 0.5819 minutes\n",
            "[INFO] starting epoch 58/200...took 0.5915 minutes\n",
            "[INFO] starting epoch 59/200...took 0.5786 minutes\n",
            "[INFO] starting epoch 60/200...took 0.5811 minutes\n",
            "[INFO] starting epoch 61/200...took 0.5913 minutes\n",
            "[INFO] starting epoch 62/200...took 0.5816 minutes\n",
            "[INFO] starting epoch 63/200...took 0.5839 minutes\n",
            "[INFO] starting epoch 64/200...took 0.59 minutes\n",
            "[INFO] starting epoch 65/200...took 0.5816 minutes\n",
            "[INFO] starting epoch 66/200...took 0.5837 minutes\n",
            "[INFO] starting epoch 67/200...took 0.5923 minutes\n",
            "[INFO] starting epoch 68/200...took 0.5808 minutes\n",
            "[INFO] starting epoch 69/200...took 0.5809 minutes\n",
            "[INFO] starting epoch 70/200...took 0.5867 minutes\n",
            "[INFO] starting epoch 71/200...took 0.5895 minutes\n",
            "[INFO] starting epoch 72/200...took 0.5884 minutes\n",
            "[INFO] starting epoch 73/200...took 0.5916 minutes\n",
            "[INFO] starting epoch 74/200...took 0.5844 minutes\n",
            "[INFO] starting epoch 75/200...took 0.5807 minutes\n",
            "[INFO] starting epoch 76/200...took 0.5936 minutes\n",
            "[INFO] starting epoch 77/200...took 0.5814 minutes\n",
            "[INFO] starting epoch 78/200...took 0.5825 minutes\n",
            "[INFO] starting epoch 79/200...took 0.5873 minutes\n",
            "[INFO] starting epoch 80/200...took 0.5831 minutes\n",
            "[INFO] starting epoch 81/200...took 0.587 minutes\n",
            "[INFO] starting epoch 82/200...took 0.5914 minutes\n",
            "[INFO] starting epoch 83/200...took 0.583 minutes\n",
            "[INFO] starting epoch 84/200...took 0.5812 minutes\n",
            "[INFO] starting epoch 85/200...took 0.593 minutes\n",
            "[INFO] starting epoch 86/200...took 0.5794 minutes\n",
            "[INFO] starting epoch 87/200...took 0.5812 minutes\n",
            "[INFO] starting epoch 88/200...took 0.5907 minutes\n",
            "[INFO] starting epoch 89/200...took 0.5813 minutes\n",
            "[INFO] starting epoch 90/200...took 0.5818 minutes\n",
            "[INFO] starting epoch 91/200...took 0.5801 minutes\n",
            "[INFO] starting epoch 92/200...took 0.5921 minutes\n",
            "[INFO] starting epoch 93/200...took 0.5775 minutes\n",
            "[INFO] starting epoch 94/200...took 0.5791 minutes\n",
            "[INFO] starting epoch 95/200...took 0.5884 minutes\n",
            "[INFO] starting epoch 96/200...took 0.5775 minutes\n",
            "[INFO] starting epoch 97/200...took 0.5781 minutes\n",
            "[INFO] starting epoch 98/200...took 0.5915 minutes\n",
            "[INFO] starting epoch 99/200...took 0.5806 minutes\n",
            "[INFO] starting epoch 100/200...took 0.5778 minutes\n",
            "[INFO] starting epoch 101/200...took 0.5922 minutes\n",
            "[INFO] starting epoch 102/200...took 0.5788 minutes\n",
            "[INFO] starting epoch 103/200...took 0.5782 minutes\n",
            "[INFO] starting epoch 104/200...took 0.5898 minutes\n",
            "[INFO] starting epoch 105/200...took 0.5782 minutes\n",
            "[INFO] starting epoch 106/200...took 0.582 minutes\n",
            "[INFO] starting epoch 107/200...took 0.5911 minutes\n",
            "[INFO] starting epoch 108/200...took 0.5801 minutes\n",
            "[INFO] starting epoch 109/200...took 0.5776 minutes\n",
            "[INFO] starting epoch 110/200...took 0.5884 minutes\n",
            "[INFO] starting epoch 111/200...took 0.5796 minutes\n",
            "[INFO] starting epoch 112/200...took 0.5791 minutes\n",
            "[INFO] starting epoch 113/200...took 0.5902 minutes\n",
            "[INFO] starting epoch 114/200...took 0.5805 minutes\n",
            "[INFO] starting epoch 115/200...took 0.5812 minutes\n",
            "[INFO] starting epoch 116/200...took 0.5946 minutes\n",
            "[INFO] starting epoch 117/200...took 0.58 minutes\n",
            "[INFO] starting epoch 118/200...took 0.5786 minutes\n",
            "[INFO] starting epoch 119/200...took 0.5891 minutes\n",
            "[INFO] starting epoch 120/200...took 0.5792 minutes\n",
            "[INFO] starting epoch 121/200...took 0.5825 minutes\n",
            "[INFO] starting epoch 122/200...took 0.5998 minutes\n",
            "[INFO] starting epoch 123/200...took 0.5884 minutes\n",
            "[INFO] starting epoch 124/200...took 0.5821 minutes\n",
            "[INFO] starting epoch 125/200...took 0.5867 minutes\n",
            "[INFO] starting epoch 126/200...took 0.5885 minutes\n",
            "[INFO] starting epoch 127/200...took 0.5785 minutes\n",
            "[INFO] starting epoch 128/200...took 0.5789 minutes\n",
            "[INFO] starting epoch 129/200...took 0.5927 minutes\n",
            "[INFO] starting epoch 130/200...took 0.5782 minutes\n",
            "[INFO] starting epoch 131/200...took 0.5816 minutes\n",
            "[INFO] starting epoch 132/200...took 0.5908 minutes\n",
            "[INFO] starting epoch 133/200...took 0.583 minutes\n",
            "[INFO] starting epoch 134/200...took 0.5862 minutes\n",
            "[INFO] starting epoch 135/200...took 0.5928 minutes\n",
            "[INFO] starting epoch 136/200...took 0.5829 minutes\n",
            "[INFO] starting epoch 137/200...took 0.5826 minutes\n",
            "[INFO] starting epoch 138/200...took 0.5937 minutes\n",
            "[INFO] starting epoch 139/200...took 0.5807 minutes\n",
            "[INFO] starting epoch 140/200...took 0.5836 minutes\n",
            "[INFO] starting epoch 141/200...took 0.5906 minutes\n",
            "[INFO] starting epoch 142/200...took 0.5807 minutes\n",
            "[INFO] starting epoch 143/200...took 0.5866 minutes\n",
            "[INFO] starting epoch 144/200...took 0.5915 minutes\n",
            "[INFO] starting epoch 145/200...took 0.5856 minutes\n",
            "[INFO] starting epoch 146/200...took 0.585 minutes\n",
            "[INFO] starting epoch 147/200...took 0.6042 minutes\n",
            "[INFO] starting epoch 148/200...took 0.5888 minutes\n",
            "[INFO] starting epoch 149/200...took 0.5868 minutes\n",
            "[INFO] starting epoch 150/200...took 0.6065 minutes\n",
            "[INFO] starting epoch 151/200...took 0.5919 minutes\n",
            "[INFO] starting epoch 152/200...took 0.5859 minutes\n",
            "[INFO] starting epoch 153/200...took 0.594 minutes\n",
            "[INFO] starting epoch 154/200...took 0.5868 minutes\n",
            "[INFO] starting epoch 155/200...took 0.5823 minutes\n",
            "[INFO] starting epoch 156/200...took 0.6198 minutes\n",
            "[INFO] starting epoch 157/200...took 0.5972 minutes\n",
            "[INFO] starting epoch 158/200...took 0.5802 minutes\n",
            "[INFO] starting epoch 159/200...took 0.5945 minutes\n",
            "[INFO] starting epoch 160/200...took 0.5892 minutes\n",
            "[INFO] starting epoch 161/200...took 0.5823 minutes\n",
            "[INFO] starting epoch 162/200...took 0.5918 minutes\n",
            "[INFO] starting epoch 163/200...took 0.5838 minutes\n",
            "[INFO] starting epoch 164/200...took 0.5838 minutes\n",
            "[INFO] starting epoch 165/200...took 0.5984 minutes\n",
            "[INFO] starting epoch 166/200...took 0.5882 minutes\n",
            "[INFO] starting epoch 167/200...took 0.5889 minutes\n",
            "[INFO] starting epoch 168/200...took 0.5963 minutes\n",
            "[INFO] starting epoch 169/200...took 0.589 minutes\n",
            "[INFO] starting epoch 170/200...took 0.5844 minutes\n",
            "[INFO] starting epoch 171/200...took 0.5842 minutes\n",
            "[INFO] starting epoch 172/200...took 0.593 minutes\n",
            "[INFO] starting epoch 173/200...took 0.5805 minutes\n",
            "[INFO] starting epoch 174/200...took 0.5831 minutes\n",
            "[INFO] starting epoch 175/200...took 0.5961 minutes\n",
            "[INFO] starting epoch 176/200...took 0.5821 minutes\n",
            "[INFO] starting epoch 177/200...took 0.5823 minutes\n",
            "[INFO] starting epoch 178/200...took 0.5966 minutes\n",
            "[INFO] starting epoch 179/200...took 0.5823 minutes\n",
            "[INFO] starting epoch 180/200...took 0.5791 minutes\n",
            "[INFO] starting epoch 181/200...took 0.5922 minutes\n",
            "[INFO] starting epoch 182/200...took 0.5815 minutes\n",
            "[INFO] starting epoch 183/200...took 0.5869 minutes\n",
            "[INFO] starting epoch 184/200...took 0.6245 minutes\n",
            "[INFO] starting epoch 185/200...took 0.6385 minutes\n",
            "[INFO] starting epoch 186/200...took 0.6253 minutes\n",
            "[INFO] starting epoch 187/200...took 0.6244 minutes\n",
            "[INFO] starting epoch 188/200...took 0.6091 minutes\n",
            "[INFO] starting epoch 189/200...took 0.6009 minutes\n",
            "[INFO] starting epoch 190/200...took 0.6123 minutes\n",
            "[INFO] starting epoch 191/200...took 0.5998 minutes\n",
            "[INFO] starting epoch 192/200...took 0.6216 minutes\n",
            "[INFO] starting epoch 193/200...took 0.6195 minutes\n",
            "[INFO] starting epoch 194/200...took 0.6094 minutes\n",
            "[INFO] starting epoch 195/200...took 0.613 minutes\n",
            "[INFO] starting epoch 196/200...took 0.6097 minutes\n",
            "[INFO] starting epoch 197/200...took 0.5978 minutes\n",
            "[INFO] starting epoch 198/200...took 0.5946 minutes\n",
            "[INFO] starting epoch 199/200...took 0.609 minutes\n",
            "[INFO] starting epoch 200/200...took 0.595 minutes\n"
          ]
        }
      ],
      "source": [
        "#numUpdates = int(trainX.shape[0] / BS)\n",
        "numUpdates = int(trainX.shape[0] / BS)\n",
        "for epoch in range(0, EPOCHS):\n",
        "\tprint(\"[INFO] starting epoch {}/{}...\".format(epoch + 1, EPOCHS), end=\"\")\n",
        "\tsys.stdout.flush()\n",
        "\tepochStart = time.time()\n",
        "\tfor i in range(0, numUpdates):\n",
        "\t\t#print()\n",
        "\t\t\n",
        "\t\tstart = i * BS\n",
        "\t\tend = start + BS\n",
        "\t\t#print(\"inp_1 = \",input_1[start:end])\n",
        "\t\t#print(\"inp_2 = \",input_2[start:end])\n",
        "\t\tstep(input_1[start:end],input_2[start:end], trainY[start:end])\n",
        "\tepochEnd = time.time()\n",
        "\telapsed = (epochEnd - epochStart) / 60.0\n",
        "\tprint(\"took {:.4} minutes\".format(elapsed))"
      ]
    },
    {
      "cell_type": "code",
      "execution_count": null,
      "metadata": {
        "id": "D0UmOctKk74i"
      },
      "outputs": [],
      "source": [
        "# in order to calculate accuracy using Keras' functions we first need\n",
        "# to compile the model\n",
        "#model.compile(optimizer=opt, loss=categorical_crossentropy,\n",
        "\t#metrics=[\"acc\"])\n",
        "# now that the model is compiled we can compute the accuracy\n",
        "#(loss, acc) = model.evaluate(testX, testY)\n",
        "#print(\"[INFO] test accuracy: {:.4f}\".format(acc))"
      ]
    },
    {
      "cell_type": "code",
      "execution_count": null,
      "metadata": {
        "id": "MX4iO_GhBb8h"
      },
      "outputs": [],
      "source": [
        "input_test_1 = (testX[:,:14,:])\n",
        "input_test_2 = (testX[:,14:28,:])"
      ]
    },
    {
      "cell_type": "code",
      "execution_count": null,
      "metadata": {
        "id": "LerD0YaS_NMr"
      },
      "outputs": [],
      "source": [
        "def step1(X1,X2,y):\n",
        "    with tf.GradientTape(persistent=True) as tape:\n",
        "      pred11 = model1(X1)\n",
        "      pred22 = model2(X2)\n",
        "      \n",
        "      X3 = tf.keras.layers.concatenate([pred11,pred22])\n",
        "      \n",
        "      pred33 = model3(X3)\n",
        "      #print(len(pred3))\n",
        "      loss = binary_crossentropy(y, pred33)\n",
        "      return pred33"
      ]
    },
    {
      "cell_type": "code",
      "execution_count": null,
      "metadata": {
        "id": "TgYZZbTWBrjp"
      },
      "outputs": [],
      "source": [
        "out = step1(input_test_1[0:31],input_test_2[0:31], testY[0:31])"
      ]
    },
    {
      "cell_type": "code",
      "execution_count": null,
      "metadata": {
        "id": "jPiQQLW4EoK9"
      },
      "outputs": [],
      "source": [
        "predictd_output = tf.reshape(out[4],[28,28])\n",
        "input_given = tf.reshape(testY[4],[28,28])"
      ]
    },
    {
      "cell_type": "code",
      "execution_count": null,
      "metadata": {
        "id": "xRoi9eqe25Fg"
      },
      "outputs": [],
      "source": [
        "plt.figure(figsize=(10, 4))\n",
        "# display original\n",
        "ax = plt.subplot(1, 2, 1)\n",
        "plt.imshow(input_given)\n",
        "plt.title(\"input_given\")\n",
        "plt.gray()\n",
        "ax.get_xaxis().set_visible(False)\n",
        "ax.get_yaxis().set_visible(False)\n",
        "\n",
        "ax = plt.subplot(1, 2, 2)\n",
        "plt.imshow(predictd_output)\n",
        "plt.title(\"predictd_output\")\n",
        "plt.gray()\n",
        "ax.get_xaxis().set_visible(False)\n",
        "ax.get_yaxis().set_visible(False)"
      ]
    },
    {
      "cell_type": "code",
      "source": [
        "n = 10\n",
        "plt.figure(figsize=(20, 4))\n",
        "for i in range(n):\n",
        "  # display original\n",
        "  ax = plt.subplot(2, n, i + 1)\n",
        "  predictd_output = tf.reshape(out[i],[28,28])\n",
        "  input_given = tf.reshape(testY[i],[28,28])\n",
        "  plt.imshow(input_given)\n",
        "  plt.title(\"input_img\")\n",
        "  plt.gray()\n",
        "\n",
        "  ax.get_xaxis().set_visible(False)\n",
        "  ax.get_yaxis().set_visible(False)\n",
        "\n",
        "  # display reconstruction\n",
        "  ax = plt.subplot(2, n, i + 1 + n)\n",
        "  plt.imshow(predictd_output)\n",
        "  plt.title(\"decoded_img\")\n",
        "  plt.gray()\n",
        "  ax.get_xaxis().set_visible(False)\n",
        "  ax.get_yaxis().set_visible(False)\n",
        "plt.savefig(\"decoded_396_192_2_epoch.png\")\n",
        "plt.show()"
      ],
      "metadata": {
        "colab": {
          "base_uri": "https://localhost:8080/",
          "height": 264
        },
        "id": "8kW8IfMTQBt6",
        "outputId": "22b35997-7e5e-4528-fd78-d169f66492d6"
      },
      "execution_count": 16,
      "outputs": [
        {
          "output_type": "display_data",
          "data": {
            "text/plain": [
              "<Figure size 1440x288 with 20 Axes>"
            ],
            "image/png": "[encoded data removed]"
          },
          "metadata": {
            "needs_background": "light"
          }
        }
      ]
    }
  ],
  "metadata": {
    "accelerator": "GPU",
    "colab": {
      "collapsed_sections": [],
      "name": "3model_Epoch200_BS32_DENSE392_LR_0.0001.ipynb",
      "provenance": [],
      "authorship_tag": "ABX9TyM9WYQCNcJ0EO/w0WUZpFt7",
      "include_colab_link": true
    },
    "gpuClass": "standard",
    "kernelspec": {
      "display_name": "Python 3",
      "name": "python3"
    },
    "language_info": {
      "name": "python"
    }
  },
  "nbformat": 4,
  "nbformat_minor": 0
}