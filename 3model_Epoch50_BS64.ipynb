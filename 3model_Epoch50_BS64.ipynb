{
  "cells": [
    {
      "cell_type": "markdown",
      "metadata": {
        "id": "view-in-github",
        "colab_type": "text"
      },
      "source": [
        "<a href=\"https://colab.research.google.com/github/ajinvinodk/M.Tech-CSP_PGP/blob/main/3model_Epoch50_BS64.ipynb\" target=\"_parent\"><img src=\"https://colab.research.google.com/assets/colab-badge.svg\" alt=\"Open In Colab\"/></a>"
      ]
    },
    {
      "cell_type": "code",
      "execution_count": 13,
      "metadata": {
        "id": "wG1UB9mwmabV"
      },
      "outputs": [],
      "source": [
        "from tensorflow.keras.datasets import mnist\n",
        "import tensorflow as tf\n",
        "import numpy as np\n",
        "import time\n",
        "import sys\n",
        "import matplotlib.pyplot as plt\n",
        "from tensorflow.keras.models import Sequential\n",
        "#from tensorflow.keras.layers import BatchNormalization\n",
        "#from tensorflow.keras.layers import Conv2D\n",
        "#from tensorflow.keras.layers import MaxPooling2D\n",
        "from tensorflow.keras.layers import Activation\n",
        "from tensorflow.keras.layers import Flatten\n",
        "from tensorflow.keras.layers import Dropout\n",
        "from tensorflow.keras.layers import Dense\n",
        "from tensorflow.keras.optimizers import Adam\n",
        "from tensorflow.keras.losses import categorical_crossentropy\n",
        "from tensorflow.keras.losses import binary_crossentropy\n",
        "#from tensorflow.keras.utils import to_categorical"
      ]
    },
    {
      "cell_type": "code",
      "execution_count": 14,
      "metadata": {
        "id": "k6ryK8pPmcOv"
      },
      "outputs": [],
      "source": [
        "((trainX, trainY), (testX, testY)) = mnist.load_data()\n",
        "trainX = trainX.astype(\"float32\") / 255.0\n",
        "testX = testX.astype(\"float32\") / 255.0\n",
        "trainY = trainX.reshape(60000,784)\n",
        "testY = testX.reshape(10000,784)\n",
        "input_1 = (trainX[:,:14,:])\n",
        "input_2 = (trainX[:,14:28,:])"
      ]
    },
    {
      "cell_type": "code",
      "execution_count": 15,
      "metadata": {
        "id": "YHUsswi7mvb3"
      },
      "outputs": [],
      "source": [
        "def build_model_1(width, height, depth):\n",
        "\tinputShape = (width,height, depth)\t\n",
        "\tmodel = Sequential([\n",
        "\t\tFlatten(input_shape = inputShape),\n",
        "    Dense(64,activation = 'relu')\n",
        "\t])\n",
        "\treturn model"
      ]
    },
    {
      "cell_type": "code",
      "execution_count": 16,
      "metadata": {
        "id": "3FW5ip4wmwjB"
      },
      "outputs": [],
      "source": [
        "def build_model_2(width, height, classes):\n",
        "\tinputShape = (width,height)\n",
        "\tmodel = Sequential([\n",
        "\t\tFlatten(input_shape = inputShape),\n",
        "    Dense(392,activation = 'relu'),\n",
        "\t\tDense(classes, activation= \"softmax\")\n",
        "\t])\n",
        "\treturn model"
      ]
    },
    {
      "cell_type": "code",
      "execution_count": 17,
      "metadata": {
        "colab": {
          "base_uri": "https://localhost:8080/"
        },
        "id": "4rt4G6Idp5jg",
        "outputId": "2d75def9-09fa-4260-f76a-bc6a01481091"
      },
      "outputs": [
        {
          "output_type": "stream",
          "name": "stdout",
          "text": [
            "[INFO] creating model...\n"
          ]
        }
      ],
      "source": [
        "EPOCHS = 50\n",
        "BS = 64\n",
        "INIT_LR = 1e-3\n",
        "print(\"[INFO] creating model...\")\n",
        "model1= build_model_1(14,28,1)\n",
        "model2= build_model_1(14,28,1)\n",
        "model3= build_model_2(128,1,784)\n",
        "opt = Adam(learning_rate=INIT_LR, decay=INIT_LR / EPOCHS)"
      ]
    },
    {
      "cell_type": "code",
      "execution_count": 18,
      "metadata": {
        "id": "dHnoeKgaq593"
      },
      "outputs": [],
      "source": [
        "def step(X1,X2,y):\n",
        "    with tf.GradientTape(persistent=True) as tape:\n",
        "      pred1 = model1(X1)\n",
        "      pred2 = model2(X2)\n",
        "      \n",
        "      X3 = tf.keras.layers.concatenate([pred1,pred2])\n",
        "      \n",
        "      pred3 = model3(X3)\n",
        "      #print(len(pred3))\n",
        "      loss = binary_crossentropy(y, pred3)\n",
        "    \n",
        "    grads3 = tape.gradient(loss, model3.trainable_variables)\n",
        "    #print(len(grads3))\n",
        "    grads1 = tape.gradient(loss, model1.trainable_variables)\n",
        "    grads2 = tape.gradient(loss, model2.trainable_variables)\n",
        "    #grads1 = tape.gradient(grads3[:int(len(grads3)/2)], model1.trainable_variables)\n",
        "    #grads2 = tape.gradient(grads3[int(len(grads3)/2):], model2.trainable_variables)\n",
        "    \n",
        "    #print(\"loss is = \",grads1)\n",
        "    \n",
        "    #grads2 = tape.gradient(grads3, model2.trainable_variables)\n",
        "    opt.apply_gradients(zip(grads3, model3.trainable_variables))\n",
        "    #\n",
        "    \n",
        "    \n",
        "    opt.apply_gradients(zip(grads1, model1.trainable_variables))\n",
        "    opt.apply_gradients(zip(grads2, model2.trainable_variables)) "
      ]
    },
    {
      "cell_type": "code",
      "execution_count": 19,
      "metadata": {
        "colab": {
          "base_uri": "https://localhost:8080/"
        },
        "id": "d4eAav-zq6x1",
        "outputId": "12355bad-c091-41e2-e9b6-d01b6be55d1f"
      },
      "outputs": [
        {
          "output_type": "stream",
          "name": "stdout",
          "text": [
            "[INFO] starting epoch 1/50...took 0.2947 minutes\n",
            "[INFO] starting epoch 2/50...took 0.2892 minutes\n",
            "[INFO] starting epoch 3/50...took 0.2985 minutes\n",
            "[INFO] starting epoch 4/50...took 0.2912 minutes\n",
            "[INFO] starting epoch 5/50...took 0.2945 minutes\n",
            "[INFO] starting epoch 6/50...took 0.2959 minutes\n",
            "[INFO] starting epoch 7/50...took 0.2941 minutes\n",
            "[INFO] starting epoch 8/50...took 0.2986 minutes\n",
            "[INFO] starting epoch 9/50...took 0.2905 minutes\n",
            "[INFO] starting epoch 10/50...took 0.2912 minutes\n",
            "[INFO] starting epoch 11/50...took 0.2893 minutes\n",
            "[INFO] starting epoch 12/50...took 0.2906 minutes\n",
            "[INFO] starting epoch 13/50...took 0.2904 minutes\n",
            "[INFO] starting epoch 14/50...took 0.2994 minutes\n",
            "[INFO] starting epoch 15/50...took 0.2923 minutes\n",
            "[INFO] starting epoch 16/50...took 0.2898 minutes\n",
            "[INFO] starting epoch 17/50...took 0.2901 minutes\n",
            "[INFO] starting epoch 18/50...took 0.2912 minutes\n",
            "[INFO] starting epoch 19/50...took 0.3016 minutes\n",
            "[INFO] starting epoch 20/50...took 0.2908 minutes\n",
            "[INFO] starting epoch 21/50...took 0.2912 minutes\n",
            "[INFO] starting epoch 22/50...took 0.293 minutes\n",
            "[INFO] starting epoch 23/50...took 0.2934 minutes\n",
            "[INFO] starting epoch 24/50...took 0.2907 minutes\n",
            "[INFO] starting epoch 25/50...took 0.2988 minutes\n",
            "[INFO] starting epoch 26/50...took 0.2921 minutes\n",
            "[INFO] starting epoch 27/50...took 0.2904 minutes\n",
            "[INFO] starting epoch 28/50...took 0.2901 minutes\n",
            "[INFO] starting epoch 29/50...took 0.2918 minutes\n",
            "[INFO] starting epoch 30/50...took 0.2898 minutes\n",
            "[INFO] starting epoch 31/50...took 0.299 minutes\n",
            "[INFO] starting epoch 32/50...took 0.2919 minutes\n",
            "[INFO] starting epoch 33/50...took 0.2928 minutes\n",
            "[INFO] starting epoch 34/50...took 0.2895 minutes\n",
            "[INFO] starting epoch 35/50...took 0.2895 minutes\n",
            "[INFO] starting epoch 36/50...took 0.2979 minutes\n",
            "[INFO] starting epoch 37/50...took 0.2903 minutes\n",
            "[INFO] starting epoch 38/50...took 0.2902 minutes\n",
            "[INFO] starting epoch 39/50...took 0.2896 minutes\n",
            "[INFO] starting epoch 40/50...took 0.2923 minutes\n",
            "[INFO] starting epoch 41/50...took 0.2891 minutes\n",
            "[INFO] starting epoch 42/50...took 0.2966 minutes\n",
            "[INFO] starting epoch 43/50...took 0.2894 minutes\n",
            "[INFO] starting epoch 44/50...took 0.286 minutes\n",
            "[INFO] starting epoch 45/50...took 0.2866 minutes\n",
            "[INFO] starting epoch 46/50...took 0.2891 minutes\n",
            "[INFO] starting epoch 47/50...took 0.2932 minutes\n",
            "[INFO] starting epoch 48/50...took 0.2861 minutes\n",
            "[INFO] starting epoch 49/50...took 0.2859 minutes\n",
            "[INFO] starting epoch 50/50...took 0.2879 minutes\n"
          ]
        }
      ],
      "source": [
        "#numUpdates = int(trainX.shape[0] / BS)\n",
        "numUpdates = int(trainX.shape[0] / BS)\n",
        "for epoch in range(0, EPOCHS):\n",
        "\tprint(\"[INFO] starting epoch {}/{}...\".format(epoch + 1, EPOCHS), end=\"\")\n",
        "\tsys.stdout.flush()\n",
        "\tepochStart = time.time()\n",
        "\tfor i in range(0, numUpdates):\n",
        "\t\t#print()\n",
        "\t\t\n",
        "\t\tstart = i * BS\n",
        "\t\tend = start + BS\n",
        "\t\t#print(\"inp_1 = \",input_1[start:end])\n",
        "\t\t#print(\"inp_2 = \",input_2[start:end])\n",
        "\t\tstep(input_1[start:end],input_2[start:end], trainY[start:end])\n",
        "\tepochEnd = time.time()\n",
        "\telapsed = (epochEnd - epochStart) / 60.0\n",
        "\tprint(\"took {:.4} minutes\".format(elapsed))"
      ]
    },
    {
      "cell_type": "code",
      "execution_count": 20,
      "metadata": {
        "id": "D0UmOctKk74i"
      },
      "outputs": [],
      "source": [
        "# in order to calculate accuracy using Keras' functions we first need\n",
        "# to compile the model\n",
        "#model.compile(optimizer=opt, loss=categorical_crossentropy,\n",
        "\t#metrics=[\"acc\"])\n",
        "# now that the model is compiled we can compute the accuracy\n",
        "#(loss, acc) = model.evaluate(testX, testY)\n",
        "#print(\"[INFO] test accuracy: {:.4f}\".format(acc))"
      ]
    },
    {
      "cell_type": "code",
      "execution_count": 21,
      "metadata": {
        "id": "MX4iO_GhBb8h"
      },
      "outputs": [],
      "source": [
        "input_test_1 = (testX[:,:14,:])\n",
        "input_test_2 = (testX[:,14:28,:])"
      ]
    },
    {
      "cell_type": "code",
      "execution_count": 22,
      "metadata": {
        "id": "LerD0YaS_NMr"
      },
      "outputs": [],
      "source": [
        "def step1(X1,X2,y):\n",
        "    with tf.GradientTape(persistent=True) as tape:\n",
        "      pred11 = model1(X1)\n",
        "      pred22 = model2(X2)\n",
        "      \n",
        "      X3 = tf.keras.layers.concatenate([pred11,pred22])\n",
        "      \n",
        "      pred33 = model3(X3)\n",
        "      #print(len(pred3))\n",
        "      loss = binary_crossentropy(y, pred33)\n",
        "      return pred33"
      ]
    },
    {
      "cell_type": "code",
      "execution_count": 23,
      "metadata": {
        "id": "TgYZZbTWBrjp"
      },
      "outputs": [],
      "source": [
        "out = step1(input_test_1[1:32],input_test_2[1:32], testY[1:32])"
      ]
    },
    {
      "cell_type": "code",
      "execution_count": 24,
      "metadata": {
        "id": "jPiQQLW4EoK9"
      },
      "outputs": [],
      "source": [
        "predictd_output = tf.reshape(out[5],[28,28])\n",
        "input_given = tf.reshape(testY[6],[28,28])"
      ]
    },
    {
      "cell_type": "code",
      "execution_count": 25,
      "metadata": {
        "colab": {
          "base_uri": "https://localhost:8080/",
          "height": 268
        },
        "id": "xRoi9eqe25Fg",
        "outputId": "78840d4d-6ab0-4c4b-a3d7-6f6b47a00079"
      },
      "outputs": [
        {
          "output_type": "display_data",
          "data": {
            "text/plain": [
              "<Figure size 720x288 with 2 Axes>"
            ],
            "image/png": "[encoded data removed]"
          },
          "metadata": {
            "needs_background": "light"
          }
        }
      ],
      "source": [
        "plt.figure(figsize=(10, 4))\n",
        "# display original\n",
        "ax = plt.subplot(1, 2, 1)\n",
        "plt.imshow(input_given)\n",
        "plt.title(\"input_given\")\n",
        "plt.gray()\n",
        "ax.get_xaxis().set_visible(False)\n",
        "ax.get_yaxis().set_visible(False)\n",
        "\n",
        "ax = plt.subplot(1, 2, 2)\n",
        "plt.imshow(predictd_output)\n",
        "plt.title(\"predictd_output\")\n",
        "plt.gray()\n",
        "ax.get_xaxis().set_visible(False)\n",
        "ax.get_yaxis().set_visible(False)"
      ]
    }
  ],
  "metadata": {
    "accelerator": "GPU",
    "colab": {
      "collapsed_sections": [],
      "name": "3model_Epoch50_BS64.ipynb",
      "provenance": [],
      "authorship_tag": "ABX9TyMz2RJB9Tx4G8dXsazwgmDm",
      "include_colab_link": true
    },
    "gpuClass": "standard",
    "kernelspec": {
      "display_name": "Python 3",
      "name": "python3"
    },
    "language_info": {
      "name": "python"
    }
  },
  "nbformat": 4,
  "nbformat_minor": 0
}