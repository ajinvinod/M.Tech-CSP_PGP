{
  "cells": [
    {
      "cell_type": "markdown",
      "metadata": {
        "id": "view-in-github",
        "colab_type": "text"
      },
      "source": [
        "<a href=\"https://colab.research.google.com/github/ajinvinodk/M.Tech-CSP_PGP/blob/main/butterfly1.ipynb\" target=\"_parent\"><img src=\"https://colab.research.google.com/assets/colab-badge.svg\" alt=\"Open In Colab\"/></a>"
      ]
    },
    {
      "cell_type": "code",
      "execution_count": 1,
      "metadata": {
        "id": "BJBNqNu6lp_-"
      },
      "outputs": [],
      "source": [
        "from tensorflow.keras.datasets import mnist\n",
        "import tensorflow as tf\n",
        "import numpy as np\n",
        "import time\n",
        "import sys\n",
        "import matplotlib.pyplot as plt\n",
        "from tensorflow.keras.models import Sequential\n",
        "#from tensorflow.keras.layers import BatchNormalization\n",
        "#from tensorflow.keras.layers import Conv2D\n",
        "#from tensorflow.keras.layers import MaxPooling2D\n",
        "from tensorflow.keras.layers import Activation\n",
        "from tensorflow.keras.layers import Flatten\n",
        "from tensorflow.keras.layers import Dropout\n",
        "from tensorflow.keras.layers import Dense\n",
        "from tensorflow.keras.optimizers import Adam\n",
        "from tensorflow.keras.losses import categorical_crossentropy\n",
        "from tensorflow.keras.losses import binary_crossentropy\n",
        "#from tensorflow.keras.utils import to_categorical\n",
        "from sklearn.metrics import accuracy_score"
      ]
    },
    {
      "cell_type": "code",
      "execution_count": 3,
      "metadata": {
        "colab": {
          "base_uri": "https://localhost:8080/"
        },
        "id": "CU2E2FvXl7iQ",
        "outputId": "06b63bbc-b981-422b-c2fe-3d0be69475b6"
      },
      "outputs": [
        {
          "output_type": "stream",
          "name": "stdout",
          "text": [
            "Downloading data from https://storage.googleapis.com/tensorflow/tf-keras-datasets/mnist.npz\n",
            "11490434/11490434 [==============================] - 2s 0us/step\n"
          ]
        }
      ],
      "source": [
        "((trainX, trainY), (testX, testY)) = mnist.load_data()\n",
        "trainX_cnn = trainX\n",
        "trainY_cnn = trainY\n",
        "testX_cnn = testX\n",
        "testY_cnn = testY\n",
        "trainX_cnn = trainX_cnn.reshape(trainX_cnn.shape[0], 28, 28, 1)\n",
        "testX_cnn = testX_cnn.reshape(testX_cnn.shape[0], 28, 28, 1)\n",
        "input_shape = (28, 28, 1)\n",
        "trainX_cnn = trainX_cnn.astype(\"float32\") / 255.0\n",
        "testX_cnn = testX_cnn.astype(\"float32\") / 255.0\n",
        "\n",
        "trainX = trainX.astype(\"float32\") / 255.0\n",
        "testX = testX.astype(\"float32\") / 255.0\n",
        "testX1=testX\n",
        "trainX1=trainX\n",
        "trainY1=trainY\n",
        "testY1=testY\n",
        "trainY = trainX.reshape(60000,784)\n",
        "testY = testX.reshape(10000,784)\n",
        "input_1 = (trainX[:,:14,:])\n",
        "input_2 = (trainX[:,14:28,:])"
      ]
    },
    {
      "cell_type": "code",
      "execution_count": 4,
      "metadata": {
        "id": "B6_llRikRKLH"
      },
      "outputs": [],
      "source": [
        "def build_model_1(width, height, depth):\n",
        "\tinputShape = (width,height, depth)\t\n",
        "\tmodel = Sequential([\n",
        "\t\tFlatten(input_shape = inputShape),\n",
        "    Dense(64,activation = 'relu')\n",
        "\t])\n",
        "\treturn model"
      ]
    },
    {
      "cell_type": "code",
      "execution_count": 5,
      "metadata": {
        "id": "c6pDChynV2Z-"
      },
      "outputs": [],
      "source": [
        "def build_model_2(width, height, depth):\n",
        "\tinputShape = (width,height, depth)\t\n",
        "\tmodel = Sequential([\n",
        "\t\tFlatten(input_shape = inputShape),\n",
        "    Dense(64,activation = 'relu')\n",
        "\t])\n",
        "\treturn model"
      ]
    },
    {
      "cell_type": "code",
      "execution_count": 6,
      "metadata": {
        "id": "jW7C9VSqV73O"
      },
      "outputs": [],
      "source": [
        "def build_model_3(width, height, classes):\n",
        "\tinputShape = (width,height)\n",
        "\tmodel = Sequential([\n",
        "\t\tFlatten(input_shape = inputShape),\n",
        "    Dense(32,activation = 'relu')\n",
        "\t])\n",
        "\treturn model"
      ]
    },
    {
      "cell_type": "code",
      "execution_count": 7,
      "metadata": {
        "id": "aeUj7fqrWHY_"
      },
      "outputs": [],
      "source": [
        "def build_model_4(width, height, classes):\n",
        "\tinputShape = (width,height)\n",
        "\tmodel = Sequential([\n",
        "\t\tFlatten(input_shape = inputShape),\n",
        "    Dense(64,activation = 'relu')\n",
        "\t])\n",
        "\treturn model"
      ]
    },
    {
      "cell_type": "code",
      "execution_count": 8,
      "metadata": {
        "id": "28JY5eXuRQSv"
      },
      "outputs": [],
      "source": [
        "def build_model_5(width, height, classes):\n",
        "\tinputShape = (width,height)\n",
        "\tmodel = Sequential([\n",
        "\t\tFlatten(input_shape = inputShape),\n",
        "    Dense(392,activation = 'relu'),\n",
        "\t\tDense(classes, activation= \"softmax\")\n",
        "\t])\n",
        "\treturn model"
      ]
    },
    {
      "cell_type": "code",
      "execution_count": 9,
      "metadata": {
        "id": "63XJNR3RWVln"
      },
      "outputs": [],
      "source": [
        "def build_model_6(width, height, classes):\n",
        "\tinputShape = (width,height)\n",
        "\tmodel = Sequential([\n",
        "\t\tFlatten(input_shape = inputShape),\n",
        "    Dense(392,activation = 'relu'),\n",
        "\t\tDense(classes, activation= \"softmax\")\n",
        "\t])\n",
        "\treturn model"
      ]
    },
    {
      "cell_type": "code",
      "execution_count": 76,
      "metadata": {
        "colab": {
          "base_uri": "https://localhost:8080/"
        },
        "id": "9bYeFl7SRQ0n",
        "outputId": "41b9f007-a84c-412b-8cc0-87a134878dfd"
      },
      "outputs": [
        {
          "output_type": "stream",
          "name": "stdout",
          "text": [
            "[INFO] creating model...\n"
          ]
        }
      ],
      "source": [
        "EPOCHS = 20\n",
        "BS = 32\n",
        "INIT_LR = 1e-2\n",
        "print(\"[INFO] creating model...\")\n",
        "model1= build_model_1(14,28,1)\n",
        "model2= build_model_2(14,28,1)\n",
        "model3= build_model_3(64,1,32)\n",
        "model4= build_model_4(32,1,64)\n",
        "model5= build_model_5(64,1,784)\n",
        "model6= build_model_6(64,1,784)\n",
        "opt = tf.keras.optimizers.legacy.Adam(learning_rate=INIT_LR, decay=INIT_LR / EPOCHS)\n",
        "# Adam(\n",
        "#     learning_rate=INIT_LR,\n",
        "#     beta_1=0.9,\n",
        "#     beta_2=0.999,\n",
        "#     epsilon=1e-07,\n",
        "#     amsgrad=False,\n",
        "#     weight_decay=None,\n",
        "#     clipnorm=None,\n",
        "#     clipvalue=None,\n",
        "#     global_clipnorm=None,\n",
        "#     use_ema=False,\n",
        "#     ema_momentum=0.99,\n",
        "#     ema_overwrite_frequency=None,\n",
        "#     jit_compile=True,\n",
        "#     name='Adam',\n",
        "#     # **kwargs\n",
        "# )\n",
        "# Adam(learning_rate=INIT_LR)# decay=INIT_LR / EPOCHS)"
      ]
    },
    {
      "cell_type": "code",
      "execution_count": 25,
      "metadata": {
        "id": "eR-IaJ8GkRAr",
        "colab": {
          "base_uri": "https://localhost:8080/"
        },
        "outputId": "5ec02dc5-ec51-48ff-e032-93abc74867ef"
      },
      "outputs": [
        {
          "output_type": "stream",
          "name": "stdout",
          "text": [
            "Model: \"sequential_24\"\n",
            "_________________________________________________________________\n",
            " Layer (type)                Output Shape              Param #   \n",
            "=================================================================\n",
            " flatten_24 (Flatten)        (None, 392)               0         \n",
            "                                                                 \n",
            " dense_32 (Dense)            (None, 64)                25152     \n",
            "                                                                 \n",
            "=================================================================\n",
            "Total params: 25,152\n",
            "Trainable params: 25,152\n",
            "Non-trainable params: 0\n",
            "_________________________________________________________________\n"
          ]
        }
      ],
      "source": [
        "model1.summary()\n",
        "# model2.summary()\n",
        "# model3.summary()\n",
        "# model4.summary()\n",
        "# model5.summary()\n",
        "# model6.summary()"
      ]
    },
    {
      "cell_type": "code",
      "source": [
        "#pred1 = model1(input_1[0:32])"
      ],
      "metadata": {
        "id": "qFUdHQ3uJAWk"
      },
      "execution_count": 26,
      "outputs": []
    },
    {
      "cell_type": "code",
      "source": [
        "#pred1"
      ],
      "metadata": {
        "id": "jSNF8oqCJgCc"
      },
      "execution_count": 27,
      "outputs": []
    },
    {
      "cell_type": "code",
      "execution_count": 78,
      "metadata": {
        "id": "6nU8uO1YRS53"
      },
      "outputs": [],
      "source": [
        "def step(X1,X2,y):\n",
        "    \n",
        "    with tf.GradientTape(persistent=True) as tape:\n",
        "      pred1 = model1(X1)\n",
        "      pred2 = model2(X2)\n",
        "\n",
        "      pred1_A, pred1_B =tf.split(pred1,num_or_size_splits=2,axis=1)\n",
        "      pred2_A, pred2_B =tf.split(pred2,num_or_size_splits=2,axis=1)\n",
        "\n",
        "      X3 = tf.keras.layers.concatenate([pred1_B,pred2_A])\n",
        "      pred3 = model3(X3)\n",
        "      pred4 = model4(pred3)\n",
        "\n",
        "      pred4_A, pred4_B =tf.split(pred4,num_or_size_splits=2,axis=1)\n",
        "\n",
        "      X4 = tf.keras.layers.concatenate([pred1_A,pred4_A])\n",
        "      X5 = tf.keras.layers.concatenate([pred4_B,pred2_B])\n",
        "\n",
        "      pred5 = model5(X4)\n",
        "      pred6 = model6(X5)\n",
        "    \n",
        "    \n",
        "      loss5 = binary_crossentropy(y, pred5)\n",
        "      loss6 = binary_crossentropy(y, pred6)\n",
        "\n",
        "      #print(loss5.shape)\n",
        "\n",
        "    # grads6_5 = tape.gradient(loss6, model5.trainable_variables)\n",
        "    #print(\"grads6_5 length is = \",grads6_5)\n",
        "    grads6 = tape.gradient(loss6, model6.trainable_variables)#------------------------------\n",
        "    #print(\"grads6_5 length is = \",grads6)\n",
        "    grads5 = tape.gradient(loss5, model5.trainable_variables)#------------------------------\n",
        "\n",
        "    # print()\n",
        "    # print(\"grads6 length is = \",len(grads6))\n",
        "    # print(\"grads6 type is = \",type(grads6))\n",
        "    # print(\"grad6[0].shape = \",grads6[0].shape)\n",
        "    # print(\"grads6[0] type is = \",type(grads6[0]))\n",
        "    # print(\"grad6[1].shape = \",grads6[1].shape)\n",
        "    # print(\"grads6[0] type is = \",type(grads6[0]))\n",
        "    # print(\"grad6[2].shape = \",grads6[2].shape)\n",
        "    # print(\"grads6[0] type is = \",type(grads6[0]))\n",
        "    # print(\"grad6[3].shape = \",grads6[3].shape)\n",
        "    # print(\"grads6[0] type is = \",type(grads6[0]))\n",
        "    #print(model5.trainable_variables[1])\n",
        "    grads4 = tape.gradient([loss5,loss6], model4.trainable_variables)#------------------------------\n",
        "    grads3 = tape.gradient([loss5,loss6], model3.trainable_variables)#------------------------------\n",
        "    # #print(len(grads3))\n",
        "    grads2 = tape.gradient([loss5,loss6], model2.trainable_variables)#------------------------------\n",
        "    grads1 = tape.gradient([loss5,loss6], model1.trainable_variables)#------------------------------\n",
        "    # #grads1 = tape.gradient(grads3[:int(len(grads3)/2)], model1.trainable_variables)\n",
        "    # #grads2 = tape.gradient(grads3[int(len(grads3)/2):], model2.trainable_variables)\n",
        "    \n",
        "    # #print(\"loss is = \",grads1)\n",
        "    \n",
        "    #grads2 = tape.gradient(grads3, model2.trainable_variables)\n",
        "    opt.apply_gradients(zip(grads6, model6.trainable_variables))#------------------------------\n",
        "    opt.apply_gradients(zip(grads5, model5.trainable_variables))#------------------------------\n",
        "\n",
        "    #print(\"ZZZ\",opt.apply_gradients(zip(grads5, model5.trainable_variables)))\n",
        "    opt.apply_gradients(zip(grads4, model4.trainable_variables)) \n",
        "    opt.apply_gradients(zip(grads3, model3.trainable_variables))\n",
        "    opt.apply_gradients(zip(grads2, model2.trainable_variables))\n",
        "    opt.apply_gradients(zip(grads1, model1.trainable_variables)) \n",
        "    loss_sum1=[]\n",
        "    loss_sum2=[]\n",
        "    loss_sum6 = sum(loss6)\n",
        "    loss_sum5 = sum(loss5)\n",
        "    return loss_sum6,loss_sum5"
      ]
    },
    {
      "cell_type": "code",
      "execution_count": 79,
      "metadata": {
        "colab": {
          "base_uri": "https://localhost:8080/"
        },
        "id": "uDpvsSr5Ri5B",
        "outputId": "8187a91c-d19c-47bc-854e-87ca039fdb43"
      },
      "outputs": [
        {
          "output_type": "stream",
          "name": "stdout",
          "text": [
            "[INFO] starting epoch 1/20...took 3.28 minutes\n",
            "[INFO] starting epoch 2/20...took 3.117 minutes\n",
            "[INFO] starting epoch 3/20...took 3.144 minutes\n",
            "[INFO] starting epoch 4/20...took 3.135 minutes\n",
            "[INFO] starting epoch 5/20...took 3.12 minutes\n",
            "[INFO] starting epoch 6/20...took 3.107 minutes\n",
            "[INFO] starting epoch 7/20...took 3.117 minutes\n",
            "[INFO] starting epoch 8/20...took 3.112 minutes\n",
            "[INFO] starting epoch 9/20...took 3.132 minutes\n",
            "[INFO] starting epoch 10/20...took 3.098 minutes\n",
            "[INFO] starting epoch 11/20...took 3.091 minutes\n",
            "[INFO] starting epoch 12/20...took 3.078 minutes\n",
            "[INFO] starting epoch 13/20...took 3.141 minutes\n",
            "[INFO] starting epoch 14/20...took 3.194 minutes\n",
            "[INFO] starting epoch 15/20...took 3.207 minutes\n",
            "[INFO] starting epoch 16/20...took 3.16 minutes\n",
            "[INFO] starting epoch 17/20...took 3.15 minutes\n",
            "[INFO] starting epoch 18/20...took 3.123 minutes\n",
            "[INFO] starting epoch 19/20...took 3.122 minutes\n",
            "[INFO] starting epoch 20/20...took 3.122 minutes\n",
            "tot_loss6 is =  [0.1226, 0.09943333333333333, 0.09551666666666667, 0.09338333333333333, 0.09196666666666667, 0.09096666666666667, 0.09018333333333334, 0.08958333333333333, 0.0891, 0.08871666666666667, 0.08836666666666666, 0.08806666666666667, 0.08778333333333334, 0.08751666666666667, 0.08725, 0.087, 0.08678333333333334, 0.08656666666666667, 0.08638333333333334, 0.08621666666666666]\n",
            "tot_loss5 is =  [0.13245, 0.108, 0.10253333333333334, 0.09968333333333333, 0.09805, 0.09691666666666666, 0.09608333333333334, 0.09543333333333333, 0.0949, 0.09446666666666667, 0.09411666666666667, 0.0938, 0.09351666666666666, 0.09326666666666666, 0.09305, 0.09286666666666667, 0.09268333333333334, 0.09251666666666666, 0.09236666666666667, 0.09223333333333333]\n"
          ]
        }
      ],
      "source": [
        "# numUpdates = 5\n",
        "numUpdates = int(trainX.shape[0] / BS)\n",
        "tot_loss6=[]\n",
        "tot_loss5=[]\n",
        "\n",
        "for epoch in range(0, EPOCHS):\n",
        "  print(\"[INFO] starting epoch {}/{}...\".format(epoch + 1, EPOCHS), end=\"\")\n",
        "  sys.stdout.flush()\n",
        "  epochStart = time.time()\n",
        "  loss_epoch6 = 0\n",
        "  loss_epoch5 = 0\n",
        "  for i in range(0, numUpdates):\n",
        "    start = i * BS\n",
        "    end = start + BS\n",
        "    #print(\"inp_1 = \",input_1[start:end])\n",
        "    #print(\"inp_2 = \",input_2[start:end])\n",
        "    #print(\"epoch and i is = \",epoch,i)\n",
        "    # step(input_1[start:end],input_2[start:end], trainY[start:end])\n",
        "    loss_each_BS6,loss_each_BS5 = step(input_1[start:end],input_2[start:end], trainY[start:end])\n",
        "    loss_epoch6 += loss_each_BS6\n",
        "    loss_epoch5 += loss_each_BS5\n",
        "  tot_loss6.append(int(loss_epoch6)/60000)\n",
        "  tot_loss5.append(int(loss_epoch5)/60000)\n",
        "  epochEnd = time.time()\n",
        "  elapsed = (epochEnd - epochStart) / 60.0\n",
        "  print(\"took {:.4} minutes\".format(elapsed))\n",
        "print(\"tot_loss6 is = \",tot_loss6)\n",
        "print(\"tot_loss5 is = \",tot_loss5)"
      ]
    },
    {
      "cell_type": "markdown",
      "source": [
        "# Epoch:**10**"
      ],
      "metadata": {
        "id": "MfovcaAQx_en"
      }
    },
    {
      "cell_type": "code",
      "source": [
        "plt.figure(figsize=(10, 7))\n",
        "plt.plot(tot_loss6)\n",
        "plt.xlabel(\"Epochs\")\n",
        "plt.ylabel(\"loss\")\n",
        "plt.legend([\"train loss\"])\n",
        "plt.savefig(\"loss_6.jpg\")"
      ],
      "metadata": {
        "id": "iGQttGsUztm7",
        "colab": {
          "base_uri": "https://localhost:8080/",
          "height": 442
        },
        "outputId": "e434edc5-8b3d-451b-c41e-1dfab2b619f2"
      },
      "execution_count": 65,
      "outputs": [
        {
          "output_type": "display_data",
          "data": {
            "text/plain": [
              "<Figure size 720x504 with 1 Axes>"
            ],
            "image/png": "[encoded data removed]"
          },
          "metadata": {
            "needs_background": "light"
          }
        }
      ]
    },
    {
      "cell_type": "code",
      "source": [
        "plt.figure(figsize=(10, 7))\n",
        "plt.plot(tot_loss5)\n",
        "plt.xlabel(\"Epochs\")\n",
        "plt.ylabel(\"loss\")\n",
        "plt.legend([\"train loss\"])\n",
        "plt.savefig(\"loss_5.jpg\")"
      ],
      "metadata": {
        "colab": {
          "base_uri": "https://localhost:8080/",
          "height": 442
        },
        "id": "9Q4hJZNrkori",
        "outputId": "3a7b278e-3641-40c1-fcc0-7a27c7664dc7"
      },
      "execution_count": 66,
      "outputs": [
        {
          "output_type": "display_data",
          "data": {
            "text/plain": [
              "<Figure size 720x504 with 1 Axes>"
            ],
            "image/png": "[encoded data removed]"
          },
          "metadata": {
            "needs_background": "light"
          }
        }
      ]
    },
    {
      "cell_type": "code",
      "source": [
        "input_test_1 = (testX[:,:14,:])\n",
        "input_test_2 = (testX[:,14:28,:])"
      ],
      "metadata": {
        "id": "8kEYKlbsksEF"
      },
      "execution_count": 67,
      "outputs": []
    },
    {
      "cell_type": "code",
      "source": [
        "def step1(X1,X2,y):\n",
        "    with tf.GradientTape(persistent=True) as tape:\n",
        "      pred1 = model1(X1)\n",
        "      pred2 = model2(X2)\n",
        "\n",
        "      pred1_A, pred1_B =tf.split(pred1,num_or_size_splits=2,axis=1)\n",
        "      pred2_A, pred2_B =tf.split(pred2,num_or_size_splits=2,axis=1)\n",
        "\n",
        "      X3 = tf.keras.layers.concatenate([pred1_B,pred2_A])\n",
        "      pred3 = model3(X3)\n",
        "      pred4 = model4(pred3)\n",
        "\n",
        "      pred4_A, pred4_B =tf.split(pred4,num_or_size_splits=2,axis=1)\n",
        "\n",
        "      X4 = tf.keras.layers.concatenate([pred1_A,pred4_A])\n",
        "      X5 = tf.keras.layers.concatenate([pred4_B,pred2_B])\n",
        "\n",
        "      pred5 = model5(X4)\n",
        "      pred6 = model6(X5)\n",
        "\n",
        "      loss6 = binary_crossentropy(y, pred6)\n",
        "      loss5 = binary_crossentropy(y, pred5)\n",
        "\n",
        "      #loss_sum6=[]\n",
        "      #loss_sum5=[]\n",
        "      loss_sum6 = sum(loss6)\n",
        "      loss_sum5 = sum(loss5)\n",
        "\n",
        "      print(\"test loss6 is = \",int(loss_sum6)/10000)\n",
        "      print(\"test loss5 is = \",int(loss_sum5)/10000)\n",
        "      return pred6,pred5"
      ],
      "metadata": {
        "id": "ywpkEGy2kvOr"
      },
      "execution_count": 68,
      "outputs": []
    },
    {
      "cell_type": "code",
      "source": [
        "out6,out5 = step1(input_test_1,input_test_2, testY)"
      ],
      "metadata": {
        "colab": {
          "base_uri": "https://localhost:8080/"
        },
        "id": "FZgnfHG_k1QX",
        "outputId": "62ccbc1e-bce3-44b3-ecd8-1ed21f50ae0c"
      },
      "execution_count": 54,
      "outputs": [
        {
          "output_type": "stream",
          "name": "stdout",
          "text": [
            "test loss6 is =  0.1014\n",
            "test loss5 is =  0.1034\n"
          ]
        }
      ]
    },
    {
      "cell_type": "markdown",
      "source": [
        "# **Epochs-2**"
      ],
      "metadata": {
        "id": "t8WNVYeFoPfx"
      }
    },
    {
      "cell_type": "code",
      "source": [
        "n = 10\n",
        "plt.figure(figsize=(20, 4))\n",
        "for i in range(n):\n",
        "  # display original\n",
        "  ax = plt.subplot(2, n, i + 1)\n",
        "  predictd_output = tf.reshape(out6[i],[28,28])\n",
        "  input_given = tf.reshape(testY[i],[28,28])\n",
        "  plt.imshow(input_given)\n",
        "  plt.title(\"input_img\")\n",
        "  plt.gray()\n",
        "\n",
        "  ax.get_xaxis().set_visible(False)\n",
        "  ax.get_yaxis().set_visible(False)\n",
        "\n",
        "  # display reconstruction\n",
        "  ax = plt.subplot(2, n, i + 1 + n)\n",
        "  plt.imshow(predictd_output)\n",
        "  plt.title(\"decoded_img\")\n",
        "  plt.gray()\n",
        "  ax.get_xaxis().set_visible(False)\n",
        "  ax.get_yaxis().set_visible(False)\n",
        "plt.savefig(\"decoded_396_192_2_epoch.png\")\n",
        "plt.show()"
      ],
      "metadata": {
        "colab": {
          "base_uri": "https://localhost:8080/",
          "height": 264
        },
        "id": "Q3BiymDLk3qk",
        "outputId": "75b13b9d-78fa-4ce9-dc91-22bc15be1b02"
      },
      "execution_count": 61,
      "outputs": [
        {
          "output_type": "display_data",
          "data": {
            "text/plain": [
              "<Figure size 1440x288 with 20 Axes>"
            ],
            "image/png": "[encoded data removed]"
          },
          "metadata": {
            "needs_background": "light"
          }
        }
      ]
    },
    {
      "cell_type": "code",
      "source": [
        "out6,out5 = step1(input_test_1,input_test_2, testY)"
      ],
      "metadata": {
        "colab": {
          "base_uri": "https://localhost:8080/"
        },
        "id": "UV46U__OoqIZ",
        "outputId": "c200d39f-fe0f-4cdf-89f1-bc5d5ef4d247"
      },
      "execution_count": 69,
      "outputs": [
        {
          "output_type": "stream",
          "name": "stdout",
          "text": [
            "test loss6 is =  0.0917\n",
            "test loss5 is =  0.0893\n"
          ]
        }
      ]
    },
    {
      "cell_type": "code",
      "source": [
        "n = 10\n",
        "plt.figure(figsize=(20, 4))\n",
        "for i in range(n):\n",
        "  # display original\n",
        "  ax = plt.subplot(2, n, i + 1)\n",
        "  predictd_output = tf.reshape(out6[i],[28,28])\n",
        "  input_given = tf.reshape(testY[i],[28,28])\n",
        "  plt.imshow(input_given)\n",
        "  plt.title(\"input_img\")\n",
        "  plt.gray()\n",
        "\n",
        "  ax.get_xaxis().set_visible(False)\n",
        "  ax.get_yaxis().set_visible(False)\n",
        "\n",
        "  # display reconstruction\n",
        "  ax = plt.subplot(2, n, i + 1 + n)\n",
        "  plt.imshow(predictd_output)\n",
        "  plt.title(\"decoded_img\")\n",
        "  plt.gray()\n",
        "  ax.get_xaxis().set_visible(False)\n",
        "  ax.get_yaxis().set_visible(False)\n",
        "plt.savefig(\"decoded_396_192_2_epoch.png\")\n",
        "plt.show()"
      ],
      "metadata": {
        "colab": {
          "base_uri": "https://localhost:8080/",
          "height": 264
        },
        "id": "XYVkVnfZk7XJ",
        "outputId": "577123f6-2979-4813-d44b-aa3de9236225"
      },
      "execution_count": 70,
      "outputs": [
        {
          "output_type": "display_data",
          "data": {
            "text/plain": [
              "<Figure size 1440x288 with 20 Axes>"
            ],
            "image/png": "[encoded data removed]"
          },
          "metadata": {
            "needs_background": "light"
          }
        }
      ]
    },
    {
      "cell_type": "code",
      "source": [
        "# def f(w1, w2):\n",
        "#   return 3 * w1 ** 2 + 2 * w1 * w2"
      ],
      "metadata": {
        "id": "tmlWDZOjzuOj"
      },
      "execution_count": 56,
      "outputs": []
    },
    {
      "cell_type": "code",
      "source": [
        "# w1, w2 = tf.Variable(5.), tf.Variable(3.)\n",
        "# with tf.GradientTape() as tape:\n",
        "#   z = f(w1, w2)\n",
        "# gradients = tape.gradient(z, [w1, w2])"
      ],
      "metadata": {
        "id": "95in1BbDzxC7"
      },
      "execution_count": 57,
      "outputs": []
    },
    {
      "cell_type": "code",
      "source": [
        "# gradients"
      ],
      "metadata": {
        "id": "I8zZ8Ld7z7Q0"
      },
      "execution_count": 58,
      "outputs": []
    },
    {
      "cell_type": "code",
      "source": [
        "def step2(X1,X2,y):\n",
        "    #with tf.GradientTape(persistent=True) as tape:\n",
        "    pred1 = model1(X1)\n",
        "    pred2 = model2(X2)\n",
        "\n",
        "    pred1_A, pred1_B =tf.split(pred1,num_or_size_splits=2,axis=1)\n",
        "    pred2_A, pred2_B =tf.split(pred2,num_or_size_splits=2,axis=1)\n",
        "\n",
        "    X3 = tf.keras.layers.concatenate([pred1_B,pred2_A])\n",
        "    pred3 = model3(X3)\n",
        "    pred4 = model4(pred3)\n",
        "\n",
        "    pred4_A, pred4_B =tf.split(pred4,num_or_size_splits=2,axis=1)\n",
        "\n",
        "    X4 = tf.keras.layers.concatenate([pred1_A,pred4_A])\n",
        "    X5 = tf.keras.layers.concatenate([pred4_B,pred2_B])\n",
        "\n",
        "    pred5 = model5(X4)\n",
        "    pred6 = model6(X5)\n",
        "\n",
        "    loss6 = binary_crossentropy(y, pred6)\n",
        "    loss5 = binary_crossentropy(y, pred5)\n",
        "\n",
        "    #loss_sum6=[]\n",
        "    #loss_sum5=[]\n",
        "    loss_sum6 = sum(loss6)\n",
        "    loss_sum5 = sum(loss5)\n",
        "\n",
        "    print(\"test loss6 is = \",int(loss_sum6)/10000)\n",
        "    print(\"test loss5 is = \",int(loss_sum5)/10000)\n",
        "    return pred6,pred5"
      ],
      "metadata": {
        "id": "lFza7CbYwiBc"
      },
      "execution_count": 71,
      "outputs": []
    },
    {
      "cell_type": "code",
      "source": [
        "out6,out5 = step2(input_test_1,input_test_2, testY)"
      ],
      "metadata": {
        "colab": {
          "base_uri": "https://localhost:8080/"
        },
        "id": "wtSCMnuRwi8u",
        "outputId": "d70327b9-dfa9-4e86-f999-7237edcd56e1"
      },
      "execution_count": 72,
      "outputs": [
        {
          "output_type": "stream",
          "name": "stdout",
          "text": [
            "test loss6 is =  0.0917\n",
            "test loss5 is =  0.0893\n"
          ]
        }
      ]
    },
    {
      "cell_type": "code",
      "source": [
        "n = 10\n",
        "plt.figure(figsize=(20, 6))\n",
        "for i in range(n):\n",
        "  # display original\n",
        "  ax = plt.subplot(3, n, i + 1)\n",
        "  predictd_output = tf.reshape(out6[i],[28,28])\n",
        "  predictd_output1 = tf.reshape(out5[i],[28,28])\n",
        "  input_given = tf.reshape(testY[i],[28,28])\n",
        "  plt.imshow(input_given)\n",
        "  plt.title(\"input_img\")\n",
        "  plt.gray()\n",
        "\n",
        "  ax.get_xaxis().set_visible(False)\n",
        "  ax.get_yaxis().set_visible(False)\n",
        "\n",
        "  # display reconstruction\n",
        "  ax = plt.subplot(3, n, i + 1 + n)\n",
        "  plt.imshow(predictd_output)\n",
        "  plt.title(\"decoded_img\")\n",
        "  plt.gray()\n",
        "  ax.get_xaxis().set_visible(False)\n",
        "  ax.get_yaxis().set_visible(False)\n",
        "\n",
        "  ax = plt.subplot(3, n, i + 1 + 2*n)\n",
        "  plt.imshow(predictd_output1)\n",
        "  plt.title(\"decoded_img\")\n",
        "  plt.gray()\n",
        "  ax.get_xaxis().set_visible(False)\n",
        "  ax.get_yaxis().set_visible(False)\n",
        "plt.savefig(\"decoded_396_192_2_epoch.png\")\n",
        "plt.show()"
      ],
      "metadata": {
        "colab": {
          "base_uri": "https://localhost:8080/",
          "height": 375
        },
        "id": "H75HlTV9wq3g",
        "outputId": "c2b22590-7d1a-4b27-ef0b-35395806e4c9"
      },
      "execution_count": 75,
      "outputs": [
        {
          "output_type": "display_data",
          "data": {
            "text/plain": [
              "<Figure size 1440x432 with 30 Axes>"
            ],
            "image/png": "[encoded data removed]"
          },
          "metadata": {
            "needs_background": "light"
          }
        }
      ]
    },
    {
      "cell_type": "markdown",
      "source": [
        "# **Epoch20**"
      ],
      "metadata": {
        "id": "xz4SoVIqCoVI"
      }
    },
    {
      "cell_type": "code",
      "source": [
        "plt.figure(figsize=(10, 7))\n",
        "plt.plot(tot_loss6)\n",
        "plt.xlabel(\"Epochs\")\n",
        "plt.ylabel(\"loss\")\n",
        "plt.legend([\"train loss\"])\n",
        "plt.savefig(\"loss_6.jpg\")"
      ],
      "metadata": {
        "colab": {
          "base_uri": "https://localhost:8080/",
          "height": 442
        },
        "id": "9zfxE9VOyH4H",
        "outputId": "d9b94026-d5cb-40ce-ddc6-8736fc29f15a"
      },
      "execution_count": 80,
      "outputs": [
        {
          "output_type": "display_data",
          "data": {
            "text/plain": [
              "<Figure size 720x504 with 1 Axes>"
            ],
            "image/png": "[encoded data removed]"
          },
          "metadata": {
            "needs_background": "light"
          }
        }
      ]
    },
    {
      "cell_type": "code",
      "source": [
        "plt.figure(figsize=(10, 7))\n",
        "plt.plot(tot_loss5)\n",
        "plt.xlabel(\"Epochs\")\n",
        "plt.ylabel(\"loss\")\n",
        "plt.legend([\"train loss\"])\n",
        "plt.savefig(\"loss_5.jpg\")"
      ],
      "metadata": {
        "colab": {
          "base_uri": "https://localhost:8080/",
          "height": 442
        },
        "id": "HYarWGZRyIdo",
        "outputId": "2022fa9d-8963-4dce-80f6-1cf5cc3db16f"
      },
      "execution_count": 81,
      "outputs": [
        {
          "output_type": "display_data",
          "data": {
            "text/plain": [
              "<Figure size 720x504 with 1 Axes>"
            ],
            "image/png": "[encoded data removed]"
          },
          "metadata": {
            "needs_background": "light"
          }
        }
      ]
    },
    {
      "cell_type": "code",
      "source": [
        "def step3(X1,X2,y):\n",
        "    #with tf.GradientTape(persistent=True) as tape:\n",
        "    pred1 = model1(X1)\n",
        "    pred2 = model2(X2)\n",
        "\n",
        "    pred1_A, pred1_B =tf.split(pred1,num_or_size_splits=2,axis=1)\n",
        "    pred2_A, pred2_B =tf.split(pred2,num_or_size_splits=2,axis=1)\n",
        "\n",
        "    X3 = tf.keras.layers.concatenate([pred1_B,pred2_A])\n",
        "    pred3 = model3(X3)\n",
        "    pred4 = model4(pred3)\n",
        "\n",
        "    pred4_A, pred4_B =tf.split(pred4,num_or_size_splits=2,axis=1)\n",
        "\n",
        "    X4 = tf.keras.layers.concatenate([pred1_A,pred4_A])\n",
        "    X5 = tf.keras.layers.concatenate([pred4_B,pred2_B])\n",
        "\n",
        "    pred5 = model5(X4)\n",
        "    pred6 = model6(X5)\n",
        "\n",
        "    loss6 = binary_crossentropy(y, pred6)\n",
        "    loss5 = binary_crossentropy(y, pred5)\n",
        "\n",
        "    #loss_sum6=[]\n",
        "    #loss_sum5=[]\n",
        "    loss_sum6 = sum(loss6)\n",
        "    loss_sum5 = sum(loss5)\n",
        "\n",
        "    print(\"test loss6 is = \",int(loss_sum6)/10000)\n",
        "    print(\"test loss5 is = \",int(loss_sum5)/10000)\n",
        "    return pred6,pred5"
      ],
      "metadata": {
        "id": "OtHz-oZ0xvE0"
      },
      "execution_count": 82,
      "outputs": []
    },
    {
      "cell_type": "code",
      "source": [
        "out6,out5 = step3(input_test_1,input_test_2, testY)"
      ],
      "metadata": {
        "colab": {
          "base_uri": "https://localhost:8080/"
        },
        "id": "nGZMp4_Hxx4r",
        "outputId": "4d5bb6cb-c209-4c22-c764-9a3b7d3b9755"
      },
      "execution_count": 83,
      "outputs": [
        {
          "output_type": "stream",
          "name": "stdout",
          "text": [
            "test loss6 is =  0.0863\n",
            "test loss5 is =  0.0922\n"
          ]
        }
      ]
    },
    {
      "cell_type": "code",
      "source": [
        "n = 10\n",
        "plt.figure(figsize=(20, 6))\n",
        "for i in range(n):\n",
        "  # display original\n",
        "  ax = plt.subplot(3, n, i + 1)\n",
        "  predictd_output = tf.reshape(out6[i],[28,28])\n",
        "  predictd_output1 = tf.reshape(out5[i],[28,28])\n",
        "  input_given = tf.reshape(testY[i],[28,28])\n",
        "  plt.imshow(input_given)\n",
        "  plt.title(\"input_img\")\n",
        "  plt.gray()\n",
        "\n",
        "  ax.get_xaxis().set_visible(False)\n",
        "  ax.get_yaxis().set_visible(False)\n",
        "\n",
        "  # display reconstruction\n",
        "  ax = plt.subplot(3, n, i + 1 + n)\n",
        "  plt.imshow(predictd_output)\n",
        "  plt.title(\"decoded_img\")\n",
        "  plt.gray()\n",
        "  ax.get_xaxis().set_visible(False)\n",
        "  ax.get_yaxis().set_visible(False)\n",
        "\n",
        "  ax = plt.subplot(3, n, i + 1 + 2*n)\n",
        "  plt.imshow(predictd_output1)\n",
        "  plt.title(\"decoded_img\")\n",
        "  plt.gray()\n",
        "  ax.get_xaxis().set_visible(False)\n",
        "  ax.get_yaxis().set_visible(False)\n",
        "plt.savefig(\"decoded_396_192_2_epoch.png\")\n",
        "plt.show()"
      ],
      "metadata": {
        "colab": {
          "base_uri": "https://localhost:8080/",
          "height": 375
        },
        "id": "ZivOV4G9xybx",
        "outputId": "7af4aa99-e27c-452b-e695-e342f58d79f8"
      },
      "execution_count": 84,
      "outputs": [
        {
          "output_type": "display_data",
          "data": {
            "text/plain": [
              "<Figure size 1440x432 with 30 Axes>"
            ],
            "image/png": "[encoded data removed]"
          },
          "metadata": {
            "needs_background": "light"
          }
        }
      ]
    }
  ],
  "metadata": {
    "accelerator": "GPU",
    "colab": {
      "provenance": [],
      "include_colab_link": true
    },
    "gpuClass": "standard",
    "kernelspec": {
      "display_name": "Python 3",
      "name": "python3"
    },
    "language_info": {
      "name": "python"
    }
  },
  "nbformat": 4,
  "nbformat_minor": 0
}