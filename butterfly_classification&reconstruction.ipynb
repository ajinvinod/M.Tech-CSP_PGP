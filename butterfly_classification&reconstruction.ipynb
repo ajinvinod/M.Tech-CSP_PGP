{
  "cells": [
    {
      "cell_type": "markdown",
      "metadata": {
        "id": "view-in-github",
        "colab_type": "text"
      },
      "source": [
        "<a href=\"https://colab.research.google.com/github/ajinvinodk/M.Tech-CSP_PGP/blob/main/butterfly_classification%26reconstruction.ipynb\" target=\"_parent\"><img src=\"https://colab.research.google.com/assets/colab-badge.svg\" alt=\"Open In Colab\"/></a>"
      ]
    },
    {
      "cell_type": "code",
      "execution_count": 41,
      "metadata": {
        "id": "BJBNqNu6lp_-"
      },
      "outputs": [],
      "source": [
        "from tensorflow.keras.datasets import mnist\n",
        "import tensorflow as tf\n",
        "import numpy as np\n",
        "import time\n",
        "import sys\n",
        "import matplotlib.pyplot as plt\n",
        "from tensorflow.keras.models import Sequential\n",
        "#from tensorflow.keras.layers import BatchNormalization\n",
        "#from tensorflow.keras.layers import Conv2D\n",
        "#from tensorflow.keras.layers import MaxPooling2D\n",
        "from tensorflow.keras.layers import Activation\n",
        "from tensorflow.keras.layers import Flatten\n",
        "from tensorflow.keras.layers import Dropout\n",
        "from tensorflow.keras.layers import Dense\n",
        "from tensorflow.keras.optimizers import Adam\n",
        "from tensorflow.keras.losses import categorical_crossentropy\n",
        "from tensorflow.keras.losses import sparse_categorical_crossentropy\n",
        "from tensorflow.keras.losses import binary_crossentropy\n",
        "#from tensorflow.keras.utils import to_categorical\n",
        "from sklearn.metrics import accuracy_score"
      ]
    },
    {
      "cell_type": "code",
      "execution_count": 42,
      "metadata": {
        "id": "CU2E2FvXl7iQ"
      },
      "outputs": [],
      "source": [
        "((trainX, trainY), (testX, testY)) = mnist.load_data()\n",
        "trainX_cnn = trainX\n",
        "trainY_cnn = trainY\n",
        "testX_cnn = testX\n",
        "testY_cnn = testY\n",
        "trainX_cnn = trainX_cnn.reshape(trainX_cnn.shape[0], 28, 28, 1)\n",
        "testX_cnn = testX_cnn.reshape(testX_cnn.shape[0], 28, 28, 1)\n",
        "input_shape = (28, 28, 1)\n",
        "trainX_cnn = trainX_cnn.astype(\"float32\") / 255.0\n",
        "testX_cnn = testX_cnn.astype(\"float32\") / 255.0\n",
        "\n",
        "trainX = trainX.astype(\"float32\") / 255.0\n",
        "testX = testX.astype(\"float32\") / 255.0\n",
        "testX1=testX\n",
        "trainX1=trainX\n",
        "trainY1=trainY\n",
        "testY1=testY\n",
        "trainY = trainX.reshape(60000,784)\n",
        "testY = testX.reshape(10000,784)\n",
        "input_1 = (trainX[:,:14,:])\n",
        "input_2 = (trainX[:,14:28,:])\n",
        "input_test_1 = (testX[:,:14,:])\n",
        "input_test_2 = (testX[:,14:28,:])"
      ]
    },
    {
      "cell_type": "code",
      "source": [
        "testY1.shape"
      ],
      "metadata": {
        "colab": {
          "base_uri": "https://localhost:8080/"
        },
        "id": "NXHnopqkTBAk",
        "outputId": "c447618a-8103-41be-8aa5-b185c5d50cc5"
      },
      "execution_count": 43,
      "outputs": [
        {
          "output_type": "execute_result",
          "data": {
            "text/plain": [
              "(10000,)"
            ]
          },
          "metadata": {},
          "execution_count": 43
        }
      ]
    },
    {
      "cell_type": "code",
      "execution_count": 44,
      "metadata": {
        "id": "B6_llRikRKLH"
      },
      "outputs": [],
      "source": [
        "def build_model_1(width, height, depth):\n",
        "\tinputShape = (width,height, depth)\t\n",
        "\tmodel = Sequential([\n",
        "\t\tFlatten(input_shape = inputShape),\n",
        "\t\tDense(198,activation = 'relu'),\n",
        "    Dense(64,activation = 'relu')\n",
        "\t])\n",
        "\treturn model"
      ]
    },
    {
      "cell_type": "code",
      "execution_count": 45,
      "metadata": {
        "id": "c6pDChynV2Z-"
      },
      "outputs": [],
      "source": [
        "def build_model_2(width, height, depth):\n",
        "\tinputShape = (width,height, depth)\t\n",
        "\tmodel = Sequential([\n",
        "\t\tFlatten(input_shape = inputShape),\n",
        "\t\tDense(198,activation = 'relu'),\n",
        "    Dense(64,activation = 'relu')\n",
        "\t])\n",
        "\treturn model"
      ]
    },
    {
      "cell_type": "code",
      "execution_count": 46,
      "metadata": {
        "id": "jW7C9VSqV73O"
      },
      "outputs": [],
      "source": [
        "def build_model_3(width, height, classes):\n",
        "\tinputShape = (width,height)\n",
        "\tmodel = Sequential([\n",
        "\t\tFlatten(input_shape = inputShape),\n",
        "\t\tDense(32,activation = 'relu'),\n",
        "    Dense(32,activation = 'relu'),\n",
        "\t])\n",
        "\treturn model"
      ]
    },
    {
      "cell_type": "code",
      "execution_count": 47,
      "metadata": {
        "id": "aeUj7fqrWHY_"
      },
      "outputs": [],
      "source": [
        "def build_model_4(width, height, classes):\n",
        "\tinputShape = (width,height)\n",
        "\tmodel = Sequential([\n",
        "\t\tFlatten(input_shape = inputShape),\n",
        "\t\tDense(48,activation = 'relu'),\n",
        "    Dense(64,activation = 'relu')\n",
        "\t])\n",
        "\treturn model"
      ]
    },
    {
      "cell_type": "code",
      "execution_count": 48,
      "metadata": {
        "id": "28JY5eXuRQSv"
      },
      "outputs": [],
      "source": [
        "def build_model_5(width, height, classes):\n",
        "\tinputShape = (width,height)\n",
        "\tmodel = Sequential([Flatten(input_shape=inputShape),\n",
        "          Dense(32, activation=\"relu\"),\n",
        "          Dense(16, activation=\"relu\"),\n",
        "          Dense(10, activation=\"softmax\")\n",
        "          ])\n",
        "\treturn model"
      ]
    },
    {
      "cell_type": "code",
      "execution_count": 49,
      "metadata": {
        "id": "63XJNR3RWVln"
      },
      "outputs": [],
      "source": [
        "def build_model_6(width, height, classes):\n",
        "\tinputShape = (width,height)\n",
        "\tmodel = Sequential([\n",
        "\t\tFlatten(input_shape = inputShape),\n",
        "    Dense(392,activation = 'relu'),\n",
        "\t\tDense(classes, activation= \"sigmoid\")#\"softmax\")\n",
        "\t])\n",
        "\treturn model"
      ]
    },
    {
      "cell_type": "code",
      "execution_count": 50,
      "metadata": {
        "colab": {
          "base_uri": "https://localhost:8080/"
        },
        "id": "9bYeFl7SRQ0n",
        "outputId": "a5f3475d-3124-4978-ecb7-82bf6493d48b"
      },
      "outputs": [
        {
          "output_type": "stream",
          "name": "stdout",
          "text": [
            "[INFO] creating model...\n"
          ]
        }
      ],
      "source": [
        "EPOCHS = 10\n",
        "BS = 32\n",
        "INIT_LR = 1e-2\n",
        "print(\"[INFO] creating model...\")\n",
        "model1= build_model_1(14,28,1)\n",
        "model2= build_model_2(14,28,1)\n",
        "model3= build_model_3(64,1,32)\n",
        "model4= build_model_4(32,1,64)\n",
        "model5= build_model_5(64,1,784)\n",
        "model6= build_model_6(64,1,784)\n",
        "opt = tf.keras.optimizers.legacy.Adam(learning_rate=INIT_LR, decay=INIT_LR / EPOCHS)\n",
        "# Adam(\n",
        "#     learning_rate=INIT_LR,\n",
        "#     beta_1=0.9,\n",
        "#     beta_2=0.999,\n",
        "#     epsilon=1e-07,\n",
        "#     amsgrad=False,\n",
        "#     weight_decay=None,\n",
        "#     clipnorm=None,\n",
        "#     clipvalue=None,\n",
        "#     global_clipnorm=None,\n",
        "#     use_ema=False,\n",
        "#     ema_momentum=0.99,\n",
        "#     ema_overwrite_frequency=None,\n",
        "#     jit_compile=True,\n",
        "#     name='Adam',\n",
        "#     # **kwargs\n",
        "# )\n",
        "# Adam(learning_rate=INIT_LR)# decay=INIT_LR / EPOCHS)"
      ]
    },
    {
      "cell_type": "code",
      "execution_count": 51,
      "metadata": {
        "id": "eR-IaJ8GkRAr",
        "colab": {
          "base_uri": "https://localhost:8080/"
        },
        "outputId": "4599be06-fd61-4588-d44c-7715ee073889"
      },
      "outputs": [
        {
          "output_type": "stream",
          "name": "stdout",
          "text": [
            "Model: \"sequential_18\"\n",
            "_________________________________________________________________\n",
            " Layer (type)                Output Shape              Param #   \n",
            "=================================================================\n",
            " flatten_18 (Flatten)        (None, 392)               0         \n",
            "                                                                 \n",
            " dense_39 (Dense)            (None, 198)               77814     \n",
            "                                                                 \n",
            " dense_40 (Dense)            (None, 64)                12736     \n",
            "                                                                 \n",
            "=================================================================\n",
            "Total params: 90,550\n",
            "Trainable params: 90,550\n",
            "Non-trainable params: 0\n",
            "_________________________________________________________________\n",
            "Model: \"sequential_22\"\n",
            "_________________________________________________________________\n",
            " Layer (type)                Output Shape              Param #   \n",
            "=================================================================\n",
            " flatten_22 (Flatten)        (None, 64)                0         \n",
            "                                                                 \n",
            " dense_47 (Dense)            (None, 32)                2080      \n",
            "                                                                 \n",
            " dense_48 (Dense)            (None, 16)                528       \n",
            "                                                                 \n",
            " dense_49 (Dense)            (None, 10)                170       \n",
            "                                                                 \n",
            "=================================================================\n",
            "Total params: 2,778\n",
            "Trainable params: 2,778\n",
            "Non-trainable params: 0\n",
            "_________________________________________________________________\n",
            "Model: \"sequential_23\"\n",
            "_________________________________________________________________\n",
            " Layer (type)                Output Shape              Param #   \n",
            "=================================================================\n",
            " flatten_23 (Flatten)        (None, 64)                0         \n",
            "                                                                 \n",
            " dense_50 (Dense)            (None, 392)               25480     \n",
            "                                                                 \n",
            " dense_51 (Dense)            (None, 784)               308112    \n",
            "                                                                 \n",
            "=================================================================\n",
            "Total params: 333,592\n",
            "Trainable params: 333,592\n",
            "Non-trainable params: 0\n",
            "_________________________________________________________________\n"
          ]
        }
      ],
      "source": [
        "model1.summary()\n",
        "# model2.summary()\n",
        "# model3.summary()\n",
        "# model4.summary()\n",
        "model5.summary()\n",
        "model6.summary()"
      ]
    },
    {
      "cell_type": "code",
      "source": [
        "#pred1 = model1(input_1[0:32])"
      ],
      "metadata": {
        "id": "qFUdHQ3uJAWk"
      },
      "execution_count": 52,
      "outputs": []
    },
    {
      "cell_type": "code",
      "source": [
        "#pred1"
      ],
      "metadata": {
        "id": "jSNF8oqCJgCc"
      },
      "execution_count": 53,
      "outputs": []
    },
    {
      "cell_type": "code",
      "execution_count": 54,
      "metadata": {
        "id": "6nU8uO1YRS53"
      },
      "outputs": [],
      "source": [
        "def step(X1,X2,y,y1):\n",
        "    \n",
        "    with tf.GradientTape(persistent=True) as tape:\n",
        "      pred1 = model1(X1)\n",
        "      pred2 = model2(X2)\n",
        "\n",
        "      pred1_A, pred1_B =tf.split(pred1,num_or_size_splits=2,axis=1)\n",
        "      pred2_A, pred2_B =tf.split(pred2,num_or_size_splits=2,axis=1)\n",
        "\n",
        "      X3 = tf.keras.layers.concatenate([pred1_B,pred2_A])\n",
        "      pred3 = model3(X3)\n",
        "      pred4 = model4(pred3)\n",
        "\n",
        "      pred4_A, pred4_B =tf.split(pred4,num_or_size_splits=2,axis=1)\n",
        "\n",
        "      X4 = tf.keras.layers.concatenate([pred1_A,pred4_A])\n",
        "      X5 = tf.keras.layers.concatenate([pred4_B,pred2_B])\n",
        "\n",
        "      pred5 = model5(X4)\n",
        "      pred6 = model6(X5)\n",
        "    \n",
        "      loss5 =sparse_categorical_crossentropy(y1, pred5)\n",
        "      # loss5 = binary_crossentropy(y, pred5)\n",
        "      loss6 = binary_crossentropy(y, pred6)\n",
        "\n",
        "      #print(loss5.shape)\n",
        "\n",
        "    # grads6_5 = tape.gradient(loss6, model5.trainable_variables)\n",
        "    #print(\"grads6_5 length is = \",grads6_5)\n",
        "    grads6 = tape.gradient(loss6, model6.trainable_variables)#------------------------------\n",
        "    #print(\"grads6_5 length is = \",grads6)\n",
        "    grads5 = tape.gradient(loss5, model5.trainable_variables)#------------------------------\n",
        "\n",
        "    # print()\n",
        "    # print(\"grads6 length is = \",len(grads6))\n",
        "    # print(\"grads6 type is = \",type(grads6))\n",
        "    # print(\"grad6[0].shape = \",grads6[0].shape)\n",
        "    # print(\"grads6[0] type is = \",type(grads6[0]))\n",
        "    # print(\"grad6[1].shape = \",grads6[1].shape)\n",
        "    # print(\"grads6[0] type is = \",type(grads6[0]))\n",
        "    # print(\"grad6[2].shape = \",grads6[2].shape)\n",
        "    # print(\"grads6[0] type is = \",type(grads6[0]))\n",
        "    # print(\"grad6[3].shape = \",grads6[3].shape)\n",
        "    # print(\"grads6[0] type is = \",type(grads6[0]))\n",
        "    #print(model5.trainable_variables[1])\n",
        "    grads4 = tape.gradient([loss5,loss6], model4.trainable_variables)#------------------------------\n",
        "    grads3 = tape.gradient([loss5,loss6], model3.trainable_variables)#------------------------------\n",
        "    # #print(len(grads3))\n",
        "    grads2 = tape.gradient([loss5,loss6], model2.trainable_variables)#------------------------------\n",
        "    grads1 = tape.gradient([loss5,loss6], model1.trainable_variables)#------------------------------\n",
        "    # #grads1 = tape.gradient(grads3[:int(len(grads3)/2)], model1.trainable_variables)\n",
        "    # #grads2 = tape.gradient(grads3[int(len(grads3)/2):], model2.trainable_variables)\n",
        "    \n",
        "    # #print(\"loss is = \",grads1)\n",
        "    \n",
        "    #grads2 = tape.gradient(grads3, model2.trainable_variables)\n",
        "    opt.apply_gradients(zip(grads6, model6.trainable_variables))#------------------------------\n",
        "    opt.apply_gradients(zip(grads5, model5.trainable_variables))#------------------------------\n",
        "\n",
        "    #print(\"ZZZ\",opt.apply_gradients(zip(grads5, model5.trainable_variables)))\n",
        "    opt.apply_gradients(zip(grads4, model4.trainable_variables)) \n",
        "    opt.apply_gradients(zip(grads3, model3.trainable_variables))\n",
        "    opt.apply_gradients(zip(grads2, model2.trainable_variables))\n",
        "    opt.apply_gradients(zip(grads1, model1.trainable_variables)) \n",
        "    loss_sum1=[]\n",
        "    loss_sum2=[]\n",
        "    loss_sum6 = sum(loss6)\n",
        "    loss_sum5 = sum(loss5)\n",
        "    return loss_sum6,loss_sum5"
      ]
    },
    {
      "cell_type": "code",
      "execution_count": null,
      "metadata": {
        "colab": {
          "base_uri": "https://localhost:8080/"
        },
        "id": "uDpvsSr5Ri5B",
        "outputId": "040ea24a-3aea-442d-8e59-4ed6bbba37bd"
      },
      "outputs": [
        {
          "output_type": "stream",
          "name": "stdout",
          "text": [
            "[INFO] starting epoch 1/10...took 4.128 minutes\n",
            "[INFO] starting epoch 2/10...took 4.101 minutes\n",
            "[INFO] starting epoch 3/10...took 4.105 minutes\n",
            "[INFO] starting epoch 4/10...took 4.078 minutes\n",
            "[INFO] starting epoch 5/10...took 4.081 minutes\n",
            "[INFO] starting epoch 6/10...took 4.107 minutes\n",
            "[INFO] starting epoch 7/10...took 4.088 minutes\n",
            "[INFO] starting epoch 8/10..."
          ]
        }
      ],
      "source": [
        "# numUpdates = 5\n",
        "numUpdates = int(trainX.shape[0] / BS)\n",
        "tot_loss6=[]\n",
        "tot_loss5=[]\n",
        "\n",
        "for epoch in range(0, EPOCHS):\n",
        "  print(\"[INFO] starting epoch {}/{}...\".format(epoch + 1, EPOCHS), end=\"\")\n",
        "  sys.stdout.flush()\n",
        "  epochStart = time.time()\n",
        "  loss_epoch6 = 0\n",
        "  loss_epoch5 = 0\n",
        "  for i in range(0, numUpdates):\n",
        "    start = i * BS\n",
        "    end = start + BS\n",
        "    #print(\"inp_1 = \",input_1[start:end])\n",
        "    #print(\"inp_2 = \",input_2[start:end])\n",
        "    #print(\"epoch and i is = \",epoch,i)\n",
        "    # step(input_1[start:end],input_2[start:end], trainY[start:end])\n",
        "    loss_each_BS6,loss_each_BS5 = step(input_1[start:end],input_2[start:end], trainY[start:end],trainY1[start:end])\n",
        "    loss_epoch6 += loss_each_BS6\n",
        "    loss_epoch5 += loss_each_BS5\n",
        "  tot_loss6.append(int(loss_epoch6)/60000)\n",
        "  tot_loss5.append(int(loss_epoch5)/60000)\n",
        "  epochEnd = time.time()\n",
        "  elapsed = (epochEnd - epochStart) / 60.0\n",
        "  print(\"took {:.4} minutes\".format(elapsed))\n",
        "print(\"tot_loss6 is = \",tot_loss6)\n",
        "print(\"tot_loss5 is = \",tot_loss5)"
      ]
    },
    {
      "cell_type": "markdown",
      "source": [
        "# Epoch:**10**"
      ],
      "metadata": {
        "id": "MfovcaAQx_en"
      }
    },
    {
      "cell_type": "code",
      "source": [
        "def step1(X1,X2,y,y1):\n",
        "    with tf.GradientTape(persistent=True) as tape:\n",
        "      pred1 = model1(X1)\n",
        "      pred2 = model2(X2)\n",
        "\n",
        "      pred1_A, pred1_B =tf.split(pred1,num_or_size_splits=2,axis=1)\n",
        "      pred2_A, pred2_B =tf.split(pred2,num_or_size_splits=2,axis=1)\n",
        "\n",
        "      X3 = tf.keras.layers.concatenate([pred1_B,pred2_A])\n",
        "      pred3 = model3(X3)\n",
        "      pred4 = model4(pred3)\n",
        "\n",
        "      pred4_A, pred4_B =tf.split(pred4,num_or_size_splits=2,axis=1)\n",
        "\n",
        "      X4 = tf.keras.layers.concatenate([pred1_A,pred4_A])\n",
        "      X5 = tf.keras.layers.concatenate([pred4_B,pred2_B])\n",
        "\n",
        "      pred5 = model5(X4)\n",
        "      pred6 = model6(X5)\n",
        "\n",
        "      loss6 = binary_crossentropy(y, pred6)\n",
        "      # loss5 = binary_crossentropy(y, pred5)\n",
        "      loss5 =sparse_categorical_crossentropy(y1, pred5)\n",
        "      #loss_sum6=[]\n",
        "      #loss_sum5=[]\n",
        "      loss_sum6 = sum(loss6)\n",
        "      loss_sum5 = sum(loss5)\n",
        "\n",
        "      print(\"test loss6 is = \",int(loss_sum6)/10000)\n",
        "      print(\"test loss5 is = \",int(loss_sum5)/10000)\n",
        "      return pred6,pred5"
      ],
      "metadata": {
        "id": "ywpkEGy2kvOr"
      },
      "execution_count": 65,
      "outputs": []
    },
    {
      "cell_type": "code",
      "source": [
        "out6,out5 = step1(input_test_1,input_test_2, testY, testY1)"
      ],
      "metadata": {
        "colab": {
          "base_uri": "https://localhost:8080/"
        },
        "id": "FZgnfHG_k1QX",
        "outputId": "6ac05324-a2eb-4ed2-93ad-334d5f8b3d06"
      },
      "execution_count": 66,
      "outputs": [
        {
          "output_type": "stream",
          "name": "stdout",
          "text": [
            "test loss6 is =  0.1262\n",
            "test loss5 is =  0.0877\n"
          ]
        }
      ]
    },
    {
      "cell_type": "code",
      "source": [
        "y_pred=np.argmax(out5,axis=1)"
      ],
      "metadata": {
        "id": "2ITwBy2gWSsl"
      },
      "execution_count": 67,
      "outputs": []
    },
    {
      "cell_type": "code",
      "source": [
        "y_pred"
      ],
      "metadata": {
        "colab": {
          "base_uri": "https://localhost:8080/"
        },
        "id": "ixl7Brv2Wd2d",
        "outputId": "c489d3f6-927c-45ef-9f53-01bc02889ce8"
      },
      "execution_count": 68,
      "outputs": [
        {
          "output_type": "execute_result",
          "data": {
            "text/plain": [
              "array([7, 2, 1, ..., 4, 5, 6])"
            ]
          },
          "metadata": {},
          "execution_count": 68
        }
      ]
    },
    {
      "cell_type": "markdown",
      "source": [
        "# **Epochs-2**"
      ],
      "metadata": {
        "id": "t8WNVYeFoPfx"
      }
    },
    {
      "cell_type": "code",
      "source": [
        "plt.figure(figsize=(10, 7))\n",
        "plt.plot(tot_loss6)\n",
        "plt.xlabel(\"Epochs\")\n",
        "plt.ylabel(\"loss\")\n",
        "plt.legend([\"train loss\"])\n",
        "plt.savefig(\"loss_6.jpg\")"
      ],
      "metadata": {
        "colab": {
          "base_uri": "https://localhost:8080/",
          "height": 442
        },
        "id": "9zfxE9VOyH4H",
        "outputId": "74762d75-fe09-4d01-c785-3c9b6d2aeb8a"
      },
      "execution_count": 69,
      "outputs": [
        {
          "output_type": "display_data",
          "data": {
            "text/plain": [
              "<Figure size 720x504 with 1 Axes>"
            ],
            "image/png": "[encoded data removed]"
          },
          "metadata": {
            "needs_background": "light"
          }
        }
      ]
    },
    {
      "cell_type": "code",
      "source": [
        "plt.figure(figsize=(10, 7))\n",
        "plt.plot(tot_loss5)\n",
        "plt.xlabel(\"Epochs\")\n",
        "plt.ylabel(\"loss\")\n",
        "plt.legend([\"train loss\"])\n",
        "plt.savefig(\"loss_5.jpg\")"
      ],
      "metadata": {
        "colab": {
          "base_uri": "https://localhost:8080/",
          "height": 442
        },
        "id": "HYarWGZRyIdo",
        "outputId": "9ce169b7-a015-4e63-b313-f83f873990c6"
      },
      "execution_count": 70,
      "outputs": [
        {
          "output_type": "display_data",
          "data": {
            "text/plain": [
              "<Figure size 720x504 with 1 Axes>"
            ],
            "image/png": "[encoded data removed]"
          },
          "metadata": {
            "needs_background": "light"
          }
        }
      ]
    },
    {
      "cell_type": "code",
      "source": [
        "class_names = [\"zero\",\"one\", \"two\", \"three\", \"four\", \"five\",\n",
        "\"six\", \"seven\", \"eight\", \"nine\"]"
      ],
      "metadata": {
        "id": "uGdJVygwXXDG"
      },
      "execution_count": 71,
      "outputs": []
    },
    {
      "cell_type": "code",
      "source": [
        "y_pred1 = np.array(class_names)[y_pred]"
      ],
      "metadata": {
        "id": "KZkD_SPEXdMy"
      },
      "execution_count": 72,
      "outputs": []
    },
    {
      "cell_type": "code",
      "source": [
        "n = 10\n",
        "plt.figure(figsize=(20, 6))\n",
        "for i in range(n):\n",
        "  # display original\n",
        "  ax = plt.subplot(3, n, i + 1)\n",
        "  predictd_output = tf.reshape(out6[i+2679],[28,28])\n",
        "  # predictd_output1 = tf.reshape(out5[i],[28,28])\n",
        "  input_given = tf.reshape(testY[i+2679],[28,28])\n",
        "  plt.imshow(input_given)\n",
        "  plt.title(\"input_img\")\n",
        "  plt.gray()\n",
        "\n",
        "  ax.get_xaxis().set_visible(False)\n",
        "  ax.get_yaxis().set_visible(False)\n",
        "\n",
        "  # display reconstruction\n",
        "  ax = plt.subplot(3, n, i + 1 + n)\n",
        "  plt.imshow(predictd_output)\n",
        "  plt.title(\"decoded_img\")\n",
        "  plt.gray()\n",
        "  ax.get_xaxis().set_visible(False)\n",
        "  ax.get_yaxis().set_visible(False)\n",
        "\n",
        "  ax = plt.subplot(3, n, i + 1 + 2*n)\n",
        "  # plt.imshow()\n",
        "  # plt.title(y_pred1[i+2679])\n",
        "  plt.text(0.08,0.65,\"Classified as \" , fontsize=13)\n",
        "  plt.text(0.32,0.45,y_pred1[i+2679], fontsize=18)\n",
        "  plt.gray()\n",
        "  ax.get_xaxis().set_visible(False)\n",
        "  ax.get_yaxis().set_visible(False)\n",
        "plt.savefig(\"clas_re_10.png\")\n",
        "plt.show()"
      ],
      "metadata": {
        "colab": {
          "base_uri": "https://localhost:8080/",
          "height": 364
        },
        "id": "ZivOV4G9xybx",
        "outputId": "970549a2-da00-45ca-a132-de02b6dd80e1"
      },
      "execution_count": 125,
      "outputs": [
        {
          "output_type": "display_data",
          "data": {
            "text/plain": [
              "<Figure size 1440x432 with 30 Axes>"
            ],
            "image/png": "[encoded data removed]"
          },
          "metadata": {
            "needs_background": "light"
          }
        }
      ]
    },
    {
      "cell_type": "code",
      "source": [
        "n = 5\n",
        "plt.figure(figsize=(20, 12))\n",
        "for i in range(n):\n",
        "  # display original\n",
        "  ax = plt.subplot(3, n, i + 1)\n",
        "  predictd_output = tf.reshape(out6[i+2679],[28,28])\n",
        "  # predictd_output1 = tf.reshape(out5[i],[28,28])\n",
        "  input_given = tf.reshape(testY[i+2679],[28,28])\n",
        "  plt.imshow(input_given)\n",
        "  plt.title(\"Input_img\")\n",
        "  plt.gray()\n",
        "\n",
        "  ax.get_xaxis().set_visible(False)\n",
        "  ax.get_yaxis().set_visible(False)\n",
        "\n",
        "  # display reconstruction\n",
        "  ax = plt.subplot(3, n, i + 1 + n)\n",
        "  plt.imshow(predictd_output)\n",
        "  plt.title(\"Reconstructed_img\")\n",
        "  plt.gray()\n",
        "  ax.get_xaxis().set_visible(False)\n",
        "  ax.get_yaxis().set_visible(False)\n",
        "\n",
        "  ax = plt.subplot(3, n, i + 1 + 2*n)\n",
        "  # plt.imshow()\n",
        "  # plt.title(y_pred1[i+2679])\n",
        "  plt.text(0.01,0.6,\"Classified as \" , fontsize=30)\n",
        "  plt.text(0.32,0.4,y_pred1[i+2679], fontsize=35)\n",
        "  plt.gray()\n",
        "  ax.get_xaxis().set_visible(False)\n",
        "  ax.get_yaxis().set_visible(False)\n",
        "plt.savefig(\"cla_re_5.png\")\n",
        "plt.show()"
      ],
      "metadata": {
        "colab": {
          "base_uri": "https://localhost:8080/",
          "height": 677
        },
        "id": "BO082icjp9V7",
        "outputId": "2799d931-8c2e-4941-eb79-f5a122a437d1"
      },
      "execution_count": 124,
      "outputs": [
        {
          "output_type": "display_data",
          "data": {
            "text/plain": [
              "<Figure size 1440x864 with 15 Axes>"
            ],
            "image/png": "[encoded data removed]"
          },
          "metadata": {
            "needs_background": "light"
          }
        }
      ]
    }
  ],
  "metadata": {
    "accelerator": "GPU",
    "colab": {
      "provenance": [],
      "include_colab_link": true
    },
    "gpuClass": "standard",
    "kernelspec": {
      "display_name": "Python 3",
      "name": "python3"
    },
    "language_info": {
      "name": "python"
    }
  },
  "nbformat": 4,
  "nbformat_minor": 0
}