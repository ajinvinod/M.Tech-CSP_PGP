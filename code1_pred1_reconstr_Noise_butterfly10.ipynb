{
  "cells": [
    {
      "cell_type": "markdown",
      "metadata": {
        "id": "view-in-github",
        "colab_type": "text"
      },
      "source": [
        "<a href=\"https://colab.research.google.com/github/ajinvinodk/M.Tech-CSP_PGP/blob/main/code1_pred1_reconstr_Noise_butterfly10.ipynb\" target=\"_parent\"><img src=\"https://colab.research.google.com/assets/colab-badge.svg\" alt=\"Open In Colab\"/></a>"
      ]
    },
    {
      "cell_type": "code",
      "execution_count": null,
      "metadata": {
        "id": "BJBNqNu6lp_-"
      },
      "outputs": [],
      "source": [
        "from tensorflow.keras.datasets import mnist\n",
        "import tensorflow as tf\n",
        "import numpy as np\n",
        "import time\n",
        "import sys\n",
        "import matplotlib.pyplot as plt\n",
        "from tensorflow.keras.models import Sequential\n",
        "#from tensorflow.keras.layers import BatchNormalization\n",
        "#from tensorflow.keras.layers import Conv2D\n",
        "#from tensorflow.keras.layers import MaxPooling2D\n",
        "from tensorflow.keras.layers import Activation\n",
        "from tensorflow.keras.layers import Flatten\n",
        "from tensorflow.keras.layers import Dropout\n",
        "from tensorflow.keras.layers import Dense\n",
        "from tensorflow.keras.optimizers import Adam\n",
        "from tensorflow.keras.losses import categorical_crossentropy\n",
        "from tensorflow.keras.losses import binary_crossentropy\n",
        "#from tensorflow.keras.utils import to_categorical\n",
        "from sklearn.metrics import accuracy_score"
      ]
    },
    {
      "cell_type": "code",
      "execution_count": null,
      "metadata": {
        "colab": {
          "base_uri": "https://localhost:8080/"
        },
        "id": "CU2E2FvXl7iQ",
        "outputId": "0b341e81-b36b-45df-e573-ae1b433ed200"
      },
      "outputs": [
        {
          "output_type": "stream",
          "name": "stdout",
          "text": [
            "Downloading data from https://storage.googleapis.com/tensorflow/tf-keras-datasets/mnist.npz\n",
            "11490434/11490434 [==============================] - 2s 0us/step\n"
          ]
        }
      ],
      "source": [
        "((trainX, trainY), (testX, testY)) = mnist.load_data()\n",
        "trainX_cnn = trainX\n",
        "trainY_cnn = trainY\n",
        "testX_cnn = testX\n",
        "testY_cnn = testY\n",
        "trainX_cnn = trainX_cnn.reshape(trainX_cnn.shape[0], 28, 28, 1)\n",
        "testX_cnn = testX_cnn.reshape(testX_cnn.shape[0], 28, 28, 1)\n",
        "input_shape = (28, 28, 1)\n",
        "trainX_cnn = trainX_cnn.astype(\"float32\") / 255.0\n",
        "testX_cnn = testX_cnn.astype(\"float32\") / 255.0\n",
        "\n",
        "trainX = trainX.astype(\"float32\") / 255.0\n",
        "testX = testX.astype(\"float32\") / 255.0\n",
        "testX1=testX\n",
        "trainX1=trainX\n",
        "trainY1=trainY\n",
        "testY1=testY\n",
        "trainY = trainX.reshape(60000,784)\n",
        "testY = testX.reshape(10000,784)\n",
        "input_1 = (trainX[:,:14,:])\n",
        "input_2 = (trainX[:,14:28,:])"
      ]
    },
    {
      "cell_type": "code",
      "execution_count": null,
      "metadata": {
        "id": "B6_llRikRKLH"
      },
      "outputs": [],
      "source": [
        "def build_model_1(width, height, depth):\n",
        "\tinputShape = (width,height, depth)\t\n",
        "\tmodel = Sequential([\n",
        "\t\tFlatten(input_shape = inputShape),\n",
        "\t\tDense(198,activation = 'relu'),\n",
        "    Dense(64,activation = 'relu')\n",
        "\t])\n",
        "\treturn model"
      ]
    },
    {
      "cell_type": "code",
      "execution_count": null,
      "metadata": {
        "id": "c6pDChynV2Z-"
      },
      "outputs": [],
      "source": [
        "def build_model_2(width, height, depth):\n",
        "\tinputShape = (width,height, depth)\t\n",
        "\tmodel = Sequential([\n",
        "\t\tFlatten(input_shape = inputShape),\n",
        "\t\tDense(198,activation = 'relu'),\n",
        "    Dense(64,activation = 'relu')\n",
        "\t])\n",
        "\treturn model"
      ]
    },
    {
      "cell_type": "code",
      "execution_count": null,
      "metadata": {
        "id": "jW7C9VSqV73O"
      },
      "outputs": [],
      "source": [
        "def build_model_3(width, height, classes):\n",
        "\tinputShape = (width,height)\n",
        "\tmodel = Sequential([\n",
        "\t\tFlatten(input_shape = inputShape),\n",
        "\t\tDense(32,activation = 'relu'),\n",
        "    Dense(32,activation = 'relu'),\n",
        "\t])\n",
        "\treturn model"
      ]
    },
    {
      "cell_type": "code",
      "execution_count": null,
      "metadata": {
        "id": "aeUj7fqrWHY_"
      },
      "outputs": [],
      "source": [
        "def build_model_4(width, height, classes):\n",
        "\tinputShape = (width,height)\n",
        "\tmodel = Sequential([\n",
        "\t\tFlatten(input_shape = inputShape),\n",
        "\t\tDense(48,activation = 'relu'),\n",
        "    Dense(64,activation = 'relu')\n",
        "\t])\n",
        "\treturn model"
      ]
    },
    {
      "cell_type": "code",
      "execution_count": null,
      "metadata": {
        "id": "28JY5eXuRQSv"
      },
      "outputs": [],
      "source": [
        "def build_model_5(width, height, classes):\n",
        "\tinputShape = (width,height)\n",
        "\tmodel = Sequential([\n",
        "\t\tFlatten(input_shape = inputShape),\n",
        "    Dense(392,activation = 'relu'),\n",
        "\t\tDense(classes, activation= \"sigmoid\")#\"softmax\")\n",
        "\t])\n",
        "\treturn model"
      ]
    },
    {
      "cell_type": "code",
      "execution_count": null,
      "metadata": {
        "id": "63XJNR3RWVln"
      },
      "outputs": [],
      "source": [
        "def build_model_6(width, height, classes):\n",
        "\tinputShape = (width,height)\n",
        "\tmodel = Sequential([\n",
        "\t\tFlatten(input_shape = inputShape),\n",
        "    Dense(392,activation = 'relu'),\n",
        "\t\tDense(classes, activation= \"sigmoid\")#\"softmax\")\n",
        "\t])\n",
        "\treturn model"
      ]
    },
    {
      "cell_type": "code",
      "execution_count": null,
      "metadata": {
        "colab": {
          "base_uri": "https://localhost:8080/"
        },
        "id": "9bYeFl7SRQ0n",
        "outputId": "2cc9b611-c9f0-41c7-971a-69aa3e9a78ed"
      },
      "outputs": [
        {
          "output_type": "stream",
          "name": "stdout",
          "text": [
            "[INFO] creating model...\n"
          ]
        }
      ],
      "source": [
        "EPOCHS = 10\n",
        "BS = 32\n",
        "INIT_LR = 1e-2\n",
        "print(\"[INFO] creating model...\")\n",
        "model1= build_model_1(14,28,1)\n",
        "model2= build_model_2(14,28,1)\n",
        "model3= build_model_3(64,1,32)\n",
        "model4= build_model_4(32,1,64)\n",
        "model5= build_model_5(64,1,784)\n",
        "model6= build_model_6(64,1,784)\n",
        "opt = tf.keras.optimizers.legacy.Adam(learning_rate=INIT_LR, decay=INIT_LR / EPOCHS)\n",
        "# Adam(\n",
        "#     learning_rate=INIT_LR,\n",
        "#     beta_1=0.9,\n",
        "#     beta_2=0.999,\n",
        "#     epsilon=1e-07,\n",
        "#     amsgrad=False,\n",
        "#     weight_decay=None,\n",
        "#     clipnorm=None,\n",
        "#     clipvalue=None,\n",
        "#     global_clipnorm=None,\n",
        "#     use_ema=False,\n",
        "#     ema_momentum=0.99,\n",
        "#     ema_overwrite_frequency=None,\n",
        "#     jit_compile=True,\n",
        "#     name='Adam',\n",
        "#     # **kwargs\n",
        "# )\n",
        "# Adam(learning_rate=INIT_LR)# decay=INIT_LR / EPOCHS)"
      ]
    },
    {
      "cell_type": "code",
      "execution_count": null,
      "metadata": {
        "id": "eR-IaJ8GkRAr",
        "colab": {
          "base_uri": "https://localhost:8080/"
        },
        "outputId": "7e39d691-9e5b-4e10-f3ff-7597f760e42a"
      },
      "outputs": [
        {
          "output_type": "stream",
          "name": "stdout",
          "text": [
            "Model: \"sequential\"\n",
            "_________________________________________________________________\n",
            " Layer (type)                Output Shape              Param #   \n",
            "=================================================================\n",
            " flatten (Flatten)           (None, 392)               0         \n",
            "                                                                 \n",
            " dense (Dense)               (None, 198)               77814     \n",
            "                                                                 \n",
            " dense_1 (Dense)             (None, 64)                12736     \n",
            "                                                                 \n",
            "=================================================================\n",
            "Total params: 90,550\n",
            "Trainable params: 90,550\n",
            "Non-trainable params: 0\n",
            "_________________________________________________________________\n"
          ]
        }
      ],
      "source": [
        "model1.summary()\n",
        "# model2.summary()\n",
        "# model3.summary()\n",
        "# model4.summary()\n",
        "# model5.summary()\n",
        "# model6.summary()"
      ]
    },
    {
      "cell_type": "code",
      "source": [
        "#pred1 = model1(input_1[0:32])"
      ],
      "metadata": {
        "id": "qFUdHQ3uJAWk"
      },
      "execution_count": null,
      "outputs": []
    },
    {
      "cell_type": "code",
      "source": [
        "#pred1"
      ],
      "metadata": {
        "id": "jSNF8oqCJgCc"
      },
      "execution_count": null,
      "outputs": []
    },
    {
      "cell_type": "code",
      "source": [
        "noise = np.random.normal(0,0.01,64)"
      ],
      "metadata": {
        "id": "73O0jGYxQy69"
      },
      "execution_count": null,
      "outputs": []
    },
    {
      "cell_type": "code",
      "execution_count": null,
      "metadata": {
        "id": "6nU8uO1YRS53"
      },
      "outputs": [],
      "source": [
        "def step(X1,X2,y):\n",
        "    \n",
        "    with tf.GradientTape(persistent=True) as tape:\n",
        "      pred1 = model1(X1)\n",
        "      pred2 = model2(X2)\n",
        "\n",
        "      pred1 = pred1 + noise\n",
        "\n",
        "      pred1_A, pred1_B =tf.split(pred1,num_or_size_splits=2,axis=1)\n",
        "      pred2_A, pred2_B =tf.split(pred2,num_or_size_splits=2,axis=1)\n",
        "\n",
        "      # pred1_A = pred1_A + noise\n",
        "\n",
        "      X3 = tf.keras.layers.concatenate([pred1_B,pred2_A])\n",
        "      pred3 = model3(X3)\n",
        "      pred4 = model4(pred3)\n",
        "\n",
        "      pred4_A, pred4_B =tf.split(pred4,num_or_size_splits=2,axis=1)\n",
        "\n",
        "      X4 = tf.keras.layers.concatenate([pred1_A,pred4_A])\n",
        "      X5 = tf.keras.layers.concatenate([pred4_B,pred2_B])\n",
        "\n",
        "      pred5 = model5(X4)\n",
        "      pred6 = model6(X5)\n",
        "    \n",
        "    \n",
        "      loss5 = binary_crossentropy(y, pred5)\n",
        "      loss6 = binary_crossentropy(y, pred6)\n",
        "\n",
        "      #print(loss5.shape)\n",
        "\n",
        "    # grads6_5 = tape.gradient(loss6, model5.trainable_variables)\n",
        "    #print(\"grads6_5 length is = \",grads6_5)\n",
        "    grads6 = tape.gradient(loss6, model6.trainable_variables)#------------------------------\n",
        "    #print(\"grads6_5 length is = \",grads6)\n",
        "    grads5 = tape.gradient(loss5, model5.trainable_variables)#------------------------------\n",
        "\n",
        "    # print()\n",
        "    # print(\"grads6 length is = \",len(grads6))\n",
        "    # print(\"grads6 type is = \",type(grads6))\n",
        "    # print(\"grad6[0].shape = \",grads6[0].shape)\n",
        "    # print(\"grads6[0] type is = \",type(grads6[0]))\n",
        "    # print(\"grad6[1].shape = \",grads6[1].shape)\n",
        "    # print(\"grads6[0] type is = \",type(grads6[0]))\n",
        "    # print(\"grad6[2].shape = \",grads6[2].shape)\n",
        "    # print(\"grads6[0] type is = \",type(grads6[0]))\n",
        "    # print(\"grad6[3].shape = \",grads6[3].shape)\n",
        "    # print(\"grads6[0] type is = \",type(grads6[0]))\n",
        "    #print(model5.trainable_variables[1])\n",
        "    grads4 = tape.gradient([loss5,loss6], model4.trainable_variables)#------------------------------\n",
        "    grads3 = tape.gradient([loss5,loss6], model3.trainable_variables)#------------------------------\n",
        "    # #print(len(grads3))\n",
        "    grads2 = tape.gradient([loss5,loss6], model2.trainable_variables)#------------------------------\n",
        "    grads1 = tape.gradient([loss5,loss6], model1.trainable_variables)#------------------------------\n",
        "    # #grads1 = tape.gradient(grads3[:int(len(grads3)/2)], model1.trainable_variables)\n",
        "    # #grads2 = tape.gradient(grads3[int(len(grads3)/2):], model2.trainable_variables)\n",
        "    \n",
        "    # #print(\"loss is = \",grads1)\n",
        "    \n",
        "    #grads2 = tape.gradient(grads3, model2.trainable_variables)\n",
        "    opt.apply_gradients(zip(grads6, model6.trainable_variables))#------------------------------\n",
        "    opt.apply_gradients(zip(grads5, model5.trainable_variables))#------------------------------\n",
        "\n",
        "    #print(\"ZZZ\",opt.apply_gradients(zip(grads5, model5.trainable_variables)))\n",
        "    opt.apply_gradients(zip(grads4, model4.trainable_variables)) \n",
        "    opt.apply_gradients(zip(grads3, model3.trainable_variables))\n",
        "    opt.apply_gradients(zip(grads2, model2.trainable_variables))\n",
        "    opt.apply_gradients(zip(grads1, model1.trainable_variables)) \n",
        "    loss_sum1=[]\n",
        "    loss_sum2=[]\n",
        "    loss_sum6 = sum(loss6)\n",
        "    loss_sum5 = sum(loss5)\n",
        "    return loss_sum6,loss_sum5"
      ]
    },
    {
      "cell_type": "code",
      "execution_count": null,
      "metadata": {
        "colab": {
          "base_uri": "https://localhost:8080/"
        },
        "id": "uDpvsSr5Ri5B",
        "outputId": "7f77c497-240c-4d53-a23e-366778464108"
      },
      "outputs": [
        {
          "metadata": {
            "tags": null
          },
          "name": "stdout",
          "output_type": "stream",
          "text": [
            "[INFO] starting epoch 1/10...took 4.212 minutes\n",
            "[INFO] starting epoch 2/10...took 4.041 minutes\n",
            "[INFO] starting epoch 3/10..."
          ]
        }
      ],
      "source": [
        "# numUpdates = 5\n",
        "numUpdates = int(trainX.shape[0] / BS)\n",
        "tot_loss6=[]\n",
        "tot_loss5=[]\n",
        "\n",
        "for epoch in range(0, EPOCHS):\n",
        "  print(\"[INFO] starting epoch {}/{}...\".format(epoch + 1, EPOCHS), end=\"\")\n",
        "  sys.stdout.flush()\n",
        "  epochStart = time.time()\n",
        "  loss_epoch6 = 0\n",
        "  loss_epoch5 = 0\n",
        "  for i in range(0, numUpdates):\n",
        "    start = i * BS\n",
        "    end = start + BS\n",
        "    #print(\"inp_1 = \",input_1[start:end])\n",
        "    #print(\"inp_2 = \",input_2[start:end])\n",
        "    #print(\"epoch and i is = \",epoch,i)\n",
        "    # step(input_1[start:end],input_2[start:end], trainY[start:end])\n",
        "    loss_each_BS6,loss_each_BS5 = step(input_1[start:end],input_2[start:end], trainY[start:end])\n",
        "    loss_epoch6 += loss_each_BS6\n",
        "    loss_epoch5 += loss_each_BS5\n",
        "  tot_loss6.append(int(loss_epoch6)/60000)\n",
        "  tot_loss5.append(int(loss_epoch5)/60000)\n",
        "  epochEnd = time.time()\n",
        "  elapsed = (epochEnd - epochStart) / 60.0\n",
        "  print(\"took {:.4} minutes\".format(elapsed))\n",
        "print(\"tot_loss6 is = \",tot_loss6)\n",
        "print(\"tot_loss5 is = \",tot_loss5)"
      ]
    },
    {
      "cell_type": "markdown",
      "source": [
        "# Epoch:**10**"
      ],
      "metadata": {
        "id": "MfovcaAQx_en"
      }
    },
    {
      "cell_type": "code",
      "source": [
        "plt.figure(figsize=(20, 12))\n",
        "plt.plot(tot_loss6)\n",
        "plt.xlabel(\"Epochs\")\n",
        "plt.ylabel(\"loss\")\n",
        "plt.legend([\"train loss\"])\n",
        "plt.savefig(\"loss_6.jpg\")"
      ],
      "metadata": {
        "id": "iGQttGsUztm7"
      },
      "execution_count": null,
      "outputs": []
    },
    {
      "cell_type": "code",
      "source": [
        "plt.figure(figsize=(20, 12))\n",
        "plt.plot(tot_loss5)\n",
        "plt.xlabel(\"Epochs\")\n",
        "plt.ylabel(\"loss\")\n",
        "plt.legend([\"train loss\"])\n",
        "plt.savefig(\"loss_5.jpg\")"
      ],
      "metadata": {
        "id": "9Q4hJZNrkori"
      },
      "execution_count": null,
      "outputs": []
    },
    {
      "cell_type": "code",
      "source": [
        "input_test_1 = (testX[:,:14,:])\n",
        "input_test_2 = (testX[:,14:28,:])"
      ],
      "metadata": {
        "id": "8kEYKlbsksEF"
      },
      "execution_count": null,
      "outputs": []
    },
    {
      "cell_type": "code",
      "source": [
        "def step1(X1,X2,y):\n",
        "    with tf.GradientTape(persistent=True) as tape:\n",
        "      pred1 = model1(X1)\n",
        "      pred2 = model2(X2)\n",
        "\n",
        "      pred1_A, pred1_B =tf.split(pred1,num_or_size_splits=2,axis=1)\n",
        "      pred2_A, pred2_B =tf.split(pred2,num_or_size_splits=2,axis=1)\n",
        "\n",
        "      X3 = tf.keras.layers.concatenate([pred1_B,pred2_A])\n",
        "      pred3 = model3(X3)\n",
        "      pred4 = model4(pred3)\n",
        "\n",
        "      pred4_A, pred4_B =tf.split(pred4,num_or_size_splits=2,axis=1)\n",
        "\n",
        "      X4 = tf.keras.layers.concatenate([pred1_A,pred4_A])\n",
        "      X5 = tf.keras.layers.concatenate([pred4_B,pred2_B])\n",
        "\n",
        "      pred5 = model5(X4)\n",
        "      pred6 = model6(X5)\n",
        "\n",
        "      loss6 = binary_crossentropy(y, pred6)\n",
        "      loss5 = binary_crossentropy(y, pred5)\n",
        "\n",
        "      #loss_sum6=[]\n",
        "      #loss_sum5=[]\n",
        "      loss_sum6 = sum(loss6)\n",
        "      loss_sum5 = sum(loss5)\n",
        "\n",
        "      print(\"test loss6 is = \",int(loss_sum6)/10000)\n",
        "      print(\"test loss5 is = \",int(loss_sum5)/10000)\n",
        "      return pred6,pred5"
      ],
      "metadata": {
        "id": "ywpkEGy2kvOr"
      },
      "execution_count": null,
      "outputs": []
    },
    {
      "cell_type": "code",
      "source": [
        "out6,out5 = step1(input_test_1,input_test_2, testY)"
      ],
      "metadata": {
        "id": "FZgnfHG_k1QX"
      },
      "execution_count": null,
      "outputs": []
    },
    {
      "cell_type": "code",
      "source": [
        "from tensorflow.image import psnr"
      ],
      "metadata": {
        "id": "-DcItc1Xsjfq"
      },
      "execution_count": null,
      "outputs": []
    },
    {
      "cell_type": "code",
      "source": [
        "psnr_out6=0\n",
        "for i in range(10000):\n",
        "    \n",
        "  img1 = tf.reshape(out6[i],[28,28,1])\n",
        "  img2 = tf.reshape(testY[i],[28,28,1])\n",
        "  # Calculate PSNR between the two images\n",
        "  psnr_value = psnr(img1, img2, max_val=1)\n",
        "  psnr_out6 += psnr_value.numpy()\n",
        "\n",
        "  # Print the PSNR value\n",
        "print(\"The average PSNR value between the two images at out 6 is:\", (psnr_out6/10000))"
      ],
      "metadata": {
        "id": "EnBI7QaK3Dkq"
      },
      "execution_count": null,
      "outputs": []
    },
    {
      "cell_type": "code",
      "source": [
        "psnr_out5=0\n",
        "for i in range(10000):\n",
        "    \n",
        "  img1 = tf.reshape(out5[i],[28,28,1])\n",
        "  img2 = tf.reshape(testY[i],[28,28,1])\n",
        "  # Calculate PSNR between the two images\n",
        "  psnr_value = psnr(img1, img2, max_val=1)\n",
        "  psnr_out5 += psnr_value.numpy()\n",
        "\n",
        "  # Print the PSNR value\n",
        "print(\"The average PSNR value between the two images at out 5 is:\", (psnr_out5/10000))"
      ],
      "metadata": {
        "id": "KXd9DfGt3Dks"
      },
      "execution_count": null,
      "outputs": []
    },
    {
      "cell_type": "code",
      "source": [
        "n = 10\n",
        "plt.figure(figsize=(20, 6))\n",
        "for i in range(n):\n",
        "  # display original\n",
        "  ax = plt.subplot(3, n, i + 1)\n",
        "  predictd_output = tf.reshape(out5[i+2679],[28,28])\n",
        "  predictd_output1 = tf.reshape(out6[i+2679],[28,28])\n",
        "  input_given = tf.reshape(testY[i+2679],[28,28])\n",
        "  plt.imshow(input_given)\n",
        "  plt.title(\"input_img\")\n",
        "  plt.gray()\n",
        "\n",
        "  ax.get_xaxis().set_visible(False)\n",
        "  ax.get_yaxis().set_visible(False)\n",
        "\n",
        "  # display reconstruction\n",
        "  ax = plt.subplot(3, n, i + 1 + n)\n",
        "  plt.imshow(predictd_output)\n",
        "  plt.title(\"output_img1\")\n",
        "  plt.gray()\n",
        "  ax.get_xaxis().set_visible(False)\n",
        "  ax.get_yaxis().set_visible(False)\n",
        "\n",
        "  ax = plt.subplot(3, n, i + 1 + 2*n)\n",
        "  plt.imshow(predictd_output1)\n",
        "  plt.title(\"output_img2\")\n",
        "  plt.gray()\n",
        "  ax.get_xaxis().set_visible(False)\n",
        "  ax.get_yaxis().set_visible(False)\n",
        "plt.savefig(\"reconstructed_out_10ep_10.jpg\")\n",
        "plt.show()"
      ],
      "metadata": {
        "id": "ZivOV4G9xybx"
      },
      "execution_count": null,
      "outputs": []
    },
    {
      "cell_type": "code",
      "source": [
        "n = 5\n",
        "plt.figure(figsize=(20, 12))\n",
        "for i in range(n):\n",
        "  # display original\n",
        "  ax = plt.subplot(3, n, i + 1)\n",
        "  predictd_output = tf.reshape(out5[i+2679],[28,28])\n",
        "  predictd_output1 = tf.reshape(out6[i+2679],[28,28])\n",
        "  input_given = tf.reshape(testY[i+2679],[28,28])\n",
        "  plt.imshow(input_given)\n",
        "  plt.title(\"input_img\")\n",
        "  plt.gray()\n",
        "\n",
        "  ax.get_xaxis().set_visible(False)\n",
        "  ax.get_yaxis().set_visible(False)\n",
        "\n",
        "  # display reconstruction\n",
        "  ax = plt.subplot(3, n, i + 1 + n)\n",
        "  plt.imshow(predictd_output)\n",
        "  plt.title(\"output_img1\")\n",
        "  plt.gray()\n",
        "  ax.get_xaxis().set_visible(False)\n",
        "  ax.get_yaxis().set_visible(False)\n",
        "\n",
        "  ax = plt.subplot(3, n, i + 1 + 2*n)\n",
        "  plt.imshow(predictd_output1)\n",
        "  plt.title(\"output_img2\")\n",
        "  plt.gray()\n",
        "  ax.get_xaxis().set_visible(False)\n",
        "  ax.get_yaxis().set_visible(False)\n",
        "plt.savefig(\"reconstructed_out_10ep_5.jpg\")\n",
        "plt.show()"
      ],
      "metadata": {
        "id": "s-OMS0eNpgdQ"
      },
      "execution_count": null,
      "outputs": []
    },
    {
      "cell_type": "markdown",
      "source": [
        "# **NODE 1 POWER SET TO ZERO**"
      ],
      "metadata": {
        "id": "Le4DI_NlU4kf"
      }
    },
    {
      "cell_type": "code",
      "source": [
        "zs=np.zeros([10000,14,28])\n",
        "\n",
        "out6,out5 = step1(zs,input_test_2, testY)"
      ],
      "metadata": {
        "id": "A29RHlKEUAdX"
      },
      "execution_count": null,
      "outputs": []
    },
    {
      "cell_type": "code",
      "source": [],
      "metadata": {
        "id": "Qfi0s70Nsm8G"
      },
      "execution_count": null,
      "outputs": []
    },
    {
      "cell_type": "code",
      "source": [
        "psnr_out6=0\n",
        "for i in range(10000):\n",
        "    \n",
        "  img1 = tf.reshape(out6[i],[28,28,1])\n",
        "  img2 = tf.reshape(testY[i],[28,28,1])\n",
        "  # Calculate PSNR between the two images\n",
        "  psnr_value = psnr(img1, img2, max_val=1)\n",
        "  psnr_out6 += psnr_value.numpy()\n",
        "\n",
        "  # Print the PSNR value\n",
        "print(\"The average PSNR value between the two images at out 6 is:\", (psnr_out6/10000))"
      ],
      "metadata": {
        "id": "_jkRnqEXsnLf"
      },
      "execution_count": null,
      "outputs": []
    },
    {
      "cell_type": "code",
      "source": [
        "psnr_out5=0\n",
        "for i in range(10000):\n",
        "    \n",
        "  img1 = tf.reshape(out5[i],[28,28,1])\n",
        "  img2 = tf.reshape(testY[i],[28,28,1])\n",
        "  # Calculate PSNR between the two images\n",
        "  psnr_value = psnr(img1, img2, max_val=1)\n",
        "  psnr_out5 += psnr_value.numpy()\n",
        "\n",
        "  # Print the PSNR value\n",
        "print(\"The average PSNR value between the two images at out 5 is:\", (psnr_out5/10000))"
      ],
      "metadata": {
        "id": "ZVo5nzscsnLg"
      },
      "execution_count": null,
      "outputs": []
    },
    {
      "cell_type": "code",
      "source": [
        "n = 10\n",
        "plt.figure(figsize=(20, 6))\n",
        "for i in range(n):\n",
        "  # display original\n",
        "  ax = plt.subplot(3, n, i + 1)\n",
        "  predictd_output = tf.reshape(out5[i+2679],[28,28])\n",
        "  predictd_output1 = tf.reshape(out6[i+2679],[28,28])\n",
        "  input_given = tf.reshape(testY[i+2679],[28,28])\n",
        "  plt.imshow(input_given)\n",
        "  plt.title(\"input_img\")\n",
        "  plt.gray()\n",
        "\n",
        "  ax.get_xaxis().set_visible(False)\n",
        "  ax.get_yaxis().set_visible(False)\n",
        "\n",
        "  # display reconstruction\n",
        "  ax = plt.subplot(3, n, i + 1 + n)\n",
        "  plt.imshow(predictd_output)\n",
        "  plt.title(\"output_img1\")\n",
        "  plt.gray()\n",
        "  ax.get_xaxis().set_visible(False)\n",
        "  ax.get_yaxis().set_visible(False)\n",
        "\n",
        "  ax = plt.subplot(3, n, i + 1 + 2*n)\n",
        "  plt.imshow(predictd_output1)\n",
        "  plt.title(\"output_img2\")\n",
        "  plt.gray()\n",
        "  ax.get_xaxis().set_visible(False)\n",
        "  ax.get_yaxis().set_visible(False)\n",
        "plt.savefig(\"reconstructed_out_10_zs1_10.jpg\")\n",
        "plt.show()"
      ],
      "metadata": {
        "id": "l3Ovp2PmUJpE"
      },
      "execution_count": null,
      "outputs": []
    },
    {
      "cell_type": "code",
      "source": [
        "n = 5\n",
        "plt.figure(figsize=(20, 12))\n",
        "for i in range(n):\n",
        "  # display original\n",
        "  ax = plt.subplot(3, n, i + 1)\n",
        "  predictd_output = tf.reshape(out5[i+2679],[28,28])\n",
        "  predictd_output1 = tf.reshape(out6[i+2679],[28,28])\n",
        "  input_given = tf.reshape(testY[i+2679],[28,28])\n",
        "  plt.imshow(input_given)\n",
        "  plt.title(\"input_img\")\n",
        "  plt.gray()\n",
        "\n",
        "  ax.get_xaxis().set_visible(False)\n",
        "  ax.get_yaxis().set_visible(False)\n",
        "\n",
        "  # display reconstruction\n",
        "  ax = plt.subplot(3, n, i + 1 + n)\n",
        "  plt.imshow(predictd_output)\n",
        "  plt.title(\"output_img1\")\n",
        "  plt.gray()\n",
        "  ax.get_xaxis().set_visible(False)\n",
        "  ax.get_yaxis().set_visible(False)\n",
        "\n",
        "  ax = plt.subplot(3, n, i + 1 + 2*n)\n",
        "  plt.imshow(predictd_output1)\n",
        "  plt.title(\"output_img2\")\n",
        "  plt.gray()\n",
        "  ax.get_xaxis().set_visible(False)\n",
        "  ax.get_yaxis().set_visible(False)\n",
        "plt.savefig(\"reconstructed_out_10_zs1_5.jpg\")\n",
        "plt.show()"
      ],
      "metadata": {
        "id": "NQfqCV8HpWUY"
      },
      "execution_count": null,
      "outputs": []
    },
    {
      "cell_type": "markdown",
      "source": [
        "# **NODE 2 POWER SET TO ZERO**"
      ],
      "metadata": {
        "id": "wQ9CdpTdVAMj"
      }
    },
    {
      "cell_type": "code",
      "source": [
        "zs=np.zeros([10000,14,28])\n",
        "\n",
        "out6,out5 = step1(input_test_1,zs, testY)"
      ],
      "metadata": {
        "id": "QfUV2zVPUZQL"
      },
      "execution_count": null,
      "outputs": []
    },
    {
      "cell_type": "code",
      "source": [],
      "metadata": {
        "id": "79NJEkXxso6q"
      },
      "execution_count": null,
      "outputs": []
    },
    {
      "cell_type": "code",
      "source": [
        "psnr_out6=0\n",
        "for i in range(10000):\n",
        "    \n",
        "  img1 = tf.reshape(out6[i],[28,28,1])\n",
        "  img2 = tf.reshape(testY[i],[28,28,1])\n",
        "  # Calculate PSNR between the two images\n",
        "  psnr_value = psnr(img1, img2, max_val=1)\n",
        "  psnr_out6 += psnr_value.numpy()\n",
        "\n",
        "  # Print the PSNR value\n",
        "print(\"The average PSNR value between the two images at out 6 is:\", (psnr_out6/10000))"
      ],
      "metadata": {
        "id": "q0SetYcIspJh"
      },
      "execution_count": null,
      "outputs": []
    },
    {
      "cell_type": "code",
      "source": [
        "psnr_out5=0\n",
        "for i in range(10000):\n",
        "    \n",
        "  img1 = tf.reshape(out5[i],[28,28,1])\n",
        "  img2 = tf.reshape(testY[i],[28,28,1])\n",
        "  # Calculate PSNR between the two images\n",
        "  psnr_value = psnr(img1, img2, max_val=1)\n",
        "  psnr_out5 += psnr_value.numpy()\n",
        "\n",
        "  # Print the PSNR value\n",
        "print(\"The average PSNR value between the two images at out 5 is:\", (psnr_out5/10000))"
      ],
      "metadata": {
        "id": "a_fHYLIUspJj"
      },
      "execution_count": null,
      "outputs": []
    },
    {
      "cell_type": "code",
      "source": [
        "n = 10\n",
        "plt.figure(figsize=(20, 6))\n",
        "for i in range(n):\n",
        "  # display original\n",
        "  ax = plt.subplot(3, n, i + 1)\n",
        "  predictd_output = tf.reshape(out5[i+2679],[28,28])\n",
        "  predictd_output1 = tf.reshape(out6[i+2679],[28,28])\n",
        "  input_given = tf.reshape(testY[i+2679],[28,28])\n",
        "  plt.imshow(input_given)\n",
        "  plt.title(\"input_img\")\n",
        "  plt.gray()\n",
        "\n",
        "  ax.get_xaxis().set_visible(False)\n",
        "  ax.get_yaxis().set_visible(False)\n",
        "\n",
        "  # display reconstruction\n",
        "  ax = plt.subplot(3, n, i + 1 + n)\n",
        "  plt.imshow(predictd_output)\n",
        "  plt.title(\"output_img1\")\n",
        "  plt.gray()\n",
        "  ax.get_xaxis().set_visible(False)\n",
        "  ax.get_yaxis().set_visible(False)\n",
        "\n",
        "  ax = plt.subplot(3, n, i + 1 + 2*n)\n",
        "  plt.imshow(predictd_output1)\n",
        "  plt.title(\"output_img2\")\n",
        "  plt.gray()\n",
        "  ax.get_xaxis().set_visible(False)\n",
        "  ax.get_yaxis().set_visible(False)\n",
        "plt.savefig(\"reconstructed_out_10_zs2_10.jpg\")\n",
        "plt.show()"
      ],
      "metadata": {
        "id": "e8uaFL6QUfP5"
      },
      "execution_count": null,
      "outputs": []
    },
    {
      "cell_type": "code",
      "source": [
        "n = 5\n",
        "plt.figure(figsize=(20, 12))\n",
        "for i in range(n):\n",
        "  # display original\n",
        "  ax = plt.subplot(3, n, i + 1)\n",
        "  predictd_output = tf.reshape(out5[i+2679],[28,28])\n",
        "  predictd_output1 = tf.reshape(out6[i+2679],[28,28])\n",
        "  input_given = tf.reshape(testY[i+2679],[28,28])\n",
        "  plt.imshow(input_given)\n",
        "  plt.title(\"input_img\")\n",
        "  plt.gray()\n",
        "\n",
        "  ax.get_xaxis().set_visible(False)\n",
        "  ax.get_yaxis().set_visible(False)\n",
        "\n",
        "  # display reconstruction\n",
        "  ax = plt.subplot(3, n, i + 1 + n)\n",
        "  plt.imshow(predictd_output)\n",
        "  plt.title(\"output_img1\")\n",
        "  plt.gray()\n",
        "  ax.get_xaxis().set_visible(False)\n",
        "  ax.get_yaxis().set_visible(False)\n",
        "\n",
        "  ax = plt.subplot(3, n, i + 1 + 2*n)\n",
        "  plt.imshow(predictd_output1)\n",
        "  plt.title(\"output_img2\")\n",
        "  plt.gray()\n",
        "  ax.get_xaxis().set_visible(False)\n",
        "  ax.get_yaxis().set_visible(False)\n",
        "plt.savefig(\"reconstructed_out_10_zs2_5.jpg\")\n",
        "plt.show()"
      ],
      "metadata": {
        "id": "FBZ1-Ra_pUTf"
      },
      "execution_count": null,
      "outputs": []
    },
    {
      "cell_type": "markdown",
      "source": [
        "# **Both Input power reduced to 1/5**"
      ],
      "metadata": {
        "id": "PGSUubtTVyW7"
      }
    },
    {
      "cell_type": "code",
      "source": [
        "out6,out5 = step1(input_test_1/5,input_test_2/5, testY)"
      ],
      "metadata": {
        "id": "FH5mBpY_VGli"
      },
      "execution_count": null,
      "outputs": []
    },
    {
      "cell_type": "code",
      "source": [],
      "metadata": {
        "id": "4utygWpMsrTm"
      },
      "execution_count": null,
      "outputs": []
    },
    {
      "cell_type": "code",
      "source": [
        "psnr_out6=0\n",
        "for i in range(10000):\n",
        "    \n",
        "  img1 = tf.reshape(out6[i],[28,28,1])\n",
        "  img2 = tf.reshape(testY[i],[28,28,1])\n",
        "  # Calculate PSNR between the two images\n",
        "  psnr_value = psnr(img1, img2, max_val=1)\n",
        "  psnr_out6 += psnr_value.numpy()\n",
        "\n",
        "  # Print the PSNR value\n",
        "print(\"The average PSNR value between the two images at out 6 is:\", (psnr_out6/10000))"
      ],
      "metadata": {
        "id": "MMn13kvDsrio"
      },
      "execution_count": null,
      "outputs": []
    },
    {
      "cell_type": "code",
      "source": [
        "psnr_out5=0\n",
        "for i in range(10000):\n",
        "    \n",
        "  img1 = tf.reshape(out5[i],[28,28,1])\n",
        "  img2 = tf.reshape(testY[i],[28,28,1])\n",
        "  # Calculate PSNR between the two images\n",
        "  psnr_value = psnr(img1, img2, max_val=1)\n",
        "  psnr_out5 += psnr_value.numpy()\n",
        "\n",
        "  # Print the PSNR value\n",
        "print(\"The average PSNR value between the two images at out 5 is:\", (psnr_out5/10000))"
      ],
      "metadata": {
        "id": "LxX32L-Asriq"
      },
      "execution_count": null,
      "outputs": []
    },
    {
      "cell_type": "code",
      "source": [
        "n = 10\n",
        "plt.figure(figsize=(20, 6))\n",
        "for i in range(n):\n",
        "  # display original\n",
        "  ax = plt.subplot(3, n, i + 1)\n",
        "  predictd_output = tf.reshape(out5[i+2679],[28,28])\n",
        "  predictd_output1 = tf.reshape(out6[i+2679],[28,28])\n",
        "  input_given = tf.reshape(testY[i+2679],[28,28])\n",
        "  plt.imshow(input_given)\n",
        "  plt.title(\"input_img\")\n",
        "  plt.gray()\n",
        "\n",
        "  ax.get_xaxis().set_visible(False)\n",
        "  ax.get_yaxis().set_visible(False)\n",
        "\n",
        "  # display reconstruction\n",
        "  ax = plt.subplot(3, n, i + 1 + n)\n",
        "  plt.imshow(predictd_output)\n",
        "  plt.title(\"output_img1\")\n",
        "  plt.gray()\n",
        "  ax.get_xaxis().set_visible(False)\n",
        "  ax.get_yaxis().set_visible(False)\n",
        "\n",
        "  ax = plt.subplot(3, n, i + 1 + 2*n)\n",
        "  plt.imshow(predictd_output1)\n",
        "  plt.title(\"output_img2\")\n",
        "  plt.gray()\n",
        "  ax.get_xaxis().set_visible(False)\n",
        "  ax.get_yaxis().set_visible(False)\n",
        "plt.savefig(\"noise_out_10_zshalf_10.jpg\")\n",
        "plt.show()"
      ],
      "metadata": {
        "id": "7QZmkxkIVPrh"
      },
      "execution_count": null,
      "outputs": []
    },
    {
      "cell_type": "code",
      "source": [
        "n = 5\n",
        "plt.figure(figsize=(20, 12))\n",
        "for i in range(n):\n",
        "  # display original\n",
        "  ax = plt.subplot(3, n, i + 1)\n",
        "  predictd_output = tf.reshape(out5[i+2679],[28,28])\n",
        "  predictd_output1 = tf.reshape(out6[i+2679],[28,28])\n",
        "  input_given = tf.reshape(testY[i+2679],[28,28])\n",
        "  plt.imshow(input_given)\n",
        "  plt.title(\"input_img\")\n",
        "  plt.gray()\n",
        "\n",
        "  ax.get_xaxis().set_visible(False)\n",
        "  ax.get_yaxis().set_visible(False)\n",
        "\n",
        "  # display reconstruction\n",
        "  ax = plt.subplot(3, n, i + 1 + n)\n",
        "  plt.imshow(predictd_output)\n",
        "  plt.title(\"output_img1\")\n",
        "  plt.gray()\n",
        "  ax.get_xaxis().set_visible(False)\n",
        "  ax.get_yaxis().set_visible(False)\n",
        "\n",
        "  ax = plt.subplot(3, n, i + 1 + 2*n)\n",
        "  plt.imshow(predictd_output1)\n",
        "  plt.title(\"output_img2\")\n",
        "  plt.gray()\n",
        "  ax.get_xaxis().set_visible(False)\n",
        "  ax.get_yaxis().set_visible(False)\n",
        "plt.savefig(\"noise_out_10_zshalf_5.jpg\")\n",
        "plt.show()"
      ],
      "metadata": {
        "id": "b3PIwV3ZpI-K"
      },
      "execution_count": null,
      "outputs": []
    },
    {
      "cell_type": "code",
      "source": [],
      "metadata": {
        "id": "g4kE_kIIqfds"
      },
      "execution_count": null,
      "outputs": []
    },
    {
      "cell_type": "markdown",
      "source": [
        "# **Input1 power reduced to 1/5**"
      ],
      "metadata": {
        "id": "QuTYFQUGWqWr"
      }
    },
    {
      "cell_type": "code",
      "source": [
        "out6,out5 = step1(input_test_1/5,input_test_2, testY)"
      ],
      "metadata": {
        "id": "KTnibUPLqjTK"
      },
      "execution_count": null,
      "outputs": []
    },
    {
      "cell_type": "code",
      "source": [],
      "metadata": {
        "id": "rvLiVtRistpi"
      },
      "execution_count": null,
      "outputs": []
    },
    {
      "cell_type": "code",
      "source": [
        "psnr_out6=0\n",
        "for i in range(10000):\n",
        "    \n",
        "  img1 = tf.reshape(out6[i],[28,28,1])\n",
        "  img2 = tf.reshape(testY[i],[28,28,1])\n",
        "  # Calculate PSNR between the two images\n",
        "  psnr_value = psnr(img1, img2, max_val=1)\n",
        "  psnr_out6 += psnr_value.numpy()\n",
        "\n",
        "  # Print the PSNR value\n",
        "print(\"The average PSNR value between the two images at out 6 is:\", (psnr_out6/10000))"
      ],
      "metadata": {
        "id": "c8jJgI1Fst5v"
      },
      "execution_count": null,
      "outputs": []
    },
    {
      "cell_type": "code",
      "source": [
        "psnr_out5=0\n",
        "for i in range(10000):\n",
        "    \n",
        "  img1 = tf.reshape(out5[i],[28,28,1])\n",
        "  img2 = tf.reshape(testY[i],[28,28,1])\n",
        "  # Calculate PSNR between the two images\n",
        "  psnr_value = psnr(img1, img2, max_val=1)\n",
        "  psnr_out5 += psnr_value.numpy()\n",
        "\n",
        "  # Print the PSNR value\n",
        "print(\"The average PSNR value between the two images at out 5 is:\", (psnr_out5/10000))"
      ],
      "metadata": {
        "id": "47WVZ44nst5w"
      },
      "execution_count": null,
      "outputs": []
    },
    {
      "cell_type": "code",
      "source": [
        "n = 10\n",
        "plt.figure(figsize=(20, 6))\n",
        "for i in range(n):\n",
        "  # display original\n",
        "  ax = plt.subplot(3, n, i + 1)\n",
        "  predictd_output = tf.reshape(out5[i+2679],[28,28])\n",
        "  predictd_output1 = tf.reshape(out6[i+2679],[28,28])\n",
        "  input_given = tf.reshape(testY[i+2679],[28,28])\n",
        "  plt.imshow(input_given)\n",
        "  plt.title(\"input_img\")\n",
        "  plt.gray()\n",
        "\n",
        "  ax.get_xaxis().set_visible(False)\n",
        "  ax.get_yaxis().set_visible(False)\n",
        "\n",
        "  # display reconstruction\n",
        "  ax = plt.subplot(3, n, i + 1 + n)\n",
        "  plt.imshow(predictd_output)\n",
        "  plt.title(\"output_img1\")\n",
        "  plt.gray()\n",
        "  ax.get_xaxis().set_visible(False)\n",
        "  ax.get_yaxis().set_visible(False)\n",
        "\n",
        "  ax = plt.subplot(3, n, i + 1 + 2*n)\n",
        "  plt.imshow(predictd_output1)\n",
        "  plt.title(\"output_img2\")\n",
        "  plt.gray()\n",
        "  ax.get_xaxis().set_visible(False)\n",
        "  ax.get_yaxis().set_visible(False)\n",
        "plt.savefig(\"noise_out_10_zs1half_10.jpg\")\n",
        "plt.show()"
      ],
      "metadata": {
        "id": "mD8Cpnp_qjTM"
      },
      "execution_count": null,
      "outputs": []
    },
    {
      "cell_type": "code",
      "source": [
        "n = 5\n",
        "plt.figure(figsize=(20, 12))\n",
        "for i in range(n):\n",
        "  # display original\n",
        "  ax = plt.subplot(3, n, i + 1)\n",
        "  predictd_output = tf.reshape(out5[i+2679],[28,28])\n",
        "  predictd_output1 = tf.reshape(out6[i+2679],[28,28])\n",
        "  input_given = tf.reshape(testY[i+2679],[28,28])\n",
        "  plt.imshow(input_given)\n",
        "  plt.title(\"input_img\")\n",
        "  plt.gray()\n",
        "\n",
        "  ax.get_xaxis().set_visible(False)\n",
        "  ax.get_yaxis().set_visible(False)\n",
        "\n",
        "  # display reconstruction\n",
        "  ax = plt.subplot(3, n, i + 1 + n)\n",
        "  plt.imshow(predictd_output)\n",
        "  plt.title(\"output_img1\")\n",
        "  plt.gray()\n",
        "  ax.get_xaxis().set_visible(False)\n",
        "  ax.get_yaxis().set_visible(False)\n",
        "\n",
        "  ax = plt.subplot(3, n, i + 1 + 2*n)\n",
        "  plt.imshow(predictd_output1)\n",
        "  plt.title(\"output_img2\")\n",
        "  plt.gray()\n",
        "  ax.get_xaxis().set_visible(False)\n",
        "  ax.get_yaxis().set_visible(False)\n",
        "plt.savefig(\"noise_out_10_zs1half_5.jpg\")\n",
        "plt.show()"
      ],
      "metadata": {
        "id": "IuSMp-rqqjTO"
      },
      "execution_count": null,
      "outputs": []
    },
    {
      "cell_type": "markdown",
      "source": [
        "# **Input2 power reduced to 1/5**"
      ],
      "metadata": {
        "id": "KzM_s2Q4W4ZX"
      }
    },
    {
      "cell_type": "code",
      "source": [
        "out6,out5 = step1(input_test_1,input_test_2/5, testY)"
      ],
      "metadata": {
        "id": "YMuJaGPGqy6N"
      },
      "execution_count": null,
      "outputs": []
    },
    {
      "cell_type": "code",
      "source": [],
      "metadata": {
        "id": "5SuHHum5sv1P"
      },
      "execution_count": null,
      "outputs": []
    },
    {
      "cell_type": "code",
      "source": [
        "psnr_out6=0\n",
        "for i in range(10000):\n",
        "    \n",
        "  img1 = tf.reshape(out6[i],[28,28,1])\n",
        "  img2 = tf.reshape(testY[i],[28,28,1])\n",
        "  # Calculate PSNR between the two images\n",
        "  psnr_value = psnr(img1, img2, max_val=1)\n",
        "  psnr_out6 += psnr_value.numpy()\n",
        "\n",
        "  # Print the PSNR value\n",
        "print(\"The average PSNR value between the two images at out 6 is:\", (psnr_out6/10000))"
      ],
      "metadata": {
        "id": "PRwjITr5swDW"
      },
      "execution_count": null,
      "outputs": []
    },
    {
      "cell_type": "code",
      "source": [
        "psnr_out5=0\n",
        "for i in range(10000):\n",
        "    \n",
        "  img1 = tf.reshape(out5[i],[28,28,1])\n",
        "  img2 = tf.reshape(testY[i],[28,28,1])\n",
        "  # Calculate PSNR between the two images\n",
        "  psnr_value = psnr(img1, img2, max_val=1)\n",
        "  psnr_out5 += psnr_value.numpy()\n",
        "\n",
        "  # Print the PSNR value\n",
        "print(\"The average PSNR value between the two images at out 5 is:\", (psnr_out5/10000))"
      ],
      "metadata": {
        "id": "XlRTLgnsswDX"
      },
      "execution_count": null,
      "outputs": []
    },
    {
      "cell_type": "code",
      "source": [
        "n = 10\n",
        "plt.figure(figsize=(20, 6))\n",
        "for i in range(n):\n",
        "  # display original\n",
        "  ax = plt.subplot(3, n, i + 1)\n",
        "  predictd_output = tf.reshape(out5[i+2679],[28,28])\n",
        "  predictd_output1 = tf.reshape(out6[i+2679],[28,28])\n",
        "  input_given = tf.reshape(testY[i+2679],[28,28])\n",
        "  plt.imshow(input_given)\n",
        "  plt.title(\"input_img\")\n",
        "  plt.gray()\n",
        "\n",
        "  ax.get_xaxis().set_visible(False)\n",
        "  ax.get_yaxis().set_visible(False)\n",
        "\n",
        "  # display reconstruction\n",
        "  ax = plt.subplot(3, n, i + 1 + n)\n",
        "  plt.imshow(predictd_output)\n",
        "  plt.title(\"output_img1\")\n",
        "  plt.gray()\n",
        "  ax.get_xaxis().set_visible(False)\n",
        "  ax.get_yaxis().set_visible(False)\n",
        "\n",
        "  ax = plt.subplot(3, n, i + 1 + 2*n)\n",
        "  plt.imshow(predictd_output1)\n",
        "  plt.title(\"output_img2\")\n",
        "  plt.gray()\n",
        "  ax.get_xaxis().set_visible(False)\n",
        "  ax.get_yaxis().set_visible(False)\n",
        "plt.savefig(\"noise_out_10_zs2half_10.jpg\")\n",
        "plt.show()"
      ],
      "metadata": {
        "id": "ikVmvAYmqy6P"
      },
      "execution_count": null,
      "outputs": []
    },
    {
      "cell_type": "code",
      "source": [
        "n = 5\n",
        "plt.figure(figsize=(20, 12))\n",
        "for i in range(n):\n",
        "  # display original\n",
        "  ax = plt.subplot(3, n, i + 1)\n",
        "  predictd_output = tf.reshape(out5[i+2679],[28,28])\n",
        "  predictd_output1 = tf.reshape(out6[i+2679],[28,28])\n",
        "  input_given = tf.reshape(testY[i+2679],[28,28])\n",
        "  plt.imshow(input_given)\n",
        "  plt.title(\"input_img\")\n",
        "  plt.gray()\n",
        "\n",
        "  ax.get_xaxis().set_visible(False)\n",
        "  ax.get_yaxis().set_visible(False)\n",
        "\n",
        "  # display reconstruction\n",
        "  ax = plt.subplot(3, n, i + 1 + n)\n",
        "  plt.imshow(predictd_output)\n",
        "  plt.title(\"output_img1\")\n",
        "  plt.gray()\n",
        "  ax.get_xaxis().set_visible(False)\n",
        "  ax.get_yaxis().set_visible(False)\n",
        "\n",
        "  ax = plt.subplot(3, n, i + 1 + 2*n)\n",
        "  plt.imshow(predictd_output1)\n",
        "  plt.title(\"output_img2\")\n",
        "  plt.gray()\n",
        "  ax.get_xaxis().set_visible(False)\n",
        "  ax.get_yaxis().set_visible(False)\n",
        "plt.savefig(\"noise_out_10_zs2half_5.jpg\")\n",
        "plt.show()"
      ],
      "metadata": {
        "id": "qzFfvGy-qy6Q"
      },
      "execution_count": null,
      "outputs": []
    }
  ],
  "metadata": {
    "colab": {
      "provenance": [],
      "include_colab_link": true
    },
    "gpuClass": "standard",
    "kernelspec": {
      "display_name": "Python 3",
      "name": "python3"
    },
    "language_info": {
      "name": "python"
    },
    "accelerator": "GPU"
  },
  "nbformat": 4,
  "nbformat_minor": 0
}