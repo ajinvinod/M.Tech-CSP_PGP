{
  "cells": [
    {
      "cell_type": "markdown",
      "metadata": {
        "id": "view-in-github",
        "colab_type": "text"
      },
      "source": [
        "<a href=\"https://colab.research.google.com/github/ajinvinodk/M.Tech-CSP_PGP/blob/main/loss_plot4_Epoch50_BS32_DENSE64_LR_0_0001.ipynb\" target=\"_parent\"><img src=\"https://colab.research.google.com/assets/colab-badge.svg\" alt=\"Open In Colab\"/></a>"
      ]
    },
    {
      "cell_type": "code",
      "execution_count": 1,
      "metadata": {
        "id": "wG1UB9mwmabV"
      },
      "outputs": [],
      "source": [
        "from tensorflow.keras.datasets import mnist\n",
        "import tensorflow as tf\n",
        "import numpy as np\n",
        "import time\n",
        "import sys\n",
        "import matplotlib.pyplot as plt\n",
        "from tensorflow.keras.models import Sequential\n",
        "#from tensorflow.keras.layers import BatchNormalization\n",
        "#from tensorflow.keras.layers import Conv2D\n",
        "#from tensorflow.keras.layers import MaxPooling2D\n",
        "from tensorflow.keras.layers import Activation\n",
        "from tensorflow.keras.layers import Flatten\n",
        "from tensorflow.keras.layers import Dropout\n",
        "from tensorflow.keras.layers import Dense\n",
        "from tensorflow.keras.optimizers import Adam\n",
        "from tensorflow.keras.losses import categorical_crossentropy\n",
        "from tensorflow.keras.losses import binary_crossentropy\n",
        "#from tensorflow.keras.utils import to_categorical\n",
        "from sklearn.metrics import accuracy_score"
      ]
    },
    {
      "cell_type": "code",
      "source": [
        "#from google.colab import drive\n",
        "#drive.mount('/content/drive')"
      ],
      "metadata": {
        "id": "GhwiwiyZxWuw"
      },
      "execution_count": 2,
      "outputs": []
    },
    {
      "cell_type": "code",
      "execution_count": 3,
      "metadata": {
        "id": "k6ryK8pPmcOv",
        "colab": {
          "base_uri": "https://localhost:8080/"
        },
        "outputId": "191ebb25-4a5b-46c7-a385-d62d4035a1ac"
      },
      "outputs": [
        {
          "output_type": "stream",
          "name": "stdout",
          "text": [
            "Downloading data from https://storage.googleapis.com/tensorflow/tf-keras-datasets/mnist.npz\n",
            "11493376/11490434 [==============================] - 0s 0us/step\n",
            "11501568/11490434 [==============================] - 0s 0us/step\n"
          ]
        }
      ],
      "source": [
        "((trainX, trainY), (testX, testY)) = mnist.load_data()\n",
        "trainX = trainX.astype(\"float32\") / 255.0\n",
        "testX = testX.astype(\"float32\") / 255.0\n",
        "trainY = trainX.reshape(60000,784)\n",
        "testY = testX.reshape(10000,784)\n",
        "input_1 = (trainX[:,:14,:])\n",
        "input_2 = (trainX[:,14:28,:])"
      ]
    },
    {
      "cell_type": "code",
      "execution_count": 4,
      "metadata": {
        "id": "YHUsswi7mvb3"
      },
      "outputs": [],
      "source": [
        "def build_model_1(width, height, depth):\n",
        "\tinputShape = (width,height, depth)\t\n",
        "\tmodel = Sequential([\n",
        "\t\tFlatten(input_shape = inputShape),\n",
        "    Dense(64,activation = 'relu')\n",
        "\t])\n",
        "\treturn model"
      ]
    },
    {
      "cell_type": "code",
      "execution_count": 5,
      "metadata": {
        "id": "3FW5ip4wmwjB"
      },
      "outputs": [],
      "source": [
        "def build_model_2(width, height, classes):\n",
        "\tinputShape = (width,height)\n",
        "\tmodel = Sequential([\n",
        "\t\tFlatten(input_shape = inputShape),\n",
        "    Dense(392,activation = 'relu'),\n",
        "\t\tDense(classes, activation= \"softmax\")\n",
        "\t])\n",
        "\treturn model"
      ]
    },
    {
      "cell_type": "code",
      "execution_count": 6,
      "metadata": {
        "colab": {
          "base_uri": "https://localhost:8080/"
        },
        "id": "4rt4G6Idp5jg",
        "outputId": "bba16aa1-0679-4c9f-e2fe-a5a6a7498e63"
      },
      "outputs": [
        {
          "output_type": "stream",
          "name": "stdout",
          "text": [
            "[INFO] creating model...\n"
          ]
        }
      ],
      "source": [
        "EPOCHS = 50\n",
        "BS = 32\n",
        "INIT_LR = 1e-4\n",
        "print(\"[INFO] creating model...\")\n",
        "model1= build_model_1(14,28,1)\n",
        "model2= build_model_1(14,28,1)\n",
        "model3= build_model_2(128,1,784)\n",
        "opt = Adam(learning_rate=INIT_LR, decay=INIT_LR / EPOCHS)"
      ]
    },
    {
      "cell_type": "code",
      "execution_count": 7,
      "metadata": {
        "id": "dHnoeKgaq593"
      },
      "outputs": [],
      "source": [
        "def step(X1,X2,y):\n",
        "    \n",
        "    with tf.GradientTape(persistent=True) as tape:\n",
        "      pred1 = model1(X1)\n",
        "      pred2 = model2(X2)\n",
        "      \n",
        "      X3 = tf.keras.layers.concatenate([pred1,pred2])\n",
        "      \n",
        "      pred3 = model3(X3)\n",
        "      #print(len(pred3))\n",
        "      loss = binary_crossentropy(y, pred3)\n",
        "      #print(\"loss is = \",loss)\n",
        "    grads3 = tape.gradient(loss, model3.trainable_variables)\n",
        "    #print(len(grads3))\n",
        "    grads1 = tape.gradient(loss, model1.trainable_variables)\n",
        "    grads2 = tape.gradient(loss, model2.trainable_variables)\n",
        "    #grads1 = tape.gradient(grads3[:int(len(grads3)/2)], model1.trainable_variables)\n",
        "    #grads2 = tape.gradient(grads3[int(len(grads3)/2):], model2.trainable_variables)\n",
        "    \n",
        "    #print(\"loss is = \",grads1)\n",
        "    \n",
        "    #grads2 = tape.gradient(grads3, model2.trainable_variables)\n",
        "    opt.apply_gradients(zip(grads3, model3.trainable_variables))\n",
        "    #\n",
        "    \n",
        "    \n",
        "    opt.apply_gradients(zip(grads1, model1.trainable_variables))\n",
        "    opt.apply_gradients(zip(grads2, model2.trainable_variables)) \n",
        "    loss_sum=[]\n",
        "    loss_sum = sum(loss)\n",
        "    return loss_sum"
      ]
    },
    {
      "cell_type": "code",
      "execution_count": 8,
      "metadata": {
        "colab": {
          "base_uri": "https://localhost:8080/"
        },
        "id": "d4eAav-zq6x1",
        "outputId": "520cfd69-e356-4be9-c90a-dcd28d760ed6"
      },
      "outputs": [
        {
          "output_type": "stream",
          "name": "stdout",
          "text": [
            "[INFO] starting epoch 1/50...took 0.9757 minutes\n",
            "[INFO] starting epoch 2/50...took 0.8311 minutes\n",
            "[INFO] starting epoch 3/50...took 0.8101 minutes\n",
            "[INFO] starting epoch 4/50...took 0.81 minutes\n",
            "[INFO] starting epoch 5/50...took 0.8139 minutes\n",
            "[INFO] starting epoch 6/50...took 0.8135 minutes\n",
            "[INFO] starting epoch 7/50...took 0.8118 minutes\n",
            "[INFO] starting epoch 8/50...took 0.8104 minutes\n",
            "[INFO] starting epoch 9/50...took 0.8094 minutes\n",
            "[INFO] starting epoch 10/50...took 0.8049 minutes\n",
            "[INFO] starting epoch 11/50...took 0.8112 minutes\n",
            "[INFO] starting epoch 12/50...took 0.8041 minutes\n",
            "[INFO] starting epoch 13/50...took 0.8058 minutes\n",
            "[INFO] starting epoch 14/50...took 0.8107 minutes\n",
            "[INFO] starting epoch 15/50...took 0.8052 minutes\n",
            "[INFO] starting epoch 16/50...took 0.8022 minutes\n",
            "[INFO] starting epoch 17/50...took 0.7992 minutes\n",
            "[INFO] starting epoch 18/50...took 0.803 minutes\n",
            "[INFO] starting epoch 19/50...took 0.797 minutes\n",
            "[INFO] starting epoch 20/50...took 0.7932 minutes\n",
            "[INFO] starting epoch 21/50...took 0.7942 minutes\n",
            "[INFO] starting epoch 22/50...took 0.789 minutes\n",
            "[INFO] starting epoch 23/50...took 0.7916 minutes\n",
            "[INFO] starting epoch 24/50...took 0.7959 minutes\n",
            "[INFO] starting epoch 25/50...took 0.8196 minutes\n",
            "[INFO] starting epoch 26/50...took 0.7881 minutes\n",
            "[INFO] starting epoch 27/50...took 0.786 minutes\n",
            "[INFO] starting epoch 28/50...took 0.7871 minutes\n",
            "[INFO] starting epoch 29/50...took 0.7879 minutes\n",
            "[INFO] starting epoch 30/50...took 0.7911 minutes\n",
            "[INFO] starting epoch 31/50...took 0.7947 minutes\n",
            "[INFO] starting epoch 32/50...took 0.7922 minutes\n",
            "[INFO] starting epoch 33/50...took 0.7926 minutes\n",
            "[INFO] starting epoch 34/50...took 0.7915 minutes\n",
            "[INFO] starting epoch 35/50...took 0.7925 minutes\n",
            "[INFO] starting epoch 36/50...took 0.7894 minutes\n",
            "[INFO] starting epoch 37/50...took 0.794 minutes\n",
            "[INFO] starting epoch 38/50...took 0.7902 minutes\n",
            "[INFO] starting epoch 39/50...took 0.7917 minutes\n",
            "[INFO] starting epoch 40/50...took 0.7918 minutes\n",
            "[INFO] starting epoch 41/50...took 0.7949 minutes\n",
            "[INFO] starting epoch 42/50...took 0.789 minutes\n",
            "[INFO] starting epoch 43/50...took 0.7911 minutes\n",
            "[INFO] starting epoch 44/50...took 0.7922 minutes\n",
            "[INFO] starting epoch 45/50...took 0.793 minutes\n",
            "[INFO] starting epoch 46/50...took 0.7896 minutes\n",
            "[INFO] starting epoch 47/50...took 0.7881 minutes\n",
            "[INFO] starting epoch 48/50...took 0.7923 minutes\n",
            "[INFO] starting epoch 49/50...took 0.8034 minutes\n",
            "[INFO] starting epoch 50/50...took 0.8202 minutes\n",
            "[0.18211666666666668, 0.1122, 0.09531666666666666, 0.08753333333333334, 0.08308333333333333, 0.08011666666666667, 0.07801666666666666, 0.07646666666666667, 0.07525, 0.07428333333333334, 0.07346666666666667, 0.07278333333333334, 0.07221666666666667, 0.07171666666666666, 0.07126666666666667, 0.07088333333333334, 0.07053333333333334, 0.07021666666666666, 0.06993333333333333, 0.06968333333333333, 0.06943333333333333, 0.06921666666666666, 0.06901666666666667, 0.06883333333333333, 0.06866666666666667, 0.0685, 0.06835, 0.06821666666666666, 0.06808333333333333, 0.06796666666666666, 0.06785, 0.06775, 0.06765, 0.06755, 0.06745, 0.06736666666666667, 0.06728333333333333, 0.06721666666666666, 0.06715, 0.06708333333333333, 0.06701666666666667, 0.06695, 0.0669, 0.06683333333333333, 0.06678333333333333, 0.06673333333333334, 0.06668333333333333, 0.06663333333333334, 0.0666, 0.06655]\n"
          ]
        }
      ],
      "source": [
        "#numUpdates = int(trainX.shape[0] / BS)\n",
        "numUpdates = int(trainX.shape[0] / BS)\n",
        "tot_loss=[]\n",
        "for epoch in range(0, EPOCHS):\n",
        "\tprint(\"[INFO] starting epoch {}/{}...\".format(epoch + 1, EPOCHS), end=\"\")\n",
        "\tsys.stdout.flush()\n",
        "\tepochStart = time.time()\n",
        "\tloss_epoch = 0\n",
        "\tfor i in range(0, numUpdates):\n",
        "\t\t#print()\n",
        "\t\t\n",
        "\t\tstart = i * BS\n",
        "\t\tend = start + BS\n",
        "\t\t#print(\"inp_1 = \",input_1[start:end])\n",
        "\t\t#print(\"inp_2 = \",input_2[start:end])\n",
        "\t\t#print(\"epoch and i is = \",epoch,i)\n",
        "\t\tloss_each_BS = step(input_1[start:end],input_2[start:end], trainY[start:end])\n",
        "\t\tloss_epoch += loss_each_BS\n",
        "\ttot_loss.append(int(loss_epoch)/60000)\n",
        "\tepochEnd = time.time()\n",
        "\telapsed = (epochEnd - epochStart) / 60.0\n",
        "\tprint(\"took {:.4} minutes\".format(elapsed))\n",
        "print(tot_loss)"
      ]
    },
    {
      "cell_type": "code",
      "source": [
        "plt.figure(figsize=(10, 7))\n",
        "plt.plot(tot_loss)\n",
        "plt.xlabel(\"Epochs\")\n",
        "plt.ylabel(\"loss\")\n",
        "plt.legend([\"train loss\"])\n",
        "plt.savefig(\"loss_Four.jpg\")"
      ],
      "metadata": {
        "colab": {
          "base_uri": "https://localhost:8080/",
          "height": 442
        },
        "id": "gN-JoP6ETURl",
        "outputId": "30a09993-d0a6-4217-e517-d6547866fe2e"
      },
      "execution_count": 41,
      "outputs": [
        {
          "output_type": "display_data",
          "data": {
            "text/plain": [
              "<Figure size 720x504 with 1 Axes>"
            ],
            "image/png": "[encoded data removed]"
          },
          "metadata": {
            "needs_background": "light"
          }
        }
      ]
    },
    {
      "cell_type": "code",
      "source": [
        "model1.summary()"
      ],
      "metadata": {
        "colab": {
          "base_uri": "https://localhost:8080/"
        },
        "id": "8HoIlH7ePkM9",
        "outputId": "cb48e433-8e47-4dba-d500-33cff26b07be"
      },
      "execution_count": 10,
      "outputs": [
        {
          "output_type": "stream",
          "name": "stdout",
          "text": [
            "Model: \"sequential\"\n",
            "_________________________________________________________________\n",
            " Layer (type)                Output Shape              Param #   \n",
            "=================================================================\n",
            " flatten (Flatten)           (None, 392)               0         \n",
            "                                                                 \n",
            " dense (Dense)               (None, 64)                25152     \n",
            "                                                                 \n",
            "=================================================================\n",
            "Total params: 25,152\n",
            "Trainable params: 25,152\n",
            "Non-trainable params: 0\n",
            "_________________________________________________________________\n"
          ]
        }
      ]
    },
    {
      "cell_type": "code",
      "source": [
        "model3.summary()"
      ],
      "metadata": {
        "colab": {
          "base_uri": "https://localhost:8080/"
        },
        "id": "3tRNQ_0CE62G",
        "outputId": "f33db333-8c63-4f77-b9b1-18835268e944"
      },
      "execution_count": 17,
      "outputs": [
        {
          "output_type": "stream",
          "name": "stdout",
          "text": [
            "Model: \"sequential_2\"\n",
            "_________________________________________________________________\n",
            " Layer (type)                Output Shape              Param #   \n",
            "=================================================================\n",
            " flatten_2 (Flatten)         (None, 128)               0         \n",
            "                                                                 \n",
            " dense_2 (Dense)             (None, 392)               50568     \n",
            "                                                                 \n",
            " dense_3 (Dense)             (None, 784)               308112    \n",
            "                                                                 \n",
            "=================================================================\n",
            "Total params: 358,680\n",
            "Trainable params: 358,680\n",
            "Non-trainable params: 0\n",
            "_________________________________________________________________\n"
          ]
        }
      ]
    },
    {
      "cell_type": "code",
      "source": [
        "input_test_1 = (testX[:,:14,:])\n",
        "input_test_2 = (testX[:,14:28,:])"
      ],
      "metadata": {
        "id": "PHqhARv0PpEV"
      },
      "execution_count": 11,
      "outputs": []
    },
    {
      "cell_type": "code",
      "source": [
        "def step1(X1,X2,y):\n",
        "    with tf.GradientTape(persistent=True) as tape:\n",
        "      pred11 = model1(X1)\n",
        "      pred22 = model2(X2)\n",
        "      \n",
        "      X3 = tf.keras.layers.concatenate([pred11,pred22])\n",
        "      \n",
        "      pred33 = model3(X3)\n",
        "      #print(len(pred3))\n",
        "      loss = binary_crossentropy(y, pred33)\n",
        "      loss_sum=[]\n",
        "      loss_sum = sum(loss)\n",
        "      print(int(loss_sum)/10000)\n",
        "      return pred33"
      ],
      "metadata": {
        "id": "HxvpuW-3FBAp"
      },
      "execution_count": 25,
      "outputs": []
    },
    {
      "cell_type": "code",
      "source": [
        "out = step1(input_test_1[0:9999],input_test_2[0:9999], testY[0:9999])"
      ],
      "metadata": {
        "id": "7_fq-0KqFDU7",
        "colab": {
          "base_uri": "https://localhost:8080/"
        },
        "outputId": "716ee8d4-f865-4016-b2e7-deb20f6124f7"
      },
      "execution_count": 26,
      "outputs": [
        {
          "output_type": "stream",
          "name": "stdout",
          "text": [
            "0.0663\n"
          ]
        }
      ]
    },
    {
      "cell_type": "code",
      "source": [
        "n = 10\n",
        "plt.figure(figsize=(20, 4))\n",
        "for i in range(n):\n",
        "  # display original\n",
        "  ax = plt.subplot(2, n, i + 1)\n",
        "  predictd_output = tf.reshape(out[i],[28,28])\n",
        "  input_given = tf.reshape(testY[i],[28,28])\n",
        "  plt.imshow(input_given)\n",
        "  plt.title(\"input_img\")\n",
        "  plt.gray()\n",
        "\n",
        "  ax.get_xaxis().set_visible(False)\n",
        "  ax.get_yaxis().set_visible(False)\n",
        "\n",
        "  # display reconstruction\n",
        "  ax = plt.subplot(2, n, i + 1 + n)\n",
        "  plt.imshow(predictd_output)\n",
        "  plt.title(\"decoded_img\")\n",
        "  plt.gray()\n",
        "  ax.get_xaxis().set_visible(False)\n",
        "  ax.get_yaxis().set_visible(False)\n",
        "plt.savefig(\"decoded_396_192_2_epoch.png\")\n",
        "plt.show()"
      ],
      "metadata": {
        "colab": {
          "base_uri": "https://localhost:8080/",
          "height": 223
        },
        "id": "93AjiNi9Gu-U",
        "outputId": "2d5b7708-085d-4174-96a4-688e7e076eef"
      },
      "execution_count": 14,
      "outputs": [
        {
          "output_type": "display_data",
          "data": {
            "text/plain": [
              "<Figure size 1440x288 with 20 Axes>"
            ],
            "image/png": "[encoded data removed]"
          },
          "metadata": {
            "needs_background": "light"
          }
        }
      ]
    },
    {
      "cell_type": "code",
      "source": [
        "\n"
      ],
      "metadata": {
        "id": "MSb171HjXOHt"
      },
      "execution_count": 16,
      "outputs": []
    }
  ],
  "metadata": {
    "accelerator": "GPU",
    "colab": {
      "collapsed_sections": [],
      "provenance": [],
      "authorship_tag": "ABX9TyNwDuCUUWZ/bm0sGvTamzxO",
      "include_colab_link": true
    },
    "gpuClass": "standard",
    "kernelspec": {
      "display_name": "Python 3",
      "name": "python3"
    },
    "language_info": {
      "name": "python"
    }
  },
  "nbformat": 4,
  "nbformat_minor": 0
}