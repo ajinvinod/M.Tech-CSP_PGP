{
  "cells": [
    {
      "cell_type": "markdown",
      "metadata": {
        "id": "view-in-github",
        "colab_type": "text"
      },
      "source": [
        "<a href=\"https://colab.research.google.com/github/ajinvinodk/M.Tech-CSP_PGP/blob/main/loss_plot6_3model_Epoch50_BS32_DENSE64_LR_0_01.ipynb\" target=\"_parent\"><img src=\"https://colab.research.google.com/assets/colab-badge.svg\" alt=\"Open In Colab\"/></a>"
      ]
    },
    {
      "cell_type": "code",
      "execution_count": 1,
      "metadata": {
        "id": "wG1UB9mwmabV"
      },
      "outputs": [],
      "source": [
        "from tensorflow.keras.datasets import mnist\n",
        "import tensorflow as tf\n",
        "import numpy as np\n",
        "import time\n",
        "import sys\n",
        "import matplotlib.pyplot as plt\n",
        "from tensorflow.keras.models import Sequential\n",
        "#from tensorflow.keras.layers import BatchNormalization\n",
        "#from tensorflow.keras.layers import Conv2D\n",
        "#from tensorflow.keras.layers import MaxPooling2D\n",
        "from tensorflow.keras.layers import Activation\n",
        "from tensorflow.keras.layers import Flatten\n",
        "from tensorflow.keras.layers import Dropout\n",
        "from tensorflow.keras.layers import Dense\n",
        "from tensorflow.keras.optimizers import Adam\n",
        "from tensorflow.keras.losses import categorical_crossentropy\n",
        "from tensorflow.keras.losses import binary_crossentropy\n",
        "#from tensorflow.keras.utils import to_categorical\n",
        "from sklearn.metrics import accuracy_score"
      ]
    },
    {
      "cell_type": "code",
      "source": [
        "#from google.colab import drive\n",
        "#drive.mount('/content/drive')"
      ],
      "metadata": {
        "id": "GhwiwiyZxWuw"
      },
      "execution_count": 2,
      "outputs": []
    },
    {
      "cell_type": "code",
      "execution_count": 3,
      "metadata": {
        "id": "k6ryK8pPmcOv",
        "colab": {
          "base_uri": "https://localhost:8080/"
        },
        "outputId": "1fbaf97a-09f5-4362-99b2-1c261ac98a41"
      },
      "outputs": [
        {
          "output_type": "stream",
          "name": "stdout",
          "text": [
            "Downloading data from https://storage.googleapis.com/tensorflow/tf-keras-datasets/mnist.npz\n",
            "11493376/11490434 [==============================] - 0s 0us/step\n",
            "11501568/11490434 [==============================] - 0s 0us/step\n"
          ]
        }
      ],
      "source": [
        "((trainX, trainY), (testX, testY)) = mnist.load_data()\n",
        "trainX = trainX.astype(\"float32\") / 255.0\n",
        "testX = testX.astype(\"float32\") / 255.0\n",
        "trainY = trainX.reshape(60000,784)\n",
        "testY = testX.reshape(10000,784)\n",
        "input_1 = (trainX[:,:14,:])\n",
        "input_2 = (trainX[:,14:28,:])"
      ]
    },
    {
      "cell_type": "code",
      "execution_count": 4,
      "metadata": {
        "id": "YHUsswi7mvb3"
      },
      "outputs": [],
      "source": [
        "def build_model_1(width, height, depth):\n",
        "\tinputShape = (width,height, depth)\t\n",
        "\tmodel = Sequential([\n",
        "\t\tFlatten(input_shape = inputShape),\n",
        "    Dense(64,activation = 'relu')\n",
        "\t])\n",
        "\treturn model"
      ]
    },
    {
      "cell_type": "code",
      "execution_count": 5,
      "metadata": {
        "id": "3FW5ip4wmwjB"
      },
      "outputs": [],
      "source": [
        "def build_model_2(width, height, classes):\n",
        "\tinputShape = (width,height)\n",
        "\tmodel = Sequential([\n",
        "\t\tFlatten(input_shape = inputShape),\n",
        "    Dense(392,activation = 'relu'),\n",
        "\t\tDense(classes, activation= \"softmax\")\n",
        "\t])\n",
        "\treturn model"
      ]
    },
    {
      "cell_type": "code",
      "execution_count": 6,
      "metadata": {
        "colab": {
          "base_uri": "https://localhost:8080/"
        },
        "id": "4rt4G6Idp5jg",
        "outputId": "2d313a51-307a-4383-ecc2-4d548d46134c"
      },
      "outputs": [
        {
          "output_type": "stream",
          "name": "stdout",
          "text": [
            "[INFO] creating model...\n"
          ]
        }
      ],
      "source": [
        "EPOCHS = 50\n",
        "BS = 32\n",
        "INIT_LR = 1e-2\n",
        "print(\"[INFO] creating model...\")\n",
        "model1= build_model_1(14,28,1)\n",
        "model2= build_model_1(14,28,1)\n",
        "model3= build_model_2(128,1,784)\n",
        "opt = Adam(learning_rate=INIT_LR, decay=INIT_LR / EPOCHS)"
      ]
    },
    {
      "cell_type": "code",
      "execution_count": 7,
      "metadata": {
        "id": "dHnoeKgaq593"
      },
      "outputs": [],
      "source": [
        "def step(X1,X2,y):\n",
        "    \n",
        "    with tf.GradientTape(persistent=True) as tape:\n",
        "      pred1 = model1(X1)\n",
        "      pred2 = model2(X2)\n",
        "      \n",
        "      X3 = tf.keras.layers.concatenate([pred1,pred2])\n",
        "      \n",
        "      pred3 = model3(X3)\n",
        "      #print(len(pred3))\n",
        "      loss = binary_crossentropy(y, pred3)\n",
        "      #print(\"loss is = \",loss)\n",
        "    grads3 = tape.gradient(loss, model3.trainable_variables)\n",
        "    #print(len(grads3))\n",
        "    grads1 = tape.gradient(loss, model1.trainable_variables)\n",
        "    grads2 = tape.gradient(loss, model2.trainable_variables)\n",
        "    #grads1 = tape.gradient(grads3[:int(len(grads3)/2)], model1.trainable_variables)\n",
        "    #grads2 = tape.gradient(grads3[int(len(grads3)/2):], model2.trainable_variables)\n",
        "    \n",
        "    #print(\"loss is = \",grads1)\n",
        "    \n",
        "    #grads2 = tape.gradient(grads3, model2.trainable_variables)\n",
        "    opt.apply_gradients(zip(grads3, model3.trainable_variables))\n",
        "    #\n",
        "    \n",
        "    \n",
        "    opt.apply_gradients(zip(grads1, model1.trainable_variables))\n",
        "    opt.apply_gradients(zip(grads2, model2.trainable_variables)) \n",
        "    loss_sum=[]\n",
        "    loss_sum = sum(loss)\n",
        "    return loss_sum"
      ]
    },
    {
      "cell_type": "code",
      "execution_count": 8,
      "metadata": {
        "colab": {
          "base_uri": "https://localhost:8080/"
        },
        "id": "d4eAav-zq6x1",
        "outputId": "9428922e-0d1b-4f37-c949-c5e6575b3d25"
      },
      "outputs": [
        {
          "output_type": "stream",
          "name": "stdout",
          "text": [
            "[INFO] starting epoch 1/50...took 1.516 minutes\n",
            "[INFO] starting epoch 2/50...took 1.367 minutes\n",
            "[INFO] starting epoch 3/50...took 1.324 minutes\n",
            "[INFO] starting epoch 4/50...took 1.328 minutes\n",
            "[INFO] starting epoch 5/50...took 1.329 minutes\n",
            "[INFO] starting epoch 6/50...took 1.325 minutes\n",
            "[INFO] starting epoch 7/50...took 1.323 minutes\n",
            "[INFO] starting epoch 8/50...took 1.374 minutes\n",
            "[INFO] starting epoch 9/50...took 1.333 minutes\n",
            "[INFO] starting epoch 10/50...took 1.331 minutes\n",
            "[INFO] starting epoch 11/50...took 1.311 minutes\n",
            "[INFO] starting epoch 12/50...took 1.302 minutes\n",
            "[INFO] starting epoch 13/50...took 1.314 minutes\n",
            "[INFO] starting epoch 14/50...took 1.309 minutes\n",
            "[INFO] starting epoch 15/50...took 1.308 minutes\n",
            "[INFO] starting epoch 16/50...took 1.308 minutes\n",
            "[INFO] starting epoch 17/50...took 1.298 minutes\n",
            "[INFO] starting epoch 18/50...took 1.307 minutes\n",
            "[INFO] starting epoch 19/50...took 1.297 minutes\n",
            "[INFO] starting epoch 20/50...took 1.31 minutes\n",
            "[INFO] starting epoch 21/50...took 1.338 minutes\n",
            "[INFO] starting epoch 22/50...took 1.317 minutes\n",
            "[INFO] starting epoch 23/50...took 1.309 minutes\n",
            "[INFO] starting epoch 24/50...took 1.3 minutes\n",
            "[INFO] starting epoch 25/50...took 1.302 minutes\n",
            "[INFO] starting epoch 26/50...took 1.289 minutes\n",
            "[INFO] starting epoch 27/50...took 1.303 minutes\n",
            "[INFO] starting epoch 28/50...took 1.302 minutes\n",
            "[INFO] starting epoch 29/50...took 1.298 minutes\n",
            "[INFO] starting epoch 30/50...took 1.296 minutes\n",
            "[INFO] starting epoch 31/50...took 1.289 minutes\n",
            "[INFO] starting epoch 32/50...took 1.285 minutes\n",
            "[INFO] starting epoch 33/50...took 1.289 minutes\n",
            "[INFO] starting epoch 34/50...took 1.304 minutes\n",
            "[INFO] starting epoch 35/50...took 1.284 minutes\n",
            "[INFO] starting epoch 36/50...took 1.299 minutes\n",
            "[INFO] starting epoch 37/50...took 1.304 minutes\n",
            "[INFO] starting epoch 38/50...took 1.297 minutes\n",
            "[INFO] starting epoch 39/50...took 1.289 minutes\n",
            "[INFO] starting epoch 40/50...took 1.292 minutes\n",
            "[INFO] starting epoch 41/50...took 1.299 minutes\n",
            "[INFO] starting epoch 42/50...took 1.289 minutes\n",
            "[INFO] starting epoch 43/50...took 1.297 minutes\n",
            "[INFO] starting epoch 44/50...took 1.294 minutes\n",
            "[INFO] starting epoch 45/50...took 1.304 minutes\n",
            "[INFO] starting epoch 46/50...took 1.308 minutes\n",
            "[INFO] starting epoch 47/50...took 1.294 minutes\n",
            "[INFO] starting epoch 48/50...took 1.305 minutes\n",
            "[INFO] starting epoch 49/50...took 1.307 minutes\n",
            "[INFO] starting epoch 50/50...took 1.33 minutes\n",
            "[0.10735, 0.08203333333333333, 0.0767, 0.0742, 0.0727, 0.07166666666666667, 0.07093333333333333, 0.07038333333333334, 0.06993333333333333, 0.06958333333333333, 0.06928333333333334, 0.06903333333333334, 0.06883333333333333, 0.06865, 0.0685, 0.06836666666666667, 0.06823333333333333, 0.06813333333333334, 0.06803333333333333, 0.06795, 0.06786666666666667, 0.0678, 0.06773333333333334, 0.06765, 0.0676, 0.06753333333333333, 0.06748333333333334, 0.06743333333333333, 0.06738333333333334, 0.06735, 0.06731666666666666, 0.06726666666666667, 0.06723333333333334, 0.0672, 0.06716666666666667, 0.06713333333333334, 0.06711666666666667, 0.06708333333333333, 0.06706666666666666, 0.06703333333333333, 0.06701666666666667, 0.06698333333333334, 0.06696666666666666, 0.06695, 0.06693333333333333, 0.0669, 0.06688333333333334, 0.06686666666666667, 0.06685, 0.06683333333333333]\n"
          ]
        }
      ],
      "source": [
        "#numUpdates = int(trainX.shape[0] / BS)\n",
        "numUpdates = int(trainX.shape[0] / BS)\n",
        "tot_loss=[]\n",
        "for epoch in range(0, EPOCHS):\n",
        "\tprint(\"[INFO] starting epoch {}/{}...\".format(epoch + 1, EPOCHS), end=\"\")\n",
        "\tsys.stdout.flush()\n",
        "\tepochStart = time.time()\n",
        "\tloss_epoch = 0\n",
        "\tfor i in range(0, numUpdates):\n",
        "\t\t#print()\n",
        "\t\t\n",
        "\t\tstart = i * BS\n",
        "\t\tend = start + BS\n",
        "\t\t#print(\"inp_1 = \",input_1[start:end])\n",
        "\t\t#print(\"inp_2 = \",input_2[start:end])\n",
        "\t\t#print(\"epoch and i is = \",epoch,i)\n",
        "\t\tloss_each_BS = step(input_1[start:end],input_2[start:end], trainY[start:end])\n",
        "\t\tloss_epoch += loss_each_BS\n",
        "\ttot_loss.append(int(loss_epoch)/60000)\n",
        "\tepochEnd = time.time()\n",
        "\telapsed = (epochEnd - epochStart) / 60.0\n",
        "\tprint(\"took {:.4} minutes\".format(elapsed))\n",
        "print(tot_loss)"
      ]
    },
    {
      "cell_type": "code",
      "source": [
        "plt.figure(figsize=(10, 7))\n",
        "plt.plot(tot_loss)\n",
        "plt.xlabel(\"Epochs\")\n",
        "plt.ylabel(\"loss\")\n",
        "plt.legend([\"train loss\"])\n",
        "plt.savefig(\"loss_Four.jpg\")"
      ],
      "metadata": {
        "colab": {
          "base_uri": "https://localhost:8080/",
          "height": 442
        },
        "id": "gN-JoP6ETURl",
        "outputId": "13591432-69db-4b43-cf4a-129ab07ddbda"
      },
      "execution_count": 9,
      "outputs": [
        {
          "output_type": "display_data",
          "data": {
            "text/plain": [
              "<Figure size 720x504 with 1 Axes>"
            ],
            "image/png": "[encoded data removed]"
          },
          "metadata": {
            "needs_background": "light"
          }
        }
      ]
    },
    {
      "cell_type": "code",
      "source": [
        "model1.summary()"
      ],
      "metadata": {
        "colab": {
          "base_uri": "https://localhost:8080/"
        },
        "id": "8HoIlH7ePkM9",
        "outputId": "8b8f3874-dcd0-45ea-f027-b78a00a150e8"
      },
      "execution_count": 10,
      "outputs": [
        {
          "output_type": "stream",
          "name": "stdout",
          "text": [
            "Model: \"sequential\"\n",
            "_________________________________________________________________\n",
            " Layer (type)                Output Shape              Param #   \n",
            "=================================================================\n",
            " flatten (Flatten)           (None, 392)               0         \n",
            "                                                                 \n",
            " dense (Dense)               (None, 64)                25152     \n",
            "                                                                 \n",
            "=================================================================\n",
            "Total params: 25,152\n",
            "Trainable params: 25,152\n",
            "Non-trainable params: 0\n",
            "_________________________________________________________________\n"
          ]
        }
      ]
    },
    {
      "cell_type": "code",
      "source": [
        "model3.summary()"
      ],
      "metadata": {
        "colab": {
          "base_uri": "https://localhost:8080/"
        },
        "id": "3tRNQ_0CE62G",
        "outputId": "e49f8321-95af-4e48-f08e-71e30db2160f"
      },
      "execution_count": 11,
      "outputs": [
        {
          "output_type": "stream",
          "name": "stdout",
          "text": [
            "Model: \"sequential_2\"\n",
            "_________________________________________________________________\n",
            " Layer (type)                Output Shape              Param #   \n",
            "=================================================================\n",
            " flatten_2 (Flatten)         (None, 128)               0         \n",
            "                                                                 \n",
            " dense_2 (Dense)             (None, 392)               50568     \n",
            "                                                                 \n",
            " dense_3 (Dense)             (None, 784)               308112    \n",
            "                                                                 \n",
            "=================================================================\n",
            "Total params: 358,680\n",
            "Trainable params: 358,680\n",
            "Non-trainable params: 0\n",
            "_________________________________________________________________\n"
          ]
        }
      ]
    },
    {
      "cell_type": "code",
      "source": [
        "input_test_1 = (testX[:,:14,:])\n",
        "input_test_2 = (testX[:,14:28,:])"
      ],
      "metadata": {
        "id": "PHqhARv0PpEV"
      },
      "execution_count": 12,
      "outputs": []
    },
    {
      "cell_type": "code",
      "source": [
        "def step1(X1,X2,y):\n",
        "    with tf.GradientTape(persistent=True) as tape:\n",
        "      pred11 = model1(X1)\n",
        "      pred22 = model2(X2)\n",
        "      \n",
        "      X3 = tf.keras.layers.concatenate([pred11,pred22])\n",
        "      \n",
        "      pred33 = model3(X3)\n",
        "      #print(len(pred3))\n",
        "      loss = binary_crossentropy(y, pred33)\n",
        "      loss_sum=[]\n",
        "      loss_sum = sum(loss)\n",
        "      print(int(loss_sum)/10000)\n",
        "      return pred33"
      ],
      "metadata": {
        "id": "HxvpuW-3FBAp"
      },
      "execution_count": 13,
      "outputs": []
    },
    {
      "cell_type": "code",
      "source": [
        "out = step1(input_test_1[0:9999],input_test_2[0:9999], testY[0:9999])"
      ],
      "metadata": {
        "id": "7_fq-0KqFDU7",
        "colab": {
          "base_uri": "https://localhost:8080/"
        },
        "outputId": "3c0b1c37-56ab-4870-97c3-5e5ce02ab469"
      },
      "execution_count": 14,
      "outputs": [
        {
          "output_type": "stream",
          "name": "stdout",
          "text": [
            "0.0671\n"
          ]
        }
      ]
    },
    {
      "cell_type": "code",
      "source": [
        "n = 10\n",
        "plt.figure(figsize=(20, 4))\n",
        "for i in range(n):\n",
        "  # display original\n",
        "  ax = plt.subplot(2, n, i + 1)\n",
        "  predictd_output = tf.reshape(out[i],[28,28])\n",
        "  input_given = tf.reshape(testY[i],[28,28])\n",
        "  plt.imshow(input_given)\n",
        "  plt.title(\"input_img\")\n",
        "  plt.gray()\n",
        "\n",
        "  ax.get_xaxis().set_visible(False)\n",
        "  ax.get_yaxis().set_visible(False)\n",
        "\n",
        "  # display reconstruction\n",
        "  ax = plt.subplot(2, n, i + 1 + n)\n",
        "  plt.imshow(predictd_output)\n",
        "  plt.title(\"decoded_img\")\n",
        "  plt.gray()\n",
        "  ax.get_xaxis().set_visible(False)\n",
        "  ax.get_yaxis().set_visible(False)\n",
        "plt.savefig(\"decoded_396_192_2_epoch.png\")\n",
        "plt.show()"
      ],
      "metadata": {
        "colab": {
          "base_uri": "https://localhost:8080/",
          "height": 223
        },
        "id": "93AjiNi9Gu-U",
        "outputId": "ffa5dda5-58f3-4508-d365-7543e4f9259b"
      },
      "execution_count": 15,
      "outputs": [
        {
          "output_type": "display_data",
          "data": {
            "text/plain": [
              "<Figure size 1440x288 with 20 Axes>"
            ],
            "image/png": "[encoded data removed]"
          },
          "metadata": {
            "needs_background": "light"
          }
        }
      ]
    },
    {
      "cell_type": "code",
      "source": [
        "\n"
      ],
      "metadata": {
        "id": "MSb171HjXOHt"
      },
      "execution_count": 15,
      "outputs": []
    }
  ],
  "metadata": {
    "accelerator": "GPU",
    "colab": {
      "collapsed_sections": [],
      "provenance": [],
      "authorship_tag": "ABX9TyOxOGyVFqjvLY01Iz5Q1iws",
      "include_colab_link": true
    },
    "gpuClass": "standard",
    "kernelspec": {
      "display_name": "Python 3",
      "name": "python3"
    },
    "language_info": {
      "name": "python"
    }
  },
  "nbformat": 4,
  "nbformat_minor": 0
}