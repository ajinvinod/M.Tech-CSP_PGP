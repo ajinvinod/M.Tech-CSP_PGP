{
  "cells": [
    {
      "cell_type": "markdown",
      "metadata": {
        "id": "view-in-github",
        "colab_type": "text"
      },
      "source": [
        "<a href=\"https://colab.research.google.com/github/ajinvinodk/M.Tech-CSP_PGP/blob/main/model_Epoch100_BS32_DENSE392_LR_0_0001.ipynb\" target=\"_parent\"><img src=\"https://colab.research.google.com/assets/colab-badge.svg\" alt=\"Open In Colab\"/></a>"
      ]
    },
    {
      "cell_type": "code",
      "execution_count": 3,
      "metadata": {
        "id": "wG1UB9mwmabV"
      },
      "outputs": [],
      "source": [
        "from tensorflow.keras.datasets import mnist\n",
        "import tensorflow as tf\n",
        "import numpy as np\n",
        "import time\n",
        "import sys\n",
        "import matplotlib.pyplot as plt\n",
        "from tensorflow.keras.models import Sequential\n",
        "#from tensorflow.keras.layers import BatchNormalization\n",
        "#from tensorflow.keras.layers import Conv2D\n",
        "#from tensorflow.keras.layers import MaxPooling2D\n",
        "from tensorflow.keras.layers import Activation\n",
        "from tensorflow.keras.layers import Flatten\n",
        "from tensorflow.keras.layers import Dropout\n",
        "from tensorflow.keras.layers import Dense\n",
        "from tensorflow.keras.optimizers import Adam\n",
        "from tensorflow.keras.losses import categorical_crossentropy\n",
        "from tensorflow.keras.losses import binary_crossentropy\n",
        "#from tensorflow.keras.utils import to_categorical"
      ]
    },
    {
      "cell_type": "code",
      "source": [
        "from google.colab import drive\n",
        "drive.mount('/content/drive')"
      ],
      "metadata": {
        "id": "GhwiwiyZxWuw",
        "colab": {
          "base_uri": "https://localhost:8080/"
        },
        "outputId": "3842af2b-b036-493e-f991-d7a365cd63d6"
      },
      "execution_count": 4,
      "outputs": [
        {
          "output_type": "stream",
          "name": "stdout",
          "text": [
            "Mounted at /content/drive\n"
          ]
        }
      ]
    },
    {
      "cell_type": "code",
      "execution_count": 5,
      "metadata": {
        "id": "k6ryK8pPmcOv",
        "colab": {
          "base_uri": "https://localhost:8080/"
        },
        "outputId": "ded9c24a-dcba-40b8-a260-eabc558709f7"
      },
      "outputs": [
        {
          "output_type": "stream",
          "name": "stdout",
          "text": [
            "Downloading data from https://storage.googleapis.com/tensorflow/tf-keras-datasets/mnist.npz\n",
            "11493376/11490434 [==============================] - 0s 0us/step\n",
            "11501568/11490434 [==============================] - 0s 0us/step\n"
          ]
        }
      ],
      "source": [
        "((trainX, trainY), (testX, testY)) = mnist.load_data()\n",
        "trainX = trainX.astype(\"float32\") / 255.0\n",
        "testX = testX.astype(\"float32\") / 255.0\n",
        "trainY = trainX.reshape(60000,784)\n",
        "testY = testX.reshape(10000,784)\n",
        "input_1 = (trainX[:,:14,:])\n",
        "input_2 = (trainX[:,14:28,:])"
      ]
    },
    {
      "cell_type": "code",
      "execution_count": 6,
      "metadata": {
        "id": "YHUsswi7mvb3"
      },
      "outputs": [],
      "source": [
        "def build_model_1(width, height, depth):\n",
        "\tinputShape = (width,height, depth)\t\n",
        "\tmodel = Sequential([\n",
        "\t\tFlatten(input_shape = inputShape),\n",
        "    Dense(392,activation = 'relu')\n",
        "\t])\n",
        "\treturn model"
      ]
    },
    {
      "cell_type": "code",
      "execution_count": 7,
      "metadata": {
        "id": "3FW5ip4wmwjB"
      },
      "outputs": [],
      "source": [
        "def build_model_2(width, height, classes):\n",
        "\tinputShape = (width,height)\n",
        "\tmodel = Sequential([\n",
        "\t\tFlatten(input_shape = inputShape),\n",
        "    Dense(784,activation = 'relu'),\n",
        "\t\tDense(classes, activation= \"softmax\")\n",
        "\t])\n",
        "\treturn model"
      ]
    },
    {
      "cell_type": "code",
      "execution_count": 8,
      "metadata": {
        "colab": {
          "base_uri": "https://localhost:8080/"
        },
        "id": "4rt4G6Idp5jg",
        "outputId": "175e06b0-688f-47f7-a4bb-2d350adbcde3"
      },
      "outputs": [
        {
          "output_type": "stream",
          "name": "stdout",
          "text": [
            "[INFO] creating model...\n"
          ]
        }
      ],
      "source": [
        "EPOCHS = 100\n",
        "BS = 32\n",
        "INIT_LR = 1e-4\n",
        "print(\"[INFO] creating model...\")\n",
        "model1= build_model_1(14,28,1)\n",
        "model2= build_model_1(14,28,1)\n",
        "model3= build_model_2(784,1,784)\n",
        "opt = Adam(learning_rate=INIT_LR, decay=INIT_LR / EPOCHS)"
      ]
    },
    {
      "cell_type": "code",
      "execution_count": 9,
      "metadata": {
        "id": "dHnoeKgaq593"
      },
      "outputs": [],
      "source": [
        "def step(X1,X2,y):\n",
        "    with tf.GradientTape(persistent=True) as tape:\n",
        "      pred1 = model1(X1)\n",
        "      pred2 = model2(X2)\n",
        "      \n",
        "      X3 = tf.keras.layers.concatenate([pred1,pred2])\n",
        "      \n",
        "      pred3 = model3(X3)\n",
        "      #print(len(pred3))\n",
        "      loss = binary_crossentropy(y, pred3)\n",
        "    \n",
        "    grads3 = tape.gradient(loss, model3.trainable_variables)\n",
        "    #print(len(grads3))\n",
        "    grads1 = tape.gradient(loss, model1.trainable_variables)\n",
        "    grads2 = tape.gradient(loss, model2.trainable_variables)\n",
        "    #grads1 = tape.gradient(grads3[:int(len(grads3)/2)], model1.trainable_variables)\n",
        "    #grads2 = tape.gradient(grads3[int(len(grads3)/2):], model2.trainable_variables)\n",
        "    \n",
        "    #print(\"loss is = \",grads1)\n",
        "    \n",
        "    #grads2 = tape.gradient(grads3, model2.trainable_variables)\n",
        "    opt.apply_gradients(zip(grads3, model3.trainable_variables))\n",
        "    #\n",
        "    \n",
        "    \n",
        "    opt.apply_gradients(zip(grads1, model1.trainable_variables))\n",
        "    opt.apply_gradients(zip(grads2, model2.trainable_variables)) "
      ]
    },
    {
      "cell_type": "code",
      "execution_count": 10,
      "metadata": {
        "colab": {
          "base_uri": "https://localhost:8080/"
        },
        "id": "d4eAav-zq6x1",
        "outputId": "e8b51b0f-05a2-4adf-cd94-f7ada0500b44"
      },
      "outputs": [
        {
          "output_type": "stream",
          "name": "stdout",
          "text": [
            "[INFO] starting epoch 1/100...took 2.095 minutes\n",
            "[INFO] starting epoch 2/100...took 1.932 minutes\n",
            "[INFO] starting epoch 3/100...took 1.914 minutes\n",
            "[INFO] starting epoch 4/100...took 1.881 minutes\n",
            "[INFO] starting epoch 5/100...took 1.877 minutes\n",
            "[INFO] starting epoch 6/100...took 1.936 minutes\n",
            "[INFO] starting epoch 7/100...took 1.898 minutes\n",
            "[INFO] starting epoch 8/100...took 1.909 minutes\n",
            "[INFO] starting epoch 9/100...took 1.881 minutes\n",
            "[INFO] starting epoch 10/100...took 1.855 minutes\n",
            "[INFO] starting epoch 11/100...took 1.866 minutes\n",
            "[INFO] starting epoch 12/100...took 1.862 minutes\n",
            "[INFO] starting epoch 13/100...took 1.873 minutes\n",
            "[INFO] starting epoch 14/100...took 1.876 minutes\n",
            "[INFO] starting epoch 15/100...took 1.901 minutes\n",
            "[INFO] starting epoch 16/100...took 1.891 minutes\n",
            "[INFO] starting epoch 17/100...took 1.912 minutes\n",
            "[INFO] starting epoch 18/100...took 1.966 minutes\n",
            "[INFO] starting epoch 19/100...took 1.972 minutes\n",
            "[INFO] starting epoch 20/100...took 1.932 minutes\n",
            "[INFO] starting epoch 21/100...took 1.922 minutes\n",
            "[INFO] starting epoch 22/100...took 1.923 minutes\n",
            "[INFO] starting epoch 23/100...took 1.958 minutes\n",
            "[INFO] starting epoch 24/100...took 2.015 minutes\n",
            "[INFO] starting epoch 25/100...took 1.985 minutes\n",
            "[INFO] starting epoch 26/100...took 1.978 minutes\n",
            "[INFO] starting epoch 27/100...took 1.984 minutes\n",
            "[INFO] starting epoch 28/100...took 1.988 minutes\n",
            "[INFO] starting epoch 29/100...took 1.989 minutes\n",
            "[INFO] starting epoch 30/100...took 1.956 minutes\n",
            "[INFO] starting epoch 31/100...took 1.938 minutes\n",
            "[INFO] starting epoch 32/100...took 1.946 minutes\n",
            "[INFO] starting epoch 33/100...took 1.957 minutes\n",
            "[INFO] starting epoch 34/100...took 2.013 minutes\n",
            "[INFO] starting epoch 35/100...took 2.13 minutes\n",
            "[INFO] starting epoch 36/100...took 2.075 minutes\n",
            "[INFO] starting epoch 37/100...took 2.09 minutes\n",
            "[INFO] starting epoch 38/100...took 2.075 minutes\n",
            "[INFO] starting epoch 39/100...took 2.07 minutes\n",
            "[INFO] starting epoch 40/100...took 2.09 minutes\n",
            "[INFO] starting epoch 41/100...took 2.041 minutes\n",
            "[INFO] starting epoch 42/100...took 2.102 minutes\n",
            "[INFO] starting epoch 43/100...took 2.116 minutes\n",
            "[INFO] starting epoch 44/100...took 2.122 minutes\n",
            "[INFO] starting epoch 45/100...took 2.083 minutes\n",
            "[INFO] starting epoch 46/100...took 2.152 minutes\n",
            "[INFO] starting epoch 47/100...took 2.128 minutes\n",
            "[INFO] starting epoch 48/100...took 2.096 minutes\n",
            "[INFO] starting epoch 49/100...took 2.121 minutes\n",
            "[INFO] starting epoch 50/100...took 2.139 minutes\n",
            "[INFO] starting epoch 51/100...took 2.085 minutes\n",
            "[INFO] starting epoch 52/100...took 2.089 minutes\n",
            "[INFO] starting epoch 53/100...took 2.07 minutes\n",
            "[INFO] starting epoch 54/100...took 2.086 minutes\n",
            "[INFO] starting epoch 55/100...took 2.076 minutes\n",
            "[INFO] starting epoch 56/100...took 2.094 minutes\n",
            "[INFO] starting epoch 57/100...took 2.088 minutes\n",
            "[INFO] starting epoch 58/100...took 2.049 minutes\n",
            "[INFO] starting epoch 59/100...took 2.087 minutes\n",
            "[INFO] starting epoch 60/100...took 2.055 minutes\n",
            "[INFO] starting epoch 61/100...took 2.048 minutes\n",
            "[INFO] starting epoch 62/100...took 2.053 minutes\n",
            "[INFO] starting epoch 63/100...took 2.063 minutes\n",
            "[INFO] starting epoch 64/100...took 2.033 minutes\n",
            "[INFO] starting epoch 65/100...took 2.086 minutes\n",
            "[INFO] starting epoch 66/100...took 2.081 minutes\n",
            "[INFO] starting epoch 67/100...took 2.093 minutes\n",
            "[INFO] starting epoch 68/100...took 2.11 minutes\n",
            "[INFO] starting epoch 69/100...took 2.092 minutes\n",
            "[INFO] starting epoch 70/100...took 2.093 minutes\n",
            "[INFO] starting epoch 71/100...took 2.077 minutes\n",
            "[INFO] starting epoch 72/100...took 2.065 minutes\n",
            "[INFO] starting epoch 73/100...took 2.163 minutes\n",
            "[INFO] starting epoch 74/100...took 2.065 minutes\n",
            "[INFO] starting epoch 75/100...took 2.063 minutes\n",
            "[INFO] starting epoch 76/100...took 2.052 minutes\n",
            "[INFO] starting epoch 77/100...took 2.073 minutes\n",
            "[INFO] starting epoch 78/100...took 2.077 minutes\n",
            "[INFO] starting epoch 79/100...took 2.09 minutes\n",
            "[INFO] starting epoch 80/100...took 2.108 minutes\n",
            "[INFO] starting epoch 81/100...took 2.095 minutes\n",
            "[INFO] starting epoch 82/100...took 2.055 minutes\n",
            "[INFO] starting epoch 83/100...took 2.11 minutes\n",
            "[INFO] starting epoch 84/100...took 2.109 minutes\n",
            "[INFO] starting epoch 85/100...took 2.059 minutes\n",
            "[INFO] starting epoch 86/100...took 2.063 minutes\n",
            "[INFO] starting epoch 87/100...took 2.067 minutes\n",
            "[INFO] starting epoch 88/100...took 2.059 minutes\n",
            "[INFO] starting epoch 89/100...took 2.073 minutes\n",
            "[INFO] starting epoch 90/100...took 2.061 minutes\n",
            "[INFO] starting epoch 91/100...took 2.038 minutes\n",
            "[INFO] starting epoch 92/100...took 2.038 minutes\n",
            "[INFO] starting epoch 93/100...took 2.041 minutes\n",
            "[INFO] starting epoch 94/100...took 2.039 minutes\n",
            "[INFO] starting epoch 95/100...took 2.07 minutes\n",
            "[INFO] starting epoch 96/100...took 2.053 minutes\n",
            "[INFO] starting epoch 97/100...took 2.056 minutes\n",
            "[INFO] starting epoch 98/100...took 2.119 minutes\n",
            "[INFO] starting epoch 99/100...took 2.06 minutes\n",
            "[INFO] starting epoch 100/100...took 2.072 minutes\n"
          ]
        }
      ],
      "source": [
        "#numUpdates = int(trainX.shape[0] / BS)\n",
        "numUpdates = int(trainX.shape[0] / BS)\n",
        "for epoch in range(0, EPOCHS):\n",
        "\tprint(\"[INFO] starting epoch {}/{}...\".format(epoch + 1, EPOCHS), end=\"\")\n",
        "\tsys.stdout.flush()\n",
        "\tepochStart = time.time()\n",
        "\tfor i in range(0, numUpdates):\n",
        "\t\t#print()\n",
        "\t\t\n",
        "\t\tstart = i * BS\n",
        "\t\tend = start + BS\n",
        "\t\t#print(\"inp_1 = \",input_1[start:end])\n",
        "\t\t#print(\"inp_2 = \",input_2[start:end])\n",
        "\t\tstep(input_1[start:end],input_2[start:end], trainY[start:end])\n",
        "\tepochEnd = time.time()\n",
        "\telapsed = (epochEnd - epochStart) / 60.0\n",
        "\tprint(\"took {:.4} minutes\".format(elapsed))"
      ]
    },
    {
      "cell_type": "code",
      "execution_count": 11,
      "metadata": {
        "id": "D0UmOctKk74i"
      },
      "outputs": [],
      "source": [
        "# in order to calculate accuracy using Keras' functions we first need\n",
        "# to compile the model\n",
        "#model.compile(optimizer=opt, loss=categorical_crossentropy,\n",
        "\t#metrics=[\"acc\"])\n",
        "# now that the model is compiled we can compute the accuracy\n",
        "#(loss, acc) = model.evaluate(testX, testY)\n",
        "#print(\"[INFO] test accuracy: {:.4f}\".format(acc))"
      ]
    },
    {
      "cell_type": "code",
      "execution_count": 12,
      "metadata": {
        "id": "MX4iO_GhBb8h"
      },
      "outputs": [],
      "source": [
        "input_test_1 = (testX[:,:14,:])\n",
        "input_test_2 = (testX[:,14:28,:])"
      ]
    },
    {
      "cell_type": "code",
      "execution_count": 13,
      "metadata": {
        "id": "LerD0YaS_NMr"
      },
      "outputs": [],
      "source": [
        "def step1(X1,X2,y):\n",
        "    with tf.GradientTape(persistent=True) as tape:\n",
        "      pred11 = model1(X1)\n",
        "      pred22 = model2(X2)\n",
        "      \n",
        "      X3 = tf.keras.layers.concatenate([pred11,pred22])\n",
        "      \n",
        "      pred33 = model3(X3)\n",
        "      #print(len(pred3))\n",
        "      loss = binary_crossentropy(y, pred33)\n",
        "      return pred33"
      ]
    },
    {
      "cell_type": "code",
      "execution_count": 14,
      "metadata": {
        "id": "TgYZZbTWBrjp"
      },
      "outputs": [],
      "source": [
        "out = step1(input_test_1[0:31],input_test_2[0:31], testY[0:31])"
      ]
    },
    {
      "cell_type": "code",
      "execution_count": 15,
      "metadata": {
        "id": "jPiQQLW4EoK9"
      },
      "outputs": [],
      "source": [
        "predictd_output = tf.reshape(out[4],[28,28])\n",
        "input_given = tf.reshape(testY[4],[28,28])"
      ]
    },
    {
      "cell_type": "code",
      "execution_count": 16,
      "metadata": {
        "colab": {
          "base_uri": "https://localhost:8080/",
          "height": 268
        },
        "id": "xRoi9eqe25Fg",
        "outputId": "13fc21a6-ef5d-41cd-dbed-fcba1fca7b23"
      },
      "outputs": [
        {
          "output_type": "display_data",
          "data": {
            "text/plain": [
              "<Figure size 720x288 with 2 Axes>"
            ],
            "image/png": "[encoded data removed]"
          },
          "metadata": {
            "needs_background": "light"
          }
        }
      ],
      "source": [
        "plt.figure(figsize=(10, 4))\n",
        "# display original\n",
        "ax = plt.subplot(1, 2, 1)\n",
        "plt.imshow(input_given)\n",
        "plt.title(\"input_given\")\n",
        "plt.gray()\n",
        "ax.get_xaxis().set_visible(False)\n",
        "ax.get_yaxis().set_visible(False)\n",
        "\n",
        "ax = plt.subplot(1, 2, 2)\n",
        "plt.imshow(predictd_output)\n",
        "plt.title(\"predictd_output\")\n",
        "plt.gray()\n",
        "ax.get_xaxis().set_visible(False)\n",
        "ax.get_yaxis().set_visible(False)"
      ]
    },
    {
      "cell_type": "code",
      "source": [
        "n = 10\n",
        "plt.figure(figsize=(20, 4))\n",
        "for i in range(n):\n",
        "  # display original\n",
        "  ax = plt.subplot(2, n, i + 1)\n",
        "  predictd_output = tf.reshape(out[i],[28,28])\n",
        "  input_given = tf.reshape(testY[i],[28,28])\n",
        "  plt.imshow(input_given)\n",
        "  plt.title(\"input_img\")\n",
        "  plt.gray()\n",
        "\n",
        "  ax.get_xaxis().set_visible(False)\n",
        "  ax.get_yaxis().set_visible(False)\n",
        "\n",
        "  # display reconstruction\n",
        "  ax = plt.subplot(2, n, i + 1 + n)\n",
        "  plt.imshow(predictd_output)\n",
        "  plt.title(\"decoded_img\")\n",
        "  plt.gray()\n",
        "  ax.get_xaxis().set_visible(False)\n",
        "  ax.get_yaxis().set_visible(False)\n",
        "plt.savefig(\"decoded_396_192_2_epoch.png\")\n",
        "plt.show()"
      ],
      "metadata": {
        "colab": {
          "base_uri": "https://localhost:8080/",
          "height": 264
        },
        "id": "8kW8IfMTQBt6",
        "outputId": "9cda82a1-001b-4e97-e88e-70b83030edac"
      },
      "execution_count": 17,
      "outputs": [
        {
          "output_type": "display_data",
          "data": {
            "text/plain": [
              "<Figure size 1440x288 with 20 Axes>"
            ],
            "image/png": "[encoded data removed]"
          },
          "metadata": {
            "needs_background": "light"
          }
        }
      ]
    }
  ],
  "metadata": {
    "colab": {
      "collapsed_sections": [],
      "name": "model_Epoch100_BS32_DENSE392_LR_0.0001.ipynb",
      "provenance": [],
      "authorship_tag": "ABX9TyObCz1umfnYXz1wWJgVuwED",
      "include_colab_link": true
    },
    "gpuClass": "standard",
    "kernelspec": {
      "display_name": "Python 3",
      "name": "python3"
    },
    "language_info": {
      "name": "python"
    }
  },
  "nbformat": 4,
  "nbformat_minor": 0
}